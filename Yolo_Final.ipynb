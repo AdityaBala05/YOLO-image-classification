{
  "cells": [
    {
      "cell_type": "markdown",
      "metadata": {
        "id": "view-in-github",
        "colab_type": "text"
      },
      "source": [
        "<a href=\"https://colab.research.google.com/github/AdityaBala05/YOLO-image-classification/blob/main/Yolo_Final.ipynb\" target=\"_parent\"><img src=\"https://colab.research.google.com/assets/colab-badge.svg\" alt=\"Open In Colab\"/></a>"
      ]
    },
    {
      "cell_type": "markdown",
      "metadata": {
        "id": "AjzL8soYgD8S"
      },
      "source": [
        "# YOLO Model for Skin Disease Classification"
      ]
    },
    {
      "cell_type": "markdown",
      "source": [
        "# INDEX\n",
        "=> Model Training\n",
        "*   YOLOv8-cls[n,s,m,l,x]\n",
        "*   YOLO11-cls[n]\n",
        "\n",
        "=> Model Evaluation on val and test data to get accuracy of both\n",
        "\n",
        "=> Calculation of Precision and Recall using values from confusion matrix for both test and val (classwise and overall)\n"
      ],
      "metadata": {
        "id": "J0m8LxlFgO9P"
      }
    },
    {
      "cell_type": "code",
      "execution_count": null,
      "metadata": {
        "colab": {
          "base_uri": "https://localhost:8080/"
        },
        "id": "Vx0_QVzoIyMY",
        "outputId": "3c21290c-ca61-4f60-c7c2-dee04dce4205"
      },
      "outputs": [
        {
          "output_type": "stream",
          "name": "stdout",
          "text": [
            "Collecting ultralytics\n",
            "  Downloading ultralytics-8.3.67-py3-none-any.whl.metadata (35 kB)\n",
            "Requirement already satisfied: numpy>=1.23.0 in /usr/local/lib/python3.11/dist-packages (from ultralytics) (1.26.4)\n",
            "Requirement already satisfied: matplotlib>=3.3.0 in /usr/local/lib/python3.11/dist-packages (from ultralytics) (3.10.0)\n",
            "Requirement already satisfied: opencv-python>=4.6.0 in /usr/local/lib/python3.11/dist-packages (from ultralytics) (4.10.0.84)\n",
            "Requirement already satisfied: pillow>=7.1.2 in /usr/local/lib/python3.11/dist-packages (from ultralytics) (11.1.0)\n",
            "Requirement already satisfied: pyyaml>=5.3.1 in /usr/local/lib/python3.11/dist-packages (from ultralytics) (6.0.2)\n",
            "Requirement already satisfied: requests>=2.23.0 in /usr/local/lib/python3.11/dist-packages (from ultralytics) (2.32.3)\n",
            "Requirement already satisfied: scipy>=1.4.1 in /usr/local/lib/python3.11/dist-packages (from ultralytics) (1.13.1)\n",
            "Requirement already satisfied: torch>=1.8.0 in /usr/local/lib/python3.11/dist-packages (from ultralytics) (2.5.1+cu121)\n",
            "Requirement already satisfied: torchvision>=0.9.0 in /usr/local/lib/python3.11/dist-packages (from ultralytics) (0.20.1+cu121)\n",
            "Requirement already satisfied: tqdm>=4.64.0 in /usr/local/lib/python3.11/dist-packages (from ultralytics) (4.67.1)\n",
            "Requirement already satisfied: psutil in /usr/local/lib/python3.11/dist-packages (from ultralytics) (5.9.5)\n",
            "Requirement already satisfied: py-cpuinfo in /usr/local/lib/python3.11/dist-packages (from ultralytics) (9.0.0)\n",
            "Requirement already satisfied: pandas>=1.1.4 in /usr/local/lib/python3.11/dist-packages (from ultralytics) (2.2.2)\n",
            "Requirement already satisfied: seaborn>=0.11.0 in /usr/local/lib/python3.11/dist-packages (from ultralytics) (0.13.2)\n",
            "Collecting ultralytics-thop>=2.0.0 (from ultralytics)\n",
            "  Downloading ultralytics_thop-2.0.14-py3-none-any.whl.metadata (9.4 kB)\n",
            "Requirement already satisfied: contourpy>=1.0.1 in /usr/local/lib/python3.11/dist-packages (from matplotlib>=3.3.0->ultralytics) (1.3.1)\n",
            "Requirement already satisfied: cycler>=0.10 in /usr/local/lib/python3.11/dist-packages (from matplotlib>=3.3.0->ultralytics) (0.12.1)\n",
            "Requirement already satisfied: fonttools>=4.22.0 in /usr/local/lib/python3.11/dist-packages (from matplotlib>=3.3.0->ultralytics) (4.55.4)\n",
            "Requirement already satisfied: kiwisolver>=1.3.1 in /usr/local/lib/python3.11/dist-packages (from matplotlib>=3.3.0->ultralytics) (1.4.8)\n",
            "Requirement already satisfied: packaging>=20.0 in /usr/local/lib/python3.11/dist-packages (from matplotlib>=3.3.0->ultralytics) (24.2)\n",
            "Requirement already satisfied: pyparsing>=2.3.1 in /usr/local/lib/python3.11/dist-packages (from matplotlib>=3.3.0->ultralytics) (3.2.1)\n",
            "Requirement already satisfied: python-dateutil>=2.7 in /usr/local/lib/python3.11/dist-packages (from matplotlib>=3.3.0->ultralytics) (2.8.2)\n",
            "Requirement already satisfied: pytz>=2020.1 in /usr/local/lib/python3.11/dist-packages (from pandas>=1.1.4->ultralytics) (2024.2)\n",
            "Requirement already satisfied: tzdata>=2022.7 in /usr/local/lib/python3.11/dist-packages (from pandas>=1.1.4->ultralytics) (2025.1)\n",
            "Requirement already satisfied: charset-normalizer<4,>=2 in /usr/local/lib/python3.11/dist-packages (from requests>=2.23.0->ultralytics) (3.4.1)\n",
            "Requirement already satisfied: idna<4,>=2.5 in /usr/local/lib/python3.11/dist-packages (from requests>=2.23.0->ultralytics) (3.10)\n",
            "Requirement already satisfied: urllib3<3,>=1.21.1 in /usr/local/lib/python3.11/dist-packages (from requests>=2.23.0->ultralytics) (2.3.0)\n",
            "Requirement already satisfied: certifi>=2017.4.17 in /usr/local/lib/python3.11/dist-packages (from requests>=2.23.0->ultralytics) (2024.12.14)\n",
            "Requirement already satisfied: filelock in /usr/local/lib/python3.11/dist-packages (from torch>=1.8.0->ultralytics) (3.17.0)\n",
            "Requirement already satisfied: typing-extensions>=4.8.0 in /usr/local/lib/python3.11/dist-packages (from torch>=1.8.0->ultralytics) (4.12.2)\n",
            "Requirement already satisfied: networkx in /usr/local/lib/python3.11/dist-packages (from torch>=1.8.0->ultralytics) (3.4.2)\n",
            "Requirement already satisfied: jinja2 in /usr/local/lib/python3.11/dist-packages (from torch>=1.8.0->ultralytics) (3.1.5)\n",
            "Requirement already satisfied: fsspec in /usr/local/lib/python3.11/dist-packages (from torch>=1.8.0->ultralytics) (2024.10.0)\n",
            "Requirement already satisfied: nvidia-cuda-nvrtc-cu12==12.1.105 in /usr/local/lib/python3.11/dist-packages (from torch>=1.8.0->ultralytics) (12.1.105)\n",
            "Requirement already satisfied: nvidia-cuda-runtime-cu12==12.1.105 in /usr/local/lib/python3.11/dist-packages (from torch>=1.8.0->ultralytics) (12.1.105)\n",
            "Requirement already satisfied: nvidia-cuda-cupti-cu12==12.1.105 in /usr/local/lib/python3.11/dist-packages (from torch>=1.8.0->ultralytics) (12.1.105)\n",
            "Requirement already satisfied: nvidia-cudnn-cu12==9.1.0.70 in /usr/local/lib/python3.11/dist-packages (from torch>=1.8.0->ultralytics) (9.1.0.70)\n",
            "Requirement already satisfied: nvidia-cublas-cu12==12.1.3.1 in /usr/local/lib/python3.11/dist-packages (from torch>=1.8.0->ultralytics) (12.1.3.1)\n",
            "Requirement already satisfied: nvidia-cufft-cu12==11.0.2.54 in /usr/local/lib/python3.11/dist-packages (from torch>=1.8.0->ultralytics) (11.0.2.54)\n",
            "Requirement already satisfied: nvidia-curand-cu12==10.3.2.106 in /usr/local/lib/python3.11/dist-packages (from torch>=1.8.0->ultralytics) (10.3.2.106)\n",
            "Requirement already satisfied: nvidia-cusolver-cu12==11.4.5.107 in /usr/local/lib/python3.11/dist-packages (from torch>=1.8.0->ultralytics) (11.4.5.107)\n",
            "Requirement already satisfied: nvidia-cusparse-cu12==12.1.0.106 in /usr/local/lib/python3.11/dist-packages (from torch>=1.8.0->ultralytics) (12.1.0.106)\n",
            "Requirement already satisfied: nvidia-nccl-cu12==2.21.5 in /usr/local/lib/python3.11/dist-packages (from torch>=1.8.0->ultralytics) (2.21.5)\n",
            "Requirement already satisfied: nvidia-nvtx-cu12==12.1.105 in /usr/local/lib/python3.11/dist-packages (from torch>=1.8.0->ultralytics) (12.1.105)\n",
            "Requirement already satisfied: triton==3.1.0 in /usr/local/lib/python3.11/dist-packages (from torch>=1.8.0->ultralytics) (3.1.0)\n",
            "Requirement already satisfied: sympy==1.13.1 in /usr/local/lib/python3.11/dist-packages (from torch>=1.8.0->ultralytics) (1.13.1)\n",
            "Requirement already satisfied: nvidia-nvjitlink-cu12 in /usr/local/lib/python3.11/dist-packages (from nvidia-cusolver-cu12==11.4.5.107->torch>=1.8.0->ultralytics) (12.6.85)\n",
            "Requirement already satisfied: mpmath<1.4,>=1.1.0 in /usr/local/lib/python3.11/dist-packages (from sympy==1.13.1->torch>=1.8.0->ultralytics) (1.3.0)\n",
            "Requirement already satisfied: six>=1.5 in /usr/local/lib/python3.11/dist-packages (from python-dateutil>=2.7->matplotlib>=3.3.0->ultralytics) (1.17.0)\n",
            "Requirement already satisfied: MarkupSafe>=2.0 in /usr/local/lib/python3.11/dist-packages (from jinja2->torch>=1.8.0->ultralytics) (3.0.2)\n",
            "Downloading ultralytics-8.3.67-py3-none-any.whl (913 kB)\n",
            "\u001b[2K   \u001b[90m━━━━━━━━━━━━━━━━━━━━━━━━━━━━━━━━━━━━━━━━\u001b[0m \u001b[32m913.5/913.5 kB\u001b[0m \u001b[31m14.9 MB/s\u001b[0m eta \u001b[36m0:00:00\u001b[0m\n",
            "\u001b[?25hDownloading ultralytics_thop-2.0.14-py3-none-any.whl (26 kB)\n",
            "Installing collected packages: ultralytics-thop, ultralytics\n",
            "Successfully installed ultralytics-8.3.67 ultralytics-thop-2.0.14\n"
          ]
        }
      ],
      "source": [
        "pip install ultralytics"
      ]
    },
    {
      "cell_type": "markdown",
      "metadata": {
        "id": "p9oGyW0jgcpD"
      },
      "source": [
        "# Importing Libraries and Creating train-test split"
      ]
    },
    {
      "cell_type": "code",
      "execution_count": null,
      "metadata": {
        "colab": {
          "base_uri": "https://localhost:8080/"
        },
        "id": "VurynAR0Iw7r",
        "outputId": "b54d8424-fc22-438a-d122-e9adb91a65b1"
      },
      "outputs": [
        {
          "output_type": "stream",
          "name": "stdout",
          "text": [
            "Creating new Ultralytics Settings v0.0.6 file ✅ \n",
            "View Ultralytics Settings with 'yolo settings' or at '/root/.config/Ultralytics/settings.json'\n",
            "Update Settings with 'yolo settings key=value', i.e. 'yolo settings runs_dir=path/to/dir'. For help see https://docs.ultralytics.com/quickstart/#ultralytics-settings.\n",
            "Mounted at /content/drive\n"
          ]
        }
      ],
      "source": [
        "import os\n",
        "from sklearn.model_selection import train_test_split\n",
        "import shutil\n",
        "import torch\n",
        "from ultralytics import YOLO\n",
        "from google.colab import drive\n",
        "from PIL import Image\n",
        "import matplotlib.pyplot as plt\n",
        "\n",
        "drive.mount('/content/drive')\n",
        "\n",
        "data_path = \"/content/drive/My Drive/Preprocessed/Preprocessed\"\n",
        "output_path = \"/content/processed_dataset\"\n",
        "os.makedirs(output_path, exist_ok=True)\n",
        "\n",
        "for split in ['train', 'val', 'test']:\n",
        "    os.makedirs(os.path.join(output_path, split), exist_ok=True)\n"
      ]
    },
    {
      "cell_type": "code",
      "source": [
        "ls \"/content/processed_dataset\""
      ],
      "metadata": {
        "colab": {
          "base_uri": "https://localhost:8080/"
        },
        "id": "xwMbpjrAdvQN",
        "outputId": "cf089bc5-71a5-4b0c-f56c-1e6a46315795"
      },
      "execution_count": null,
      "outputs": [
        {
          "output_type": "stream",
          "name": "stdout",
          "text": [
            "\u001b[0m\u001b[01;34mtest\u001b[0m/  \u001b[01;34mtrain\u001b[0m/  \u001b[01;34mval\u001b[0m/\n"
          ]
        }
      ]
    },
    {
      "cell_type": "markdown",
      "metadata": {
        "id": "d8fSdlbzgoFp"
      },
      "source": [
        "# Split data into train, val, and test (80% train, 10% val, 10% test)"
      ]
    },
    {
      "cell_type": "code",
      "execution_count": null,
      "metadata": {
        "colab": {
          "base_uri": "https://localhost:8080/"
        },
        "id": "o9lg5YXvJBDv",
        "outputId": "7e599f82-ced8-45d9-b454-6a3668acda82"
      },
      "outputs": [
        {
          "output_type": "stream",
          "name": "stdout",
          "text": [
            "Dataset prepared with train, val, and test splits.\n"
          ]
        }
      ],
      "source": [
        "train_ratio = 0.8\n",
        "val_ratio = 0.1\n",
        "test_ratio = 0.1\n",
        "\n",
        "for class_name in os.listdir(data_path):\n",
        "    class_path = os.path.join(data_path, class_name)\n",
        "    if os.path.isdir(class_path):\n",
        "        images = os.listdir(class_path)\n",
        "        train_images, test_val_images = train_test_split(images, test_size=(val_ratio + test_ratio), random_state=42)\n",
        "        val_images, test_images = train_test_split(test_val_images, test_size=(test_ratio / (val_ratio + test_ratio)), random_state=42)\n",
        "\n",
        "        for split, split_images in zip(['train', 'val', 'test'], [train_images, val_images, test_images]):\n",
        "            split_class_path = os.path.join(output_path, split, class_name)\n",
        "            os.makedirs(split_class_path, exist_ok=True)\n",
        "            for img in split_images:\n",
        "                img_path = os.path.join(class_path, img)\n",
        "                try:\n",
        "                    shutil.copy(img_path, os.path.join(split_class_path, img))\n",
        "                except Exception as e:\n",
        "                    print(f\"Error processing image {img_path}: {e}\")\n",
        "\n",
        "print(\"Dataset prepared with train, val, and test splits.\")"
      ]
    },
    {
      "cell_type": "markdown",
      "metadata": {
        "id": "yNXho0Dlh2vZ"
      },
      "source": [
        "# Copying dataset with split to \"/content/drive/My Drive/YoloDataset\"\n",
        "\n"
      ]
    },
    {
      "cell_type": "code",
      "execution_count": null,
      "metadata": {
        "colab": {
          "base_uri": "https://localhost:8080/"
        },
        "id": "5QWY1lnok1kI",
        "outputId": "2a79bbe6-4c54-46e6-8f87-adfacc721c1a"
      },
      "outputs": [
        {
          "name": "stdout",
          "output_type": "stream",
          "text": [
            "Dataset copied to Google Drive successfully!\n"
          ]
        }
      ],
      "source": [
        "import shutil\n",
        "import os\n",
        "\n",
        "# Define Google Drive directory\n",
        "drive_path = \"/content/drive/My Drive/YoloDataset\"\n",
        "\n",
        "# Ensure directory exists\n",
        "os.makedirs(drive_path, exist_ok=True)\n",
        "\n",
        "# Copy dataset to Google Drive\n",
        "shutil.copytree(output_path, os.path.join(drive_path, \"dataset\"), dirs_exist_ok=True)\n",
        "\n",
        "print(\"Dataset copied to Google Drive successfully!\")\n"
      ]
    },
    {
      "cell_type": "markdown",
      "source": [
        "# Model Training"
      ],
      "metadata": {
        "id": "HnKqeBoogikZ"
      }
    },
    {
      "cell_type": "markdown",
      "metadata": {
        "id": "_5Xht-OJgrRJ"
      },
      "source": [
        "## **YOLOV8**"
      ]
    },
    {
      "cell_type": "markdown",
      "metadata": {
        "id": "UKtA40GLgu9Z"
      },
      "source": [
        "**Nano**"
      ]
    },
    {
      "cell_type": "code",
      "execution_count": null,
      "metadata": {
        "colab": {
          "base_uri": "https://localhost:8080/"
        },
        "id": "hDigWCWNJiz_",
        "outputId": "ecdf002d-7b82-4f28-f528-45dfc8930598"
      },
      "outputs": [
        {
          "name": "stdout",
          "output_type": "stream",
          "text": [
            "Downloading https://github.com/ultralytics/assets/releases/download/v8.3.0/yolov8n-cls.pt to 'yolov8n-cls.pt'...\n"
          ]
        },
        {
          "name": "stderr",
          "output_type": "stream",
          "text": [
            "100%|██████████| 5.31M/5.31M [00:00<00:00, 288MB/s]\n"
          ]
        }
      ],
      "source": [
        "model = YOLO('yolov8n-cls.pt')"
      ]
    },
    {
      "cell_type": "code",
      "execution_count": null,
      "metadata": {
        "colab": {
          "base_uri": "https://localhost:8080/"
        },
        "id": "VNvnSAPfMInQ",
        "outputId": "237ded00-a2e6-4cf0-c1e1-35cb1148f638"
      },
      "outputs": [
        {
          "name": "stdout",
          "output_type": "stream",
          "text": [
            "Ultralytics 8.3.61 🚀 Python-3.10.12 torch-2.5.1+cu121 CUDA:0 (Tesla T4, 15102MiB)\n",
            "\u001b[34m\u001b[1mengine/trainer: \u001b[0mtask=classify, mode=train, model=yolov8n-cls.pt, data=/content/processed_dataset, epochs=100, time=None, patience=7, batch=32, imgsz=300, save=True, save_period=-1, cache=False, device=None, workers=8, project=None, name=custom_yolov8_classification, exist_ok=False, pretrained=True, optimizer=auto, verbose=True, seed=0, deterministic=True, single_cls=False, rect=False, cos_lr=False, close_mosaic=10, resume=False, amp=True, fraction=1.0, profile=False, freeze=None, multi_scale=False, overlap_mask=True, mask_ratio=4, dropout=0.0, val=True, split=val, save_json=False, save_hybrid=False, conf=None, iou=0.7, max_det=300, half=False, dnn=False, plots=True, source=None, vid_stride=1, stream_buffer=False, visualize=False, augment=False, agnostic_nms=False, classes=None, retina_masks=False, embed=None, show=False, save_frames=False, save_txt=False, save_conf=False, save_crop=False, show_labels=True, show_conf=True, show_boxes=True, line_width=None, format=torchscript, keras=False, optimize=False, int8=False, dynamic=False, simplify=True, opset=None, workspace=None, nms=False, lr0=0.01, lrf=0.01, momentum=0.937, weight_decay=0.0005, warmup_epochs=3.0, warmup_momentum=0.8, warmup_bias_lr=0.1, box=7.5, cls=0.5, dfl=1.5, pose=12.0, kobj=1.0, nbs=64, hsv_h=0.015, hsv_s=0.7, hsv_v=0.4, degrees=0.0, translate=0.1, scale=0.5, shear=0.0, perspective=0.0, flipud=0.0, fliplr=0.5, bgr=0.0, mosaic=1.0, mixup=0.0, copy_paste=0.0, copy_paste_mode=flip, auto_augment=randaugment, erasing=0.4, crop_fraction=1.0, cfg=None, tracker=botsort.yaml, save_dir=runs/classify/custom_yolov8_classification\n",
            "\u001b[34m\u001b[1mtrain:\u001b[0m /content/processed_dataset/train... found 3943 images in 4 classes ✅ \n",
            "\u001b[34m\u001b[1mval:\u001b[0m /content/processed_dataset/val... found 492 images in 4 classes ✅ \n",
            "\u001b[34m\u001b[1mtest:\u001b[0m /content/processed_dataset/test... found 496 images in 4 classes ✅ \n",
            "Overriding model.yaml nc=1000 with nc=4\n",
            "\n",
            "                   from  n    params  module                                       arguments                     \n",
            "  0                  -1  1       464  ultralytics.nn.modules.conv.Conv             [3, 16, 3, 2]                 \n",
            "  1                  -1  1      4672  ultralytics.nn.modules.conv.Conv             [16, 32, 3, 2]                \n",
            "  2                  -1  1      7360  ultralytics.nn.modules.block.C2f             [32, 32, 1, True]             \n",
            "  3                  -1  1     18560  ultralytics.nn.modules.conv.Conv             [32, 64, 3, 2]                \n",
            "  4                  -1  2     49664  ultralytics.nn.modules.block.C2f             [64, 64, 2, True]             \n",
            "  5                  -1  1     73984  ultralytics.nn.modules.conv.Conv             [64, 128, 3, 2]               \n",
            "  6                  -1  2    197632  ultralytics.nn.modules.block.C2f             [128, 128, 2, True]           \n",
            "  7                  -1  1    295424  ultralytics.nn.modules.conv.Conv             [128, 256, 3, 2]              \n",
            "  8                  -1  1    460288  ultralytics.nn.modules.block.C2f             [256, 256, 1, True]           \n",
            "  9                  -1  1    335364  ultralytics.nn.modules.head.Classify         [256, 4]                      \n",
            "YOLOv8n-cls summary: 99 layers, 1,443,412 parameters, 1,443,412 gradients, 3.4 GFLOPs\n",
            "Transferred 156/158 items from pretrained weights\n",
            "\u001b[34m\u001b[1mTensorBoard: \u001b[0mStart with 'tensorboard --logdir runs/classify/custom_yolov8_classification', view at http://localhost:6006/\n",
            "\u001b[34m\u001b[1mAMP: \u001b[0mrunning Automatic Mixed Precision (AMP) checks...\n",
            "Downloading https://github.com/ultralytics/assets/releases/download/v8.3.0/yolo11n.pt to 'yolo11n.pt'...\n"
          ]
        },
        {
          "name": "stderr",
          "output_type": "stream",
          "text": [
            "100%|██████████| 5.35M/5.35M [00:00<00:00, 316MB/s]\n"
          ]
        },
        {
          "name": "stdout",
          "output_type": "stream",
          "text": [
            "\u001b[34m\u001b[1mAMP: \u001b[0mchecks passed ✅\n",
            "WARNING ⚠️ imgsz=[300] must be multiple of max stride 32, updating to [320]\n"
          ]
        },
        {
          "name": "stderr",
          "output_type": "stream",
          "text": [
            "\u001b[34m\u001b[1mtrain: \u001b[0mScanning /content/processed_dataset/train... 3943 images, 0 corrupt: 100%|██████████| 3943/3943 [00:01<00:00, 3830.11it/s]"
          ]
        },
        {
          "name": "stdout",
          "output_type": "stream",
          "text": [
            "\u001b[34m\u001b[1mtrain: \u001b[0mNew cache created: /content/processed_dataset/train.cache\n"
          ]
        },
        {
          "name": "stderr",
          "output_type": "stream",
          "text": [
            "\n",
            "\u001b[34m\u001b[1mval: \u001b[0mScanning /content/processed_dataset/val... 492 images, 0 corrupt: 100%|██████████| 492/492 [00:00<00:00, 2828.73it/s]"
          ]
        },
        {
          "name": "stdout",
          "output_type": "stream",
          "text": [
            "\u001b[34m\u001b[1mval: \u001b[0mNew cache created: /content/processed_dataset/val.cache\n"
          ]
        },
        {
          "name": "stderr",
          "output_type": "stream",
          "text": [
            "\n"
          ]
        },
        {
          "name": "stdout",
          "output_type": "stream",
          "text": [
            "\u001b[34m\u001b[1moptimizer:\u001b[0m 'optimizer=auto' found, ignoring 'lr0=0.01' and 'momentum=0.937' and determining best 'optimizer', 'lr0' and 'momentum' automatically... \n",
            "\u001b[34m\u001b[1moptimizer:\u001b[0m AdamW(lr=0.000714, momentum=0.9) with parameter groups 26 weight(decay=0.0), 27 weight(decay=0.0005), 27 bias(decay=0.0)\n",
            "\u001b[34m\u001b[1mTensorBoard: \u001b[0mmodel graph visualization added ✅\n",
            "Image sizes 320 train, 320 val\n",
            "Using 2 dataloader workers\n",
            "Logging results to \u001b[1mruns/classify/custom_yolov8_classification\u001b[0m\n",
            "Starting training for 100 epochs...\n",
            "\n",
            "      Epoch    GPU_mem       loss  Instances       Size\n"
          ]
        },
        {
          "name": "stderr",
          "output_type": "stream",
          "text": [
            "      1/100     0.996G      1.397         32        320:   6%|▌         | 7/124 [00:02<00:37,  3.14it/s]"
          ]
        },
        {
          "name": "stdout",
          "output_type": "stream",
          "text": [
            "Downloading https://ultralytics.com/assets/Arial.ttf to '/root/.config/Ultralytics/Arial.ttf'...\n"
          ]
        },
        {
          "name": "stderr",
          "output_type": "stream",
          "text": [
            "\n",
            "100%|██████████| 755k/755k [00:00<00:00, 89.5MB/s]\n",
            "      1/100      1.01G       1.15          7        320: 100%|██████████| 124/124 [00:45<00:00,  2.73it/s]\n",
            "               classes   top1_acc   top5_acc: 100%|██████████| 8/8 [00:03<00:00,  2.10it/s]"
          ]
        },
        {
          "name": "stdout",
          "output_type": "stream",
          "text": [
            "                   all      0.699          1\n"
          ]
        },
        {
          "name": "stderr",
          "output_type": "stream",
          "text": [
            "\n"
          ]
        },
        {
          "name": "stdout",
          "output_type": "stream",
          "text": [
            "\n",
            "      Epoch    GPU_mem       loss  Instances       Size\n"
          ]
        },
        {
          "name": "stderr",
          "output_type": "stream",
          "text": [
            "      2/100     0.824G     0.7577          7        320: 100%|██████████| 124/124 [00:42<00:00,  2.90it/s]\n",
            "               classes   top1_acc   top5_acc: 100%|██████████| 8/8 [00:02<00:00,  3.27it/s]"
          ]
        },
        {
          "name": "stdout",
          "output_type": "stream",
          "text": [
            "                   all      0.744          1\n"
          ]
        },
        {
          "name": "stderr",
          "output_type": "stream",
          "text": [
            "\n"
          ]
        },
        {
          "name": "stdout",
          "output_type": "stream",
          "text": [
            "\n",
            "      Epoch    GPU_mem       loss  Instances       Size\n"
          ]
        },
        {
          "name": "stderr",
          "output_type": "stream",
          "text": [
            "      3/100     0.872G      0.677          7        320: 100%|██████████| 124/124 [00:43<00:00,  2.86it/s]\n",
            "               classes   top1_acc   top5_acc: 100%|██████████| 8/8 [00:03<00:00,  2.13it/s]"
          ]
        },
        {
          "name": "stdout",
          "output_type": "stream",
          "text": [
            "                   all      0.811          1\n"
          ]
        },
        {
          "name": "stderr",
          "output_type": "stream",
          "text": [
            "\n"
          ]
        },
        {
          "name": "stdout",
          "output_type": "stream",
          "text": [
            "\n",
            "      Epoch    GPU_mem       loss  Instances       Size\n"
          ]
        },
        {
          "name": "stderr",
          "output_type": "stream",
          "text": [
            "      4/100     0.872G     0.5904          7        320: 100%|██████████| 124/124 [00:45<00:00,  2.73it/s]\n",
            "               classes   top1_acc   top5_acc: 100%|██████████| 8/8 [00:02<00:00,  3.81it/s]"
          ]
        },
        {
          "name": "stdout",
          "output_type": "stream",
          "text": [
            "                   all      0.778          1\n"
          ]
        },
        {
          "name": "stderr",
          "output_type": "stream",
          "text": [
            "\n"
          ]
        },
        {
          "name": "stdout",
          "output_type": "stream",
          "text": [
            "\n",
            "      Epoch    GPU_mem       loss  Instances       Size\n"
          ]
        },
        {
          "name": "stderr",
          "output_type": "stream",
          "text": [
            "      5/100     0.872G       0.55          7        320: 100%|██████████| 124/124 [00:42<00:00,  2.88it/s]\n",
            "               classes   top1_acc   top5_acc: 100%|██████████| 8/8 [00:03<00:00,  2.26it/s]"
          ]
        },
        {
          "name": "stdout",
          "output_type": "stream",
          "text": [
            "                   all      0.762          1\n"
          ]
        },
        {
          "name": "stderr",
          "output_type": "stream",
          "text": [
            "\n"
          ]
        },
        {
          "name": "stdout",
          "output_type": "stream",
          "text": [
            "\n",
            "      Epoch    GPU_mem       loss  Instances       Size\n"
          ]
        },
        {
          "name": "stderr",
          "output_type": "stream",
          "text": [
            "      6/100     0.872G     0.5173          7        320: 100%|██████████| 124/124 [00:46<00:00,  2.67it/s]\n",
            "               classes   top1_acc   top5_acc: 100%|██████████| 8/8 [00:02<00:00,  3.54it/s]"
          ]
        },
        {
          "name": "stdout",
          "output_type": "stream",
          "text": [
            "                   all      0.805          1\n"
          ]
        },
        {
          "name": "stderr",
          "output_type": "stream",
          "text": [
            "\n"
          ]
        },
        {
          "name": "stdout",
          "output_type": "stream",
          "text": [
            "\n",
            "      Epoch    GPU_mem       loss  Instances       Size\n"
          ]
        },
        {
          "name": "stderr",
          "output_type": "stream",
          "text": [
            "      7/100     0.872G     0.4736          7        320: 100%|██████████| 124/124 [00:44<00:00,  2.81it/s]\n",
            "               classes   top1_acc   top5_acc: 100%|██████████| 8/8 [00:02<00:00,  3.10it/s]"
          ]
        },
        {
          "name": "stdout",
          "output_type": "stream",
          "text": [
            "                   all      0.813          1\n"
          ]
        },
        {
          "name": "stderr",
          "output_type": "stream",
          "text": [
            "\n"
          ]
        },
        {
          "name": "stdout",
          "output_type": "stream",
          "text": [
            "\n",
            "      Epoch    GPU_mem       loss  Instances       Size\n"
          ]
        },
        {
          "name": "stderr",
          "output_type": "stream",
          "text": [
            "      8/100     0.872G     0.4605          7        320: 100%|██████████| 124/124 [00:46<00:00,  2.64it/s]\n",
            "               classes   top1_acc   top5_acc: 100%|██████████| 8/8 [00:02<00:00,  3.97it/s]"
          ]
        },
        {
          "name": "stdout",
          "output_type": "stream",
          "text": [
            "                   all      0.823          1\n"
          ]
        },
        {
          "name": "stderr",
          "output_type": "stream",
          "text": [
            "\n"
          ]
        },
        {
          "name": "stdout",
          "output_type": "stream",
          "text": [
            "\n",
            "      Epoch    GPU_mem       loss  Instances       Size\n"
          ]
        },
        {
          "name": "stderr",
          "output_type": "stream",
          "text": [
            "      9/100     0.872G      0.406          7        320: 100%|██████████| 124/124 [00:43<00:00,  2.82it/s]\n",
            "               classes   top1_acc   top5_acc: 100%|██████████| 8/8 [00:02<00:00,  3.63it/s]"
          ]
        },
        {
          "name": "stdout",
          "output_type": "stream",
          "text": [
            "                   all      0.837          1\n"
          ]
        },
        {
          "name": "stderr",
          "output_type": "stream",
          "text": [
            "\n"
          ]
        },
        {
          "name": "stdout",
          "output_type": "stream",
          "text": [
            "\n",
            "      Epoch    GPU_mem       loss  Instances       Size\n"
          ]
        },
        {
          "name": "stderr",
          "output_type": "stream",
          "text": [
            "     10/100     0.872G     0.4073          7        320: 100%|██████████| 124/124 [00:47<00:00,  2.63it/s]\n",
            "               classes   top1_acc   top5_acc: 100%|██████████| 8/8 [00:03<00:00,  2.21it/s]"
          ]
        },
        {
          "name": "stdout",
          "output_type": "stream",
          "text": [
            "                   all      0.835          1\n"
          ]
        },
        {
          "name": "stderr",
          "output_type": "stream",
          "text": [
            "\n"
          ]
        },
        {
          "name": "stdout",
          "output_type": "stream",
          "text": [
            "\n",
            "      Epoch    GPU_mem       loss  Instances       Size\n"
          ]
        },
        {
          "name": "stderr",
          "output_type": "stream",
          "text": [
            "     11/100     0.872G     0.3769          7        320: 100%|██████████| 124/124 [00:43<00:00,  2.83it/s]\n",
            "               classes   top1_acc   top5_acc: 100%|██████████| 8/8 [00:02<00:00,  3.52it/s]"
          ]
        },
        {
          "name": "stdout",
          "output_type": "stream",
          "text": [
            "                   all      0.839          1\n"
          ]
        },
        {
          "name": "stderr",
          "output_type": "stream",
          "text": [
            "\n"
          ]
        },
        {
          "name": "stdout",
          "output_type": "stream",
          "text": [
            "\n",
            "      Epoch    GPU_mem       loss  Instances       Size\n"
          ]
        },
        {
          "name": "stderr",
          "output_type": "stream",
          "text": [
            "     12/100     0.872G     0.3775          7        320: 100%|██████████| 124/124 [00:45<00:00,  2.72it/s]\n",
            "               classes   top1_acc   top5_acc: 100%|██████████| 8/8 [00:03<00:00,  2.18it/s]"
          ]
        },
        {
          "name": "stdout",
          "output_type": "stream",
          "text": [
            "                   all      0.835          1\n"
          ]
        },
        {
          "name": "stderr",
          "output_type": "stream",
          "text": [
            "\n"
          ]
        },
        {
          "name": "stdout",
          "output_type": "stream",
          "text": [
            "\n",
            "      Epoch    GPU_mem       loss  Instances       Size\n"
          ]
        },
        {
          "name": "stderr",
          "output_type": "stream",
          "text": [
            "     13/100     0.872G     0.3274          7        320: 100%|██████████| 124/124 [00:44<00:00,  2.82it/s]\n",
            "               classes   top1_acc   top5_acc: 100%|██████████| 8/8 [00:01<00:00,  4.02it/s]"
          ]
        },
        {
          "name": "stdout",
          "output_type": "stream",
          "text": [
            "                   all      0.848          1\n"
          ]
        },
        {
          "name": "stderr",
          "output_type": "stream",
          "text": [
            "\n"
          ]
        },
        {
          "name": "stdout",
          "output_type": "stream",
          "text": [
            "\n",
            "      Epoch    GPU_mem       loss  Instances       Size\n"
          ]
        },
        {
          "name": "stderr",
          "output_type": "stream",
          "text": [
            "     14/100     0.872G     0.3014          7        320: 100%|██████████| 124/124 [00:43<00:00,  2.82it/s]\n",
            "               classes   top1_acc   top5_acc: 100%|██████████| 8/8 [00:03<00:00,  2.32it/s]"
          ]
        },
        {
          "name": "stdout",
          "output_type": "stream",
          "text": [
            "                   all      0.854          1\n"
          ]
        },
        {
          "name": "stderr",
          "output_type": "stream",
          "text": [
            "\n"
          ]
        },
        {
          "name": "stdout",
          "output_type": "stream",
          "text": [
            "\n",
            "      Epoch    GPU_mem       loss  Instances       Size\n"
          ]
        },
        {
          "name": "stderr",
          "output_type": "stream",
          "text": [
            "     15/100     0.872G     0.2857          7        320: 100%|██████████| 124/124 [00:44<00:00,  2.78it/s]\n",
            "               classes   top1_acc   top5_acc: 100%|██████████| 8/8 [00:02<00:00,  3.81it/s]"
          ]
        },
        {
          "name": "stdout",
          "output_type": "stream",
          "text": [
            "                   all       0.85          1\n"
          ]
        },
        {
          "name": "stderr",
          "output_type": "stream",
          "text": [
            "\n"
          ]
        },
        {
          "name": "stdout",
          "output_type": "stream",
          "text": [
            "\n",
            "      Epoch    GPU_mem       loss  Instances       Size\n"
          ]
        },
        {
          "name": "stderr",
          "output_type": "stream",
          "text": [
            "     16/100     0.872G     0.2959          7        320: 100%|██████████| 124/124 [00:43<00:00,  2.84it/s]\n",
            "               classes   top1_acc   top5_acc: 100%|██████████| 8/8 [00:03<00:00,  2.24it/s]"
          ]
        },
        {
          "name": "stdout",
          "output_type": "stream",
          "text": [
            "                   all       0.85          1\n"
          ]
        },
        {
          "name": "stderr",
          "output_type": "stream",
          "text": [
            "\n"
          ]
        },
        {
          "name": "stdout",
          "output_type": "stream",
          "text": [
            "\n",
            "      Epoch    GPU_mem       loss  Instances       Size\n"
          ]
        },
        {
          "name": "stderr",
          "output_type": "stream",
          "text": [
            "     17/100     0.872G     0.2803          7        320: 100%|██████████| 124/124 [00:44<00:00,  2.79it/s]\n",
            "               classes   top1_acc   top5_acc: 100%|██████████| 8/8 [00:02<00:00,  3.67it/s]"
          ]
        },
        {
          "name": "stdout",
          "output_type": "stream",
          "text": [
            "                   all      0.831          1\n"
          ]
        },
        {
          "name": "stderr",
          "output_type": "stream",
          "text": [
            "\n"
          ]
        },
        {
          "name": "stdout",
          "output_type": "stream",
          "text": [
            "\n",
            "      Epoch    GPU_mem       loss  Instances       Size\n"
          ]
        },
        {
          "name": "stderr",
          "output_type": "stream",
          "text": [
            "     18/100     0.872G     0.2898          7        320: 100%|██████████| 124/124 [00:45<00:00,  2.73it/s]\n",
            "               classes   top1_acc   top5_acc: 100%|██████████| 8/8 [00:03<00:00,  2.06it/s]"
          ]
        },
        {
          "name": "stdout",
          "output_type": "stream",
          "text": [
            "                   all      0.852          1\n"
          ]
        },
        {
          "name": "stderr",
          "output_type": "stream",
          "text": [
            "\n"
          ]
        },
        {
          "name": "stdout",
          "output_type": "stream",
          "text": [
            "\n",
            "      Epoch    GPU_mem       loss  Instances       Size\n"
          ]
        },
        {
          "name": "stderr",
          "output_type": "stream",
          "text": [
            "     19/100     0.872G     0.2522          7        320: 100%|██████████| 124/124 [00:43<00:00,  2.84it/s]\n",
            "               classes   top1_acc   top5_acc: 100%|██████████| 8/8 [00:02<00:00,  3.72it/s]"
          ]
        },
        {
          "name": "stdout",
          "output_type": "stream",
          "text": [
            "                   all      0.843          1\n"
          ]
        },
        {
          "name": "stderr",
          "output_type": "stream",
          "text": [
            "\n"
          ]
        },
        {
          "name": "stdout",
          "output_type": "stream",
          "text": [
            "\n",
            "      Epoch    GPU_mem       loss  Instances       Size\n"
          ]
        },
        {
          "name": "stderr",
          "output_type": "stream",
          "text": [
            "     20/100     0.872G     0.2755          7        320: 100%|██████████| 124/124 [00:44<00:00,  2.76it/s]\n",
            "               classes   top1_acc   top5_acc: 100%|██████████| 8/8 [00:03<00:00,  2.22it/s]"
          ]
        },
        {
          "name": "stdout",
          "output_type": "stream",
          "text": [
            "                   all      0.864          1\n"
          ]
        },
        {
          "name": "stderr",
          "output_type": "stream",
          "text": [
            "\n"
          ]
        },
        {
          "name": "stdout",
          "output_type": "stream",
          "text": [
            "\n",
            "      Epoch    GPU_mem       loss  Instances       Size\n"
          ]
        },
        {
          "name": "stderr",
          "output_type": "stream",
          "text": [
            "     21/100     0.872G     0.2366          7        320: 100%|██████████| 124/124 [00:44<00:00,  2.76it/s]\n",
            "               classes   top1_acc   top5_acc: 100%|██████████| 8/8 [00:02<00:00,  3.89it/s]"
          ]
        },
        {
          "name": "stdout",
          "output_type": "stream",
          "text": [
            "                   all      0.864          1\n"
          ]
        },
        {
          "name": "stderr",
          "output_type": "stream",
          "text": [
            "\n"
          ]
        },
        {
          "name": "stdout",
          "output_type": "stream",
          "text": [
            "\n",
            "      Epoch    GPU_mem       loss  Instances       Size\n"
          ]
        },
        {
          "name": "stderr",
          "output_type": "stream",
          "text": [
            "     22/100     0.872G     0.2215          7        320: 100%|██████████| 124/124 [00:43<00:00,  2.83it/s]\n",
            "               classes   top1_acc   top5_acc: 100%|██████████| 8/8 [00:03<00:00,  2.06it/s]"
          ]
        },
        {
          "name": "stdout",
          "output_type": "stream",
          "text": [
            "                   all      0.874          1\n"
          ]
        },
        {
          "name": "stderr",
          "output_type": "stream",
          "text": [
            "\n"
          ]
        },
        {
          "name": "stdout",
          "output_type": "stream",
          "text": [
            "\n",
            "      Epoch    GPU_mem       loss  Instances       Size\n"
          ]
        },
        {
          "name": "stderr",
          "output_type": "stream",
          "text": [
            "     23/100     0.872G     0.2195          7        320: 100%|██████████| 124/124 [00:45<00:00,  2.74it/s]\n",
            "               classes   top1_acc   top5_acc: 100%|██████████| 8/8 [00:02<00:00,  3.82it/s]"
          ]
        },
        {
          "name": "stdout",
          "output_type": "stream",
          "text": [
            "                   all      0.862          1\n"
          ]
        },
        {
          "name": "stderr",
          "output_type": "stream",
          "text": [
            "\n"
          ]
        },
        {
          "name": "stdout",
          "output_type": "stream",
          "text": [
            "\n",
            "      Epoch    GPU_mem       loss  Instances       Size\n"
          ]
        },
        {
          "name": "stderr",
          "output_type": "stream",
          "text": [
            "     24/100     0.872G     0.2157          7        320: 100%|██████████| 124/124 [00:44<00:00,  2.80it/s]\n",
            "               classes   top1_acc   top5_acc: 100%|██████████| 8/8 [00:04<00:00,  1.96it/s]"
          ]
        },
        {
          "name": "stdout",
          "output_type": "stream",
          "text": [
            "                   all      0.878          1\n"
          ]
        },
        {
          "name": "stderr",
          "output_type": "stream",
          "text": [
            "\n"
          ]
        },
        {
          "name": "stdout",
          "output_type": "stream",
          "text": [
            "\n",
            "      Epoch    GPU_mem       loss  Instances       Size\n"
          ]
        },
        {
          "name": "stderr",
          "output_type": "stream",
          "text": [
            "     25/100     0.872G     0.2146          7        320: 100%|██████████| 124/124 [00:44<00:00,  2.80it/s]\n",
            "               classes   top1_acc   top5_acc: 100%|██████████| 8/8 [00:02<00:00,  3.44it/s]"
          ]
        },
        {
          "name": "stdout",
          "output_type": "stream",
          "text": [
            "                   all       0.87          1\n"
          ]
        },
        {
          "name": "stderr",
          "output_type": "stream",
          "text": [
            "\n"
          ]
        },
        {
          "name": "stdout",
          "output_type": "stream",
          "text": [
            "\n",
            "      Epoch    GPU_mem       loss  Instances       Size\n"
          ]
        },
        {
          "name": "stderr",
          "output_type": "stream",
          "text": [
            "     26/100     0.872G     0.2133          7        320: 100%|██████████| 124/124 [00:44<00:00,  2.80it/s]\n",
            "               classes   top1_acc   top5_acc: 100%|██████████| 8/8 [00:03<00:00,  2.25it/s]"
          ]
        },
        {
          "name": "stdout",
          "output_type": "stream",
          "text": [
            "                   all      0.868          1\n"
          ]
        },
        {
          "name": "stderr",
          "output_type": "stream",
          "text": [
            "\n"
          ]
        },
        {
          "name": "stdout",
          "output_type": "stream",
          "text": [
            "\n",
            "      Epoch    GPU_mem       loss  Instances       Size\n"
          ]
        },
        {
          "name": "stderr",
          "output_type": "stream",
          "text": [
            "     27/100     0.872G     0.1921          7        320: 100%|██████████| 124/124 [00:44<00:00,  2.79it/s]\n",
            "               classes   top1_acc   top5_acc: 100%|██████████| 8/8 [00:02<00:00,  3.96it/s]"
          ]
        },
        {
          "name": "stdout",
          "output_type": "stream",
          "text": [
            "                   all      0.858          1\n"
          ]
        },
        {
          "name": "stderr",
          "output_type": "stream",
          "text": [
            "\n"
          ]
        },
        {
          "name": "stdout",
          "output_type": "stream",
          "text": [
            "\n",
            "      Epoch    GPU_mem       loss  Instances       Size\n"
          ]
        },
        {
          "name": "stderr",
          "output_type": "stream",
          "text": [
            "     28/100     0.872G     0.1799          7        320: 100%|██████████| 124/124 [00:43<00:00,  2.86it/s]\n",
            "               classes   top1_acc   top5_acc: 100%|██████████| 8/8 [00:03<00:00,  2.28it/s]"
          ]
        },
        {
          "name": "stdout",
          "output_type": "stream",
          "text": [
            "                   all      0.862          1\n"
          ]
        },
        {
          "name": "stderr",
          "output_type": "stream",
          "text": [
            "\n"
          ]
        },
        {
          "name": "stdout",
          "output_type": "stream",
          "text": [
            "\n",
            "      Epoch    GPU_mem       loss  Instances       Size\n"
          ]
        },
        {
          "name": "stderr",
          "output_type": "stream",
          "text": [
            "     29/100     0.872G     0.1919          7        320: 100%|██████████| 124/124 [00:43<00:00,  2.86it/s]\n",
            "               classes   top1_acc   top5_acc: 100%|██████████| 8/8 [00:02<00:00,  3.57it/s]"
          ]
        },
        {
          "name": "stdout",
          "output_type": "stream",
          "text": [
            "                   all       0.88          1\n"
          ]
        },
        {
          "name": "stderr",
          "output_type": "stream",
          "text": [
            "\n"
          ]
        },
        {
          "name": "stdout",
          "output_type": "stream",
          "text": [
            "\n",
            "      Epoch    GPU_mem       loss  Instances       Size\n"
          ]
        },
        {
          "name": "stderr",
          "output_type": "stream",
          "text": [
            "     30/100     0.872G     0.1832          7        320: 100%|██████████| 124/124 [00:45<00:00,  2.71it/s]\n",
            "               classes   top1_acc   top5_acc: 100%|██████████| 8/8 [00:04<00:00,  1.93it/s]"
          ]
        },
        {
          "name": "stdout",
          "output_type": "stream",
          "text": [
            "                   all      0.864          1\n"
          ]
        },
        {
          "name": "stderr",
          "output_type": "stream",
          "text": [
            "\n"
          ]
        },
        {
          "name": "stdout",
          "output_type": "stream",
          "text": [
            "\n",
            "      Epoch    GPU_mem       loss  Instances       Size\n"
          ]
        },
        {
          "name": "stderr",
          "output_type": "stream",
          "text": [
            "     31/100     0.872G     0.1716          7        320: 100%|██████████| 124/124 [00:44<00:00,  2.81it/s]\n",
            "               classes   top1_acc   top5_acc: 100%|██████████| 8/8 [00:02<00:00,  3.71it/s]"
          ]
        },
        {
          "name": "stdout",
          "output_type": "stream",
          "text": [
            "                   all      0.868          1\n"
          ]
        },
        {
          "name": "stderr",
          "output_type": "stream",
          "text": [
            "\n"
          ]
        },
        {
          "name": "stdout",
          "output_type": "stream",
          "text": [
            "\n",
            "      Epoch    GPU_mem       loss  Instances       Size\n"
          ]
        },
        {
          "name": "stderr",
          "output_type": "stream",
          "text": [
            "     32/100     0.872G     0.1712          7        320: 100%|██████████| 124/124 [00:45<00:00,  2.71it/s]\n",
            "               classes   top1_acc   top5_acc: 100%|██████████| 8/8 [00:04<00:00,  1.96it/s]"
          ]
        },
        {
          "name": "stdout",
          "output_type": "stream",
          "text": [
            "                   all      0.874          1\n"
          ]
        },
        {
          "name": "stderr",
          "output_type": "stream",
          "text": [
            "\n"
          ]
        },
        {
          "name": "stdout",
          "output_type": "stream",
          "text": [
            "\n",
            "      Epoch    GPU_mem       loss  Instances       Size\n"
          ]
        },
        {
          "name": "stderr",
          "output_type": "stream",
          "text": [
            "     33/100     0.872G     0.1494          7        320: 100%|██████████| 124/124 [00:43<00:00,  2.83it/s]\n",
            "               classes   top1_acc   top5_acc: 100%|██████████| 8/8 [00:02<00:00,  3.86it/s]"
          ]
        },
        {
          "name": "stdout",
          "output_type": "stream",
          "text": [
            "                   all      0.868          1\n"
          ]
        },
        {
          "name": "stderr",
          "output_type": "stream",
          "text": [
            "\n"
          ]
        },
        {
          "name": "stdout",
          "output_type": "stream",
          "text": [
            "\n",
            "      Epoch    GPU_mem       loss  Instances       Size\n"
          ]
        },
        {
          "name": "stderr",
          "output_type": "stream",
          "text": [
            "     34/100     0.872G     0.1517          7        320: 100%|██████████| 124/124 [00:45<00:00,  2.73it/s]\n",
            "               classes   top1_acc   top5_acc: 100%|██████████| 8/8 [00:03<00:00,  2.57it/s]"
          ]
        },
        {
          "name": "stdout",
          "output_type": "stream",
          "text": [
            "                   all      0.886          1\n"
          ]
        },
        {
          "name": "stderr",
          "output_type": "stream",
          "text": [
            "\n"
          ]
        },
        {
          "name": "stdout",
          "output_type": "stream",
          "text": [
            "\n",
            "      Epoch    GPU_mem       loss  Instances       Size\n"
          ]
        },
        {
          "name": "stderr",
          "output_type": "stream",
          "text": [
            "     35/100     0.872G       0.14          7        320: 100%|██████████| 124/124 [00:43<00:00,  2.83it/s]\n",
            "               classes   top1_acc   top5_acc: 100%|██████████| 8/8 [00:02<00:00,  3.46it/s]"
          ]
        },
        {
          "name": "stdout",
          "output_type": "stream",
          "text": [
            "                   all      0.868          1\n"
          ]
        },
        {
          "name": "stderr",
          "output_type": "stream",
          "text": [
            "\n"
          ]
        },
        {
          "name": "stdout",
          "output_type": "stream",
          "text": [
            "\n",
            "      Epoch    GPU_mem       loss  Instances       Size\n"
          ]
        },
        {
          "name": "stderr",
          "output_type": "stream",
          "text": [
            "     36/100     0.872G     0.1664          7        320: 100%|██████████| 124/124 [00:46<00:00,  2.65it/s]\n",
            "               classes   top1_acc   top5_acc: 100%|██████████| 8/8 [00:03<00:00,  2.02it/s]"
          ]
        },
        {
          "name": "stdout",
          "output_type": "stream",
          "text": [
            "                   all       0.88          1\n"
          ]
        },
        {
          "name": "stderr",
          "output_type": "stream",
          "text": [
            "\n"
          ]
        },
        {
          "name": "stdout",
          "output_type": "stream",
          "text": [
            "\n",
            "      Epoch    GPU_mem       loss  Instances       Size\n"
          ]
        },
        {
          "name": "stderr",
          "output_type": "stream",
          "text": [
            "     37/100     0.872G      0.152          7        320: 100%|██████████| 124/124 [00:44<00:00,  2.80it/s]\n",
            "               classes   top1_acc   top5_acc: 100%|██████████| 8/8 [00:02<00:00,  3.84it/s]"
          ]
        },
        {
          "name": "stdout",
          "output_type": "stream",
          "text": [
            "                   all      0.868          1\n"
          ]
        },
        {
          "name": "stderr",
          "output_type": "stream",
          "text": [
            "\n"
          ]
        },
        {
          "name": "stdout",
          "output_type": "stream",
          "text": [
            "\n",
            "      Epoch    GPU_mem       loss  Instances       Size\n"
          ]
        },
        {
          "name": "stderr",
          "output_type": "stream",
          "text": [
            "     38/100     0.872G     0.1484          7        320: 100%|██████████| 124/124 [00:45<00:00,  2.70it/s]\n",
            "               classes   top1_acc   top5_acc: 100%|██████████| 8/8 [00:04<00:00,  1.89it/s]"
          ]
        },
        {
          "name": "stdout",
          "output_type": "stream",
          "text": [
            "                   all      0.878          1\n"
          ]
        },
        {
          "name": "stderr",
          "output_type": "stream",
          "text": [
            "\n"
          ]
        },
        {
          "name": "stdout",
          "output_type": "stream",
          "text": [
            "\n",
            "      Epoch    GPU_mem       loss  Instances       Size\n"
          ]
        },
        {
          "name": "stderr",
          "output_type": "stream",
          "text": [
            "     39/100     0.872G     0.1404          7        320: 100%|██████████| 124/124 [00:44<00:00,  2.81it/s]\n",
            "               classes   top1_acc   top5_acc: 100%|██████████| 8/8 [00:02<00:00,  3.86it/s]"
          ]
        },
        {
          "name": "stdout",
          "output_type": "stream",
          "text": [
            "                   all       0.87          1\n"
          ]
        },
        {
          "name": "stderr",
          "output_type": "stream",
          "text": [
            "\n"
          ]
        },
        {
          "name": "stdout",
          "output_type": "stream",
          "text": [
            "\n",
            "      Epoch    GPU_mem       loss  Instances       Size\n"
          ]
        },
        {
          "name": "stderr",
          "output_type": "stream",
          "text": [
            "     40/100     0.872G     0.1365          7        320: 100%|██████████| 124/124 [00:44<00:00,  2.76it/s]\n",
            "               classes   top1_acc   top5_acc: 100%|██████████| 8/8 [00:03<00:00,  2.10it/s]"
          ]
        },
        {
          "name": "stdout",
          "output_type": "stream",
          "text": [
            "                   all      0.882          1\n"
          ]
        },
        {
          "name": "stderr",
          "output_type": "stream",
          "text": [
            "\n"
          ]
        },
        {
          "name": "stdout",
          "output_type": "stream",
          "text": [
            "\n",
            "      Epoch    GPU_mem       loss  Instances       Size\n"
          ]
        },
        {
          "name": "stderr",
          "output_type": "stream",
          "text": [
            "     41/100     0.872G     0.1312          7        320: 100%|██████████| 124/124 [00:44<00:00,  2.79it/s]\n",
            "               classes   top1_acc   top5_acc: 100%|██████████| 8/8 [00:02<00:00,  3.75it/s]"
          ]
        },
        {
          "name": "stdout",
          "output_type": "stream",
          "text": [
            "                   all      0.878          1\n",
            "\u001b[34m\u001b[1mEarlyStopping: \u001b[0mTraining stopped early as no improvement observed in last 7 epochs. Best results observed at epoch 34, best model saved as best.pt.\n",
            "To update EarlyStopping(patience=7) pass a new patience value, i.e. `patience=300` or use `patience=0` to disable EarlyStopping.\n"
          ]
        },
        {
          "name": "stderr",
          "output_type": "stream",
          "text": [
            "\n"
          ]
        },
        {
          "name": "stdout",
          "output_type": "stream",
          "text": [
            "\n",
            "41 epochs completed in 0.556 hours.\n",
            "Optimizer stripped from runs/classify/custom_yolov8_classification/weights/last.pt, 3.0MB\n",
            "Optimizer stripped from runs/classify/custom_yolov8_classification/weights/best.pt, 3.0MB\n",
            "\n",
            "Validating runs/classify/custom_yolov8_classification/weights/best.pt...\n",
            "Ultralytics 8.3.61 🚀 Python-3.10.12 torch-2.5.1+cu121 CUDA:0 (Tesla T4, 15102MiB)\n",
            "YOLOv8n-cls summary (fused): 73 layers, 1,440,004 parameters, 0 gradients, 3.3 GFLOPs\n",
            "\u001b[34m\u001b[1mtrain:\u001b[0m /content/processed_dataset/train... found 3943 images in 4 classes ✅ \n",
            "\u001b[34m\u001b[1mval:\u001b[0m /content/processed_dataset/val... found 492 images in 4 classes ✅ \n",
            "\u001b[34m\u001b[1mtest:\u001b[0m /content/processed_dataset/test... found 496 images in 4 classes ✅ \n"
          ]
        },
        {
          "name": "stderr",
          "output_type": "stream",
          "text": [
            "               classes   top1_acc   top5_acc: 100%|██████████| 8/8 [00:02<00:00,  3.68it/s]\n"
          ]
        },
        {
          "name": "stdout",
          "output_type": "stream",
          "text": [
            "                   all      0.886          1\n",
            "Speed: 0.2ms preprocess, 0.5ms inference, 0.0ms loss, 0.0ms postprocess per image\n",
            "Results saved to \u001b[1mruns/classify/custom_yolov8_classification\u001b[0m\n"
          ]
        }
      ],
      "source": [
        "results = model.train(\n",
        "    data=output_path,  # Path to dataset\n",
        "    epochs=100,         # Number of epochs\n",
        "    imgsz=300,         # Image size\n",
        "    batch=32,          # Batch size\n",
        "    patience=7,        # Early stopping after 5 epochs without improvement\n",
        "    name='custom_yolov8_classification'  # Run name for logs\n",
        ")"
      ]
    },
    {
      "cell_type": "markdown",
      "metadata": {
        "id": "2jQH3SqRg5Oh"
      },
      "source": [
        "## Copying results to \"/content/drive/MyDrive/Runs/Yolov8n-100e/\""
      ]
    },
    {
      "cell_type": "code",
      "execution_count": null,
      "metadata": {
        "id": "U8TV7Y_5uQ2e"
      },
      "outputs": [],
      "source": [
        "!scp -r /content/runs/classify/custom_yolov8_classification \"/content/drive/MyDrive/Runs/Yolov8n-100e/\""
      ]
    },
    {
      "cell_type": "markdown",
      "metadata": {
        "id": "-Iswebxkg_rp"
      },
      "source": [
        "**Small**"
      ]
    },
    {
      "cell_type": "code",
      "execution_count": null,
      "metadata": {
        "colab": {
          "base_uri": "https://localhost:8080/"
        },
        "id": "KIqIiINk15Wy",
        "outputId": "07590675-07a6-403c-b010-9ee66a136305"
      },
      "outputs": [
        {
          "name": "stdout",
          "output_type": "stream",
          "text": [
            "Downloading https://github.com/ultralytics/assets/releases/download/v8.3.0/yolov8s-cls.pt to 'yolov8s-cls.pt'...\n"
          ]
        },
        {
          "name": "stderr",
          "output_type": "stream",
          "text": [
            "100%|██████████| 12.3M/12.3M [00:00<00:00, 47.6MB/s]\n"
          ]
        }
      ],
      "source": [
        "model = YOLO('yolov8s-cls.pt')  # Using YOLOv8 nano pretrained on ImageNet"
      ]
    },
    {
      "cell_type": "code",
      "execution_count": null,
      "metadata": {
        "colab": {
          "base_uri": "https://localhost:8080/"
        },
        "id": "ZlJ9oRii3bN3",
        "outputId": "f53a3782-a1d5-4d96-937e-9f30ffd8077f"
      },
      "outputs": [
        {
          "name": "stdout",
          "output_type": "stream",
          "text": [
            "Ultralytics 8.3.61 🚀 Python-3.10.12 torch-2.5.1+cu121 CUDA:0 (Tesla T4, 15102MiB)\n",
            "\u001b[34m\u001b[1mengine/trainer: \u001b[0mtask=classify, mode=train, model=yolov8s-cls.pt, data=/content/processed_dataset, epochs=100, time=None, patience=7, batch=32, imgsz=300, save=True, save_period=-1, cache=False, device=None, workers=8, project=None, name=custom_yolov8_classification2, exist_ok=False, pretrained=True, optimizer=auto, verbose=True, seed=0, deterministic=True, single_cls=False, rect=False, cos_lr=False, close_mosaic=10, resume=False, amp=True, fraction=1.0, profile=False, freeze=None, multi_scale=False, overlap_mask=True, mask_ratio=4, dropout=0.0, val=True, split=val, save_json=False, save_hybrid=False, conf=None, iou=0.7, max_det=300, half=False, dnn=False, plots=True, source=None, vid_stride=1, stream_buffer=False, visualize=False, augment=False, agnostic_nms=False, classes=None, retina_masks=False, embed=None, show=False, save_frames=False, save_txt=False, save_conf=False, save_crop=False, show_labels=True, show_conf=True, show_boxes=True, line_width=None, format=torchscript, keras=False, optimize=False, int8=False, dynamic=False, simplify=True, opset=None, workspace=None, nms=False, lr0=0.01, lrf=0.01, momentum=0.937, weight_decay=0.0005, warmup_epochs=3.0, warmup_momentum=0.8, warmup_bias_lr=0.1, box=7.5, cls=0.5, dfl=1.5, pose=12.0, kobj=1.0, nbs=64, hsv_h=0.015, hsv_s=0.7, hsv_v=0.4, degrees=0.0, translate=0.1, scale=0.5, shear=0.0, perspective=0.0, flipud=0.0, fliplr=0.5, bgr=0.0, mosaic=1.0, mixup=0.0, copy_paste=0.0, copy_paste_mode=flip, auto_augment=randaugment, erasing=0.4, crop_fraction=1.0, cfg=None, tracker=botsort.yaml, save_dir=runs/classify/custom_yolov8_classification2\n",
            "\u001b[34m\u001b[1mtrain:\u001b[0m /content/processed_dataset/train... found 3943 images in 4 classes ✅ \n",
            "\u001b[34m\u001b[1mval:\u001b[0m /content/processed_dataset/val... found 492 images in 4 classes ✅ \n",
            "\u001b[34m\u001b[1mtest:\u001b[0m /content/processed_dataset/test... found 496 images in 4 classes ✅ \n",
            "Overriding model.yaml nc=1000 with nc=4\n",
            "\n",
            "                   from  n    params  module                                       arguments                     \n",
            "  0                  -1  1       928  ultralytics.nn.modules.conv.Conv             [3, 32, 3, 2]                 \n",
            "  1                  -1  1     18560  ultralytics.nn.modules.conv.Conv             [32, 64, 3, 2]                \n",
            "  2                  -1  1     29056  ultralytics.nn.modules.block.C2f             [64, 64, 1, True]             \n",
            "  3                  -1  1     73984  ultralytics.nn.modules.conv.Conv             [64, 128, 3, 2]               \n",
            "  4                  -1  2    197632  ultralytics.nn.modules.block.C2f             [128, 128, 2, True]           \n",
            "  5                  -1  1    295424  ultralytics.nn.modules.conv.Conv             [128, 256, 3, 2]              \n",
            "  6                  -1  2    788480  ultralytics.nn.modules.block.C2f             [256, 256, 2, True]           \n",
            "  7                  -1  1   1180672  ultralytics.nn.modules.conv.Conv             [256, 512, 3, 2]              \n",
            "  8                  -1  1   1838080  ultralytics.nn.modules.block.C2f             [512, 512, 1, True]           \n",
            "  9                  -1  1    663044  ultralytics.nn.modules.head.Classify         [512, 4]                      \n",
            "YOLOv8s-cls summary: 99 layers, 5,085,860 parameters, 5,085,860 gradients, 12.6 GFLOPs\n",
            "Transferred 156/158 items from pretrained weights\n",
            "\u001b[34m\u001b[1mTensorBoard: \u001b[0mStart with 'tensorboard --logdir runs/classify/custom_yolov8_classification2', view at http://localhost:6006/\n",
            "\u001b[34m\u001b[1mAMP: \u001b[0mrunning Automatic Mixed Precision (AMP) checks...\n",
            "\u001b[34m\u001b[1mAMP: \u001b[0mchecks passed ✅\n",
            "WARNING ⚠️ imgsz=[300] must be multiple of max stride 32, updating to [320]\n"
          ]
        },
        {
          "name": "stderr",
          "output_type": "stream",
          "text": [
            "\u001b[34m\u001b[1mtrain: \u001b[0mScanning /content/processed_dataset/train... 3943 images, 0 corrupt: 100%|██████████| 3943/3943 [00:00<?, ?it/s]\n",
            "\u001b[34m\u001b[1mval: \u001b[0mScanning /content/processed_dataset/val... 492 images, 0 corrupt: 100%|██████████| 492/492 [00:00<?, ?it/s]\n"
          ]
        },
        {
          "name": "stdout",
          "output_type": "stream",
          "text": [
            "\u001b[34m\u001b[1moptimizer:\u001b[0m 'optimizer=auto' found, ignoring 'lr0=0.01' and 'momentum=0.937' and determining best 'optimizer', 'lr0' and 'momentum' automatically... \n",
            "\u001b[34m\u001b[1moptimizer:\u001b[0m AdamW(lr=0.000714, momentum=0.9) with parameter groups 26 weight(decay=0.0), 27 weight(decay=0.0005), 27 bias(decay=0.0)\n",
            "\u001b[34m\u001b[1mTensorBoard: \u001b[0mmodel graph visualization added ✅\n",
            "Image sizes 320 train, 320 val\n",
            "Using 2 dataloader workers\n",
            "Logging results to \u001b[1mruns/classify/custom_yolov8_classification2\u001b[0m\n",
            "Starting training for 100 epochs...\n",
            "\n",
            "      Epoch    GPU_mem       loss  Instances       Size\n"
          ]
        },
        {
          "name": "stderr",
          "output_type": "stream",
          "text": [
            "      1/100      1.46G      1.087          7        320: 100%|██████████| 124/124 [00:47<00:00,  2.61it/s]\n",
            "               classes   top1_acc   top5_acc: 100%|██████████| 8/8 [00:02<00:00,  2.85it/s]"
          ]
        },
        {
          "name": "stdout",
          "output_type": "stream",
          "text": [
            "                   all      0.736          1\n"
          ]
        },
        {
          "name": "stderr",
          "output_type": "stream",
          "text": [
            "\n"
          ]
        },
        {
          "name": "stdout",
          "output_type": "stream",
          "text": [
            "\n",
            "      Epoch    GPU_mem       loss  Instances       Size\n"
          ]
        },
        {
          "name": "stderr",
          "output_type": "stream",
          "text": [
            "      2/100      1.49G     0.6825          7        320: 100%|██████████| 124/124 [00:42<00:00,  2.92it/s]\n",
            "               classes   top1_acc   top5_acc: 100%|██████████| 8/8 [00:01<00:00,  4.11it/s]"
          ]
        },
        {
          "name": "stdout",
          "output_type": "stream",
          "text": [
            "                   all      0.783          1\n"
          ]
        },
        {
          "name": "stderr",
          "output_type": "stream",
          "text": [
            "\n"
          ]
        },
        {
          "name": "stdout",
          "output_type": "stream",
          "text": [
            "\n",
            "      Epoch    GPU_mem       loss  Instances       Size\n"
          ]
        },
        {
          "name": "stderr",
          "output_type": "stream",
          "text": [
            "      3/100      1.49G     0.5918          7        320: 100%|██████████| 124/124 [00:42<00:00,  2.89it/s]\n",
            "               classes   top1_acc   top5_acc: 100%|██████████| 8/8 [00:03<00:00,  2.23it/s]"
          ]
        },
        {
          "name": "stdout",
          "output_type": "stream",
          "text": [
            "                   all      0.801          1\n"
          ]
        },
        {
          "name": "stderr",
          "output_type": "stream",
          "text": [
            "\n"
          ]
        },
        {
          "name": "stdout",
          "output_type": "stream",
          "text": [
            "\n",
            "      Epoch    GPU_mem       loss  Instances       Size\n"
          ]
        },
        {
          "name": "stderr",
          "output_type": "stream",
          "text": [
            "      4/100      1.49G      0.531          7        320: 100%|██████████| 124/124 [00:43<00:00,  2.83it/s]\n",
            "               classes   top1_acc   top5_acc: 100%|██████████| 8/8 [00:02<00:00,  3.97it/s]"
          ]
        },
        {
          "name": "stdout",
          "output_type": "stream",
          "text": [
            "                   all      0.817          1\n"
          ]
        },
        {
          "name": "stderr",
          "output_type": "stream",
          "text": [
            "\n"
          ]
        },
        {
          "name": "stdout",
          "output_type": "stream",
          "text": [
            "\n",
            "      Epoch    GPU_mem       loss  Instances       Size\n"
          ]
        },
        {
          "name": "stderr",
          "output_type": "stream",
          "text": [
            "      5/100      1.49G     0.4745          7        320: 100%|██████████| 124/124 [00:42<00:00,  2.90it/s]\n",
            "               classes   top1_acc   top5_acc: 100%|██████████| 8/8 [00:02<00:00,  3.52it/s]"
          ]
        },
        {
          "name": "stdout",
          "output_type": "stream",
          "text": [
            "                   all      0.807          1\n"
          ]
        },
        {
          "name": "stderr",
          "output_type": "stream",
          "text": [
            "\n"
          ]
        },
        {
          "name": "stdout",
          "output_type": "stream",
          "text": [
            "\n",
            "      Epoch    GPU_mem       loss  Instances       Size\n"
          ]
        },
        {
          "name": "stderr",
          "output_type": "stream",
          "text": [
            "      6/100      1.49G     0.4366          7        320: 100%|██████████| 124/124 [00:42<00:00,  2.88it/s]\n",
            "               classes   top1_acc   top5_acc: 100%|██████████| 8/8 [00:03<00:00,  2.37it/s]"
          ]
        },
        {
          "name": "stdout",
          "output_type": "stream",
          "text": [
            "                   all      0.829          1\n"
          ]
        },
        {
          "name": "stderr",
          "output_type": "stream",
          "text": [
            "\n"
          ]
        },
        {
          "name": "stdout",
          "output_type": "stream",
          "text": [
            "\n",
            "      Epoch    GPU_mem       loss  Instances       Size\n"
          ]
        },
        {
          "name": "stderr",
          "output_type": "stream",
          "text": [
            "      7/100      1.49G     0.3702          7        320: 100%|██████████| 124/124 [00:41<00:00,  2.99it/s]\n",
            "               classes   top1_acc   top5_acc: 100%|██████████| 8/8 [00:01<00:00,  4.04it/s]"
          ]
        },
        {
          "name": "stdout",
          "output_type": "stream",
          "text": [
            "                   all       0.85          1\n"
          ]
        },
        {
          "name": "stderr",
          "output_type": "stream",
          "text": [
            "\n"
          ]
        },
        {
          "name": "stdout",
          "output_type": "stream",
          "text": [
            "\n",
            "      Epoch    GPU_mem       loss  Instances       Size\n"
          ]
        },
        {
          "name": "stderr",
          "output_type": "stream",
          "text": [
            "      8/100      1.49G     0.3539          7        320: 100%|██████████| 124/124 [00:41<00:00,  3.00it/s]\n",
            "               classes   top1_acc   top5_acc: 100%|██████████| 8/8 [00:02<00:00,  3.72it/s]"
          ]
        },
        {
          "name": "stdout",
          "output_type": "stream",
          "text": [
            "                   all      0.864          1\n"
          ]
        },
        {
          "name": "stderr",
          "output_type": "stream",
          "text": [
            "\n"
          ]
        },
        {
          "name": "stdout",
          "output_type": "stream",
          "text": [
            "\n",
            "      Epoch    GPU_mem       loss  Instances       Size\n"
          ]
        },
        {
          "name": "stderr",
          "output_type": "stream",
          "text": [
            "      9/100      1.49G     0.3274          7        320: 100%|██████████| 124/124 [00:42<00:00,  2.94it/s]\n",
            "               classes   top1_acc   top5_acc: 100%|██████████| 8/8 [00:03<00:00,  2.32it/s]"
          ]
        },
        {
          "name": "stdout",
          "output_type": "stream",
          "text": [
            "                   all      0.835          1\n"
          ]
        },
        {
          "name": "stderr",
          "output_type": "stream",
          "text": [
            "\n"
          ]
        },
        {
          "name": "stdout",
          "output_type": "stream",
          "text": [
            "\n",
            "      Epoch    GPU_mem       loss  Instances       Size\n"
          ]
        },
        {
          "name": "stderr",
          "output_type": "stream",
          "text": [
            "     10/100      1.49G     0.3103          7        320: 100%|██████████| 124/124 [00:43<00:00,  2.86it/s]\n",
            "               classes   top1_acc   top5_acc: 100%|██████████| 8/8 [00:02<00:00,  3.75it/s]"
          ]
        },
        {
          "name": "stdout",
          "output_type": "stream",
          "text": [
            "                   all       0.87          1\n"
          ]
        },
        {
          "name": "stderr",
          "output_type": "stream",
          "text": [
            "\n"
          ]
        },
        {
          "name": "stdout",
          "output_type": "stream",
          "text": [
            "\n",
            "      Epoch    GPU_mem       loss  Instances       Size\n"
          ]
        },
        {
          "name": "stderr",
          "output_type": "stream",
          "text": [
            "     11/100      1.49G     0.2803          7        320: 100%|██████████| 124/124 [00:42<00:00,  2.91it/s]\n",
            "               classes   top1_acc   top5_acc: 100%|██████████| 8/8 [00:02<00:00,  3.83it/s]"
          ]
        },
        {
          "name": "stdout",
          "output_type": "stream",
          "text": [
            "                   all      0.878          1\n"
          ]
        },
        {
          "name": "stderr",
          "output_type": "stream",
          "text": [
            "\n"
          ]
        },
        {
          "name": "stdout",
          "output_type": "stream",
          "text": [
            "\n",
            "      Epoch    GPU_mem       loss  Instances       Size\n"
          ]
        },
        {
          "name": "stderr",
          "output_type": "stream",
          "text": [
            "     12/100      1.49G     0.2838          7        320: 100%|██████████| 124/124 [00:42<00:00,  2.91it/s]\n",
            "               classes   top1_acc   top5_acc: 100%|██████████| 8/8 [00:03<00:00,  2.10it/s]"
          ]
        },
        {
          "name": "stdout",
          "output_type": "stream",
          "text": [
            "                   all      0.835          1\n"
          ]
        },
        {
          "name": "stderr",
          "output_type": "stream",
          "text": [
            "\n"
          ]
        },
        {
          "name": "stdout",
          "output_type": "stream",
          "text": [
            "\n",
            "      Epoch    GPU_mem       loss  Instances       Size\n"
          ]
        },
        {
          "name": "stderr",
          "output_type": "stream",
          "text": [
            "     13/100      1.48G     0.2483          7        320: 100%|██████████| 124/124 [00:44<00:00,  2.77it/s]\n",
            "               classes   top1_acc   top5_acc: 100%|██████████| 8/8 [00:01<00:00,  4.04it/s]"
          ]
        },
        {
          "name": "stdout",
          "output_type": "stream",
          "text": [
            "                   all       0.85          1\n"
          ]
        },
        {
          "name": "stderr",
          "output_type": "stream",
          "text": [
            "\n"
          ]
        },
        {
          "name": "stdout",
          "output_type": "stream",
          "text": [
            "\n",
            "      Epoch    GPU_mem       loss  Instances       Size\n"
          ]
        },
        {
          "name": "stderr",
          "output_type": "stream",
          "text": [
            "     14/100      1.49G     0.2311          7        320: 100%|██████████| 124/124 [00:43<00:00,  2.87it/s]\n",
            "               classes   top1_acc   top5_acc: 100%|██████████| 8/8 [00:01<00:00,  4.15it/s]"
          ]
        },
        {
          "name": "stdout",
          "output_type": "stream",
          "text": [
            "                   all       0.87          1\n"
          ]
        },
        {
          "name": "stderr",
          "output_type": "stream",
          "text": [
            "\n"
          ]
        },
        {
          "name": "stdout",
          "output_type": "stream",
          "text": [
            "\n",
            "      Epoch    GPU_mem       loss  Instances       Size\n"
          ]
        },
        {
          "name": "stderr",
          "output_type": "stream",
          "text": [
            "     15/100      1.49G     0.2064          7        320: 100%|██████████| 124/124 [00:45<00:00,  2.75it/s]\n",
            "               classes   top1_acc   top5_acc: 100%|██████████| 8/8 [00:03<00:00,  2.27it/s]"
          ]
        },
        {
          "name": "stdout",
          "output_type": "stream",
          "text": [
            "                   all      0.872          1\n"
          ]
        },
        {
          "name": "stderr",
          "output_type": "stream",
          "text": [
            "\n"
          ]
        },
        {
          "name": "stdout",
          "output_type": "stream",
          "text": [
            "\n",
            "      Epoch    GPU_mem       loss  Instances       Size\n"
          ]
        },
        {
          "name": "stderr",
          "output_type": "stream",
          "text": [
            "     16/100      1.49G     0.2117          7        320: 100%|██████████| 124/124 [00:42<00:00,  2.90it/s]\n",
            "               classes   top1_acc   top5_acc: 100%|██████████| 8/8 [00:01<00:00,  4.29it/s]"
          ]
        },
        {
          "name": "stdout",
          "output_type": "stream",
          "text": [
            "                   all      0.854          1\n"
          ]
        },
        {
          "name": "stderr",
          "output_type": "stream",
          "text": [
            "\n"
          ]
        },
        {
          "name": "stdout",
          "output_type": "stream",
          "text": [
            "\n",
            "      Epoch    GPU_mem       loss  Instances       Size\n"
          ]
        },
        {
          "name": "stderr",
          "output_type": "stream",
          "text": [
            "     17/100      1.49G     0.1996          7        320: 100%|██████████| 124/124 [00:41<00:00,  2.96it/s]\n",
            "               classes   top1_acc   top5_acc: 100%|██████████| 8/8 [00:02<00:00,  3.68it/s]"
          ]
        },
        {
          "name": "stdout",
          "output_type": "stream",
          "text": [
            "                   all      0.864          1\n"
          ]
        },
        {
          "name": "stderr",
          "output_type": "stream",
          "text": [
            "\n"
          ]
        },
        {
          "name": "stdout",
          "output_type": "stream",
          "text": [
            "\n",
            "      Epoch    GPU_mem       loss  Instances       Size\n"
          ]
        },
        {
          "name": "stderr",
          "output_type": "stream",
          "text": [
            "     18/100      1.49G     0.2113          7        320: 100%|██████████| 124/124 [00:44<00:00,  2.76it/s]\n",
            "               classes   top1_acc   top5_acc: 100%|██████████| 8/8 [00:02<00:00,  3.50it/s]"
          ]
        },
        {
          "name": "stdout",
          "output_type": "stream",
          "text": [
            "                   all      0.872          1\n",
            "\u001b[34m\u001b[1mEarlyStopping: \u001b[0mTraining stopped early as no improvement observed in last 7 epochs. Best results observed at epoch 11, best model saved as best.pt.\n",
            "To update EarlyStopping(patience=7) pass a new patience value, i.e. `patience=300` or use `patience=0` to disable EarlyStopping.\n"
          ]
        },
        {
          "name": "stderr",
          "output_type": "stream",
          "text": [
            "\n"
          ]
        },
        {
          "name": "stdout",
          "output_type": "stream",
          "text": [
            "\n",
            "18 epochs completed in 0.243 hours.\n",
            "Optimizer stripped from runs/classify/custom_yolov8_classification2/weights/last.pt, 10.3MB\n",
            "Optimizer stripped from runs/classify/custom_yolov8_classification2/weights/best.pt, 10.3MB\n",
            "\n",
            "Validating runs/classify/custom_yolov8_classification2/weights/best.pt...\n",
            "Ultralytics 8.3.61 🚀 Python-3.10.12 torch-2.5.1+cu121 CUDA:0 (Tesla T4, 15102MiB)\n",
            "YOLOv8s-cls summary (fused): 73 layers, 5,080,324 parameters, 0 gradients, 12.5 GFLOPs\n",
            "\u001b[34m\u001b[1mtrain:\u001b[0m /content/processed_dataset/train... found 3943 images in 4 classes ✅ \n",
            "\u001b[34m\u001b[1mval:\u001b[0m /content/processed_dataset/val... found 492 images in 4 classes ✅ \n",
            "\u001b[34m\u001b[1mtest:\u001b[0m /content/processed_dataset/test... found 496 images in 4 classes ✅ \n"
          ]
        },
        {
          "name": "stderr",
          "output_type": "stream",
          "text": [
            "               classes   top1_acc   top5_acc: 100%|██████████| 8/8 [00:02<00:00,  3.48it/s]\n"
          ]
        },
        {
          "name": "stdout",
          "output_type": "stream",
          "text": [
            "                   all      0.878          1\n",
            "Speed: 0.1ms preprocess, 0.8ms inference, 0.0ms loss, 0.0ms postprocess per image\n",
            "Results saved to \u001b[1mruns/classify/custom_yolov8_classification2\u001b[0m\n"
          ]
        }
      ],
      "source": [
        "# Step 4: Train the Model with Early Stopping\n",
        "results = model.train(\n",
        "    data=output_path,  # Path to dataset\n",
        "    epochs=100,         # Number of epochs\n",
        "    imgsz=300,         # Image size\n",
        "    batch=32,          # Batch size\n",
        "    patience=7,        # Early stopping after 5 epochs without improvement\n",
        "    name='custom_yolov8_classification'  # Run name for logs\n",
        ")"
      ]
    },
    {
      "cell_type": "code",
      "execution_count": null,
      "metadata": {
        "colab": {
          "base_uri": "https://localhost:8080/"
        },
        "id": "V2dFIYxV3oSC",
        "outputId": "20546afd-6f2d-4808-e291-c2453fff3fe8"
      },
      "outputs": [
        {
          "name": "stdout",
          "output_type": "stream",
          "text": [
            "args.yaml                                          train_batch0.jpg       val_batch1_pred.jpg\n",
            "confusion_matrix_normalized.png                    train_batch1.jpg       val_batch2_labels.jpg\n",
            "confusion_matrix.png                               train_batch2.jpg       val_batch2_pred.jpg\n",
            "events.out.tfevents.1736923661.cc17c0e1f52f.482.0  val_batch0_labels.jpg  \u001b[0m\u001b[01;34mweights\u001b[0m/\n",
            "results.csv                                        val_batch0_pred.jpg\n",
            "results.png                                        val_batch1_labels.jpg\n"
          ]
        }
      ],
      "source": [
        "ls \"/content/runs/classify/custom_yolov8_classification\""
      ]
    },
    {
      "cell_type": "code",
      "execution_count": null,
      "metadata": {
        "id": "MWc1QmR97NPQ"
      },
      "outputs": [],
      "source": [
        "!scp -r /content/runs/classify/custom_yolov8_classification2 \"/content/drive/MyDrive/Runs/Yolov8s-100e/\""
      ]
    },
    {
      "cell_type": "markdown",
      "metadata": {
        "id": "pG603fCahZqJ"
      },
      "source": [
        "**Medium**"
      ]
    },
    {
      "cell_type": "code",
      "execution_count": null,
      "metadata": {
        "colab": {
          "base_uri": "https://localhost:8080/"
        },
        "id": "AzoFELRU7Y9P",
        "outputId": "b32a73f7-aa03-48d2-bb46-070c2db7397c"
      },
      "outputs": [
        {
          "name": "stdout",
          "output_type": "stream",
          "text": [
            "Downloading https://github.com/ultralytics/assets/releases/download/v8.3.0/yolov8m-cls.pt to 'yolov8m-cls.pt'...\n"
          ]
        },
        {
          "name": "stderr",
          "output_type": "stream",
          "text": [
            "100%|██████████| 32.7M/32.7M [00:00<00:00, 40.1MB/s]\n"
          ]
        }
      ],
      "source": [
        "model = YOLO('yolov8m-cls.pt')  # Using YOLOv8 nano pretrained on ImageNet"
      ]
    },
    {
      "cell_type": "code",
      "execution_count": null,
      "metadata": {
        "colab": {
          "base_uri": "https://localhost:8080/"
        },
        "id": "99Ek3Y3Z75ph",
        "outputId": "5895e15a-aa4e-449e-f173-088fbcf90fdc"
      },
      "outputs": [
        {
          "name": "stdout",
          "output_type": "stream",
          "text": [
            "Ultralytics 8.3.61 🚀 Python-3.10.12 torch-2.5.1+cu121 CUDA:0 (Tesla T4, 15102MiB)\n",
            "\u001b[34m\u001b[1mengine/trainer: \u001b[0mtask=classify, mode=train, model=yolov8m-cls.pt, data=/content/processed_dataset, epochs=100, time=None, patience=7, batch=32, imgsz=300, save=True, save_period=-1, cache=False, device=None, workers=8, project=None, name=custom_yolov8_classification3, exist_ok=False, pretrained=True, optimizer=auto, verbose=True, seed=0, deterministic=True, single_cls=False, rect=False, cos_lr=False, close_mosaic=10, resume=False, amp=True, fraction=1.0, profile=False, freeze=None, multi_scale=False, overlap_mask=True, mask_ratio=4, dropout=0.0, val=True, split=val, save_json=False, save_hybrid=False, conf=None, iou=0.7, max_det=300, half=False, dnn=False, plots=True, source=None, vid_stride=1, stream_buffer=False, visualize=False, augment=False, agnostic_nms=False, classes=None, retina_masks=False, embed=None, show=False, save_frames=False, save_txt=False, save_conf=False, save_crop=False, show_labels=True, show_conf=True, show_boxes=True, line_width=None, format=torchscript, keras=False, optimize=False, int8=False, dynamic=False, simplify=True, opset=None, workspace=None, nms=False, lr0=0.01, lrf=0.01, momentum=0.937, weight_decay=0.0005, warmup_epochs=3.0, warmup_momentum=0.8, warmup_bias_lr=0.1, box=7.5, cls=0.5, dfl=1.5, pose=12.0, kobj=1.0, nbs=64, hsv_h=0.015, hsv_s=0.7, hsv_v=0.4, degrees=0.0, translate=0.1, scale=0.5, shear=0.0, perspective=0.0, flipud=0.0, fliplr=0.5, bgr=0.0, mosaic=1.0, mixup=0.0, copy_paste=0.0, copy_paste_mode=flip, auto_augment=randaugment, erasing=0.4, crop_fraction=1.0, cfg=None, tracker=botsort.yaml, save_dir=runs/classify/custom_yolov8_classification3\n",
            "\u001b[34m\u001b[1mtrain:\u001b[0m /content/processed_dataset/train... found 3943 images in 4 classes ✅ \n",
            "\u001b[34m\u001b[1mval:\u001b[0m /content/processed_dataset/val... found 492 images in 4 classes ✅ \n",
            "\u001b[34m\u001b[1mtest:\u001b[0m /content/processed_dataset/test... found 496 images in 4 classes ✅ \n",
            "Overriding model.yaml nc=1000 with nc=4\n",
            "\n",
            "                   from  n    params  module                                       arguments                     \n",
            "  0                  -1  1      1392  ultralytics.nn.modules.conv.Conv             [3, 48, 3, 2]                 \n",
            "  1                  -1  1     41664  ultralytics.nn.modules.conv.Conv             [48, 96, 3, 2]                \n",
            "  2                  -1  2    111360  ultralytics.nn.modules.block.C2f             [96, 96, 2, True]             \n",
            "  3                  -1  1    166272  ultralytics.nn.modules.conv.Conv             [96, 192, 3, 2]               \n",
            "  4                  -1  4    813312  ultralytics.nn.modules.block.C2f             [192, 192, 4, True]           \n",
            "  5                  -1  1    664320  ultralytics.nn.modules.conv.Conv             [192, 384, 3, 2]              \n",
            "  6                  -1  4   3248640  ultralytics.nn.modules.block.C2f             [384, 384, 4, True]           \n",
            "  7                  -1  1   2655744  ultralytics.nn.modules.conv.Conv             [384, 768, 3, 2]              \n",
            "  8                  -1  2   7084032  ultralytics.nn.modules.block.C2f             [768, 768, 2, True]           \n",
            "  9                  -1  1    990724  ultralytics.nn.modules.head.Classify         [768, 4]                      \n",
            "YOLOv8m-cls summary: 141 layers, 15,777,460 parameters, 15,777,460 gradients, 41.9 GFLOPs\n",
            "Transferred 228/230 items from pretrained weights\n",
            "\u001b[34m\u001b[1mTensorBoard: \u001b[0mStart with 'tensorboard --logdir runs/classify/custom_yolov8_classification3', view at http://localhost:6006/\n",
            "\u001b[34m\u001b[1mAMP: \u001b[0mrunning Automatic Mixed Precision (AMP) checks...\n",
            "\u001b[34m\u001b[1mAMP: \u001b[0mchecks passed ✅\n",
            "WARNING ⚠️ imgsz=[300] must be multiple of max stride 32, updating to [320]\n"
          ]
        },
        {
          "name": "stderr",
          "output_type": "stream",
          "text": [
            "\u001b[34m\u001b[1mtrain: \u001b[0mScanning /content/processed_dataset/train... 3943 images, 0 corrupt: 100%|██████████| 3943/3943 [00:00<?, ?it/s]\n",
            "\u001b[34m\u001b[1mval: \u001b[0mScanning /content/processed_dataset/val... 492 images, 0 corrupt: 100%|██████████| 492/492 [00:00<?, ?it/s]\n"
          ]
        },
        {
          "name": "stdout",
          "output_type": "stream",
          "text": [
            "\u001b[34m\u001b[1moptimizer:\u001b[0m 'optimizer=auto' found, ignoring 'lr0=0.01' and 'momentum=0.937' and determining best 'optimizer', 'lr0' and 'momentum' automatically... \n",
            "\u001b[34m\u001b[1moptimizer:\u001b[0m AdamW(lr=0.000714, momentum=0.9) with parameter groups 38 weight(decay=0.0), 39 weight(decay=0.0005), 39 bias(decay=0.0)\n",
            "\u001b[34m\u001b[1mTensorBoard: \u001b[0mmodel graph visualization added ✅\n",
            "Image sizes 320 train, 320 val\n",
            "Using 2 dataloader workers\n",
            "Logging results to \u001b[1mruns/classify/custom_yolov8_classification3\u001b[0m\n",
            "Starting training for 100 epochs...\n",
            "\n",
            "      Epoch    GPU_mem       loss  Instances       Size\n"
          ]
        },
        {
          "name": "stderr",
          "output_type": "stream",
          "text": [
            "      1/100      2.62G      1.068          7        320: 100%|██████████| 124/124 [00:48<00:00,  2.55it/s]\n",
            "               classes   top1_acc   top5_acc: 100%|██████████| 8/8 [00:02<00:00,  2.67it/s]"
          ]
        },
        {
          "name": "stdout",
          "output_type": "stream",
          "text": [
            "                   all      0.742          1\n"
          ]
        },
        {
          "name": "stderr",
          "output_type": "stream",
          "text": [
            "\n"
          ]
        },
        {
          "name": "stdout",
          "output_type": "stream",
          "text": [
            "\n",
            "      Epoch    GPU_mem       loss  Instances       Size\n"
          ]
        },
        {
          "name": "stderr",
          "output_type": "stream",
          "text": [
            "      2/100      2.53G     0.6477          7        320: 100%|██████████| 124/124 [00:45<00:00,  2.74it/s]\n",
            "               classes   top1_acc   top5_acc: 100%|██████████| 8/8 [00:02<00:00,  2.93it/s]"
          ]
        },
        {
          "name": "stdout",
          "output_type": "stream",
          "text": [
            "                   all      0.813          1\n"
          ]
        },
        {
          "name": "stderr",
          "output_type": "stream",
          "text": [
            "\n"
          ]
        },
        {
          "name": "stdout",
          "output_type": "stream",
          "text": [
            "\n",
            "      Epoch    GPU_mem       loss  Instances       Size\n"
          ]
        },
        {
          "name": "stderr",
          "output_type": "stream",
          "text": [
            "      3/100      2.66G     0.5743          7        320: 100%|██████████| 124/124 [00:47<00:00,  2.62it/s]\n",
            "               classes   top1_acc   top5_acc: 100%|██████████| 8/8 [00:02<00:00,  4.00it/s]"
          ]
        },
        {
          "name": "stdout",
          "output_type": "stream",
          "text": [
            "                   all      0.803          1\n"
          ]
        },
        {
          "name": "stderr",
          "output_type": "stream",
          "text": [
            "\n"
          ]
        },
        {
          "name": "stdout",
          "output_type": "stream",
          "text": [
            "\n",
            "      Epoch    GPU_mem       loss  Instances       Size\n"
          ]
        },
        {
          "name": "stderr",
          "output_type": "stream",
          "text": [
            "      4/100      2.54G     0.5025          7        320: 100%|██████████| 124/124 [00:44<00:00,  2.78it/s]\n",
            "               classes   top1_acc   top5_acc: 100%|██████████| 8/8 [00:03<00:00,  2.28it/s]"
          ]
        },
        {
          "name": "stdout",
          "output_type": "stream",
          "text": [
            "                   all      0.829          1\n"
          ]
        },
        {
          "name": "stderr",
          "output_type": "stream",
          "text": [
            "\n"
          ]
        },
        {
          "name": "stdout",
          "output_type": "stream",
          "text": [
            "\n",
            "      Epoch    GPU_mem       loss  Instances       Size\n"
          ]
        },
        {
          "name": "stderr",
          "output_type": "stream",
          "text": [
            "      5/100      2.66G     0.4641          7        320: 100%|██████████| 124/124 [00:47<00:00,  2.63it/s]\n",
            "               classes   top1_acc   top5_acc: 100%|██████████| 8/8 [00:02<00:00,  3.75it/s]"
          ]
        },
        {
          "name": "stdout",
          "output_type": "stream",
          "text": [
            "                   all      0.825          1\n"
          ]
        },
        {
          "name": "stderr",
          "output_type": "stream",
          "text": [
            "\n"
          ]
        },
        {
          "name": "stdout",
          "output_type": "stream",
          "text": [
            "\n",
            "      Epoch    GPU_mem       loss  Instances       Size\n"
          ]
        },
        {
          "name": "stderr",
          "output_type": "stream",
          "text": [
            "      6/100      2.54G     0.4014          7        320: 100%|██████████| 124/124 [00:45<00:00,  2.74it/s]\n",
            "               classes   top1_acc   top5_acc: 100%|██████████| 8/8 [00:03<00:00,  2.34it/s]"
          ]
        },
        {
          "name": "stdout",
          "output_type": "stream",
          "text": [
            "                   all      0.841          1\n"
          ]
        },
        {
          "name": "stderr",
          "output_type": "stream",
          "text": [
            "\n"
          ]
        },
        {
          "name": "stdout",
          "output_type": "stream",
          "text": [
            "\n",
            "      Epoch    GPU_mem       loss  Instances       Size\n"
          ]
        },
        {
          "name": "stderr",
          "output_type": "stream",
          "text": [
            "      7/100      2.66G     0.3752          7        320: 100%|██████████| 124/124 [00:46<00:00,  2.69it/s]\n",
            "               classes   top1_acc   top5_acc: 100%|██████████| 8/8 [00:02<00:00,  3.77it/s]"
          ]
        },
        {
          "name": "stdout",
          "output_type": "stream",
          "text": [
            "                   all      0.874          1\n"
          ]
        },
        {
          "name": "stderr",
          "output_type": "stream",
          "text": [
            "\n"
          ]
        },
        {
          "name": "stdout",
          "output_type": "stream",
          "text": [
            "\n",
            "      Epoch    GPU_mem       loss  Instances       Size\n"
          ]
        },
        {
          "name": "stderr",
          "output_type": "stream",
          "text": [
            "      8/100      2.54G     0.3147          7        320: 100%|██████████| 124/124 [00:44<00:00,  2.78it/s]\n",
            "               classes   top1_acc   top5_acc: 100%|██████████| 8/8 [00:03<00:00,  2.13it/s]"
          ]
        },
        {
          "name": "stdout",
          "output_type": "stream",
          "text": [
            "                   all      0.866          1\n"
          ]
        },
        {
          "name": "stderr",
          "output_type": "stream",
          "text": [
            "\n"
          ]
        },
        {
          "name": "stdout",
          "output_type": "stream",
          "text": [
            "\n",
            "      Epoch    GPU_mem       loss  Instances       Size\n"
          ]
        },
        {
          "name": "stderr",
          "output_type": "stream",
          "text": [
            "      9/100      2.66G     0.3135          7        320: 100%|██████████| 124/124 [00:44<00:00,  2.76it/s]\n",
            "               classes   top1_acc   top5_acc: 100%|██████████| 8/8 [00:02<00:00,  3.89it/s]"
          ]
        },
        {
          "name": "stdout",
          "output_type": "stream",
          "text": [
            "                   all      0.841          1\n"
          ]
        },
        {
          "name": "stderr",
          "output_type": "stream",
          "text": [
            "\n"
          ]
        },
        {
          "name": "stdout",
          "output_type": "stream",
          "text": [
            "\n",
            "      Epoch    GPU_mem       loss  Instances       Size\n"
          ]
        },
        {
          "name": "stderr",
          "output_type": "stream",
          "text": [
            "     10/100      2.54G     0.3003          7        320: 100%|██████████| 124/124 [00:44<00:00,  2.79it/s]\n",
            "               classes   top1_acc   top5_acc: 100%|██████████| 8/8 [00:03<00:00,  2.31it/s]"
          ]
        },
        {
          "name": "stdout",
          "output_type": "stream",
          "text": [
            "                   all      0.876          1\n"
          ]
        },
        {
          "name": "stderr",
          "output_type": "stream",
          "text": [
            "\n"
          ]
        },
        {
          "name": "stdout",
          "output_type": "stream",
          "text": [
            "\n",
            "      Epoch    GPU_mem       loss  Instances       Size\n"
          ]
        },
        {
          "name": "stderr",
          "output_type": "stream",
          "text": [
            "     11/100      2.66G     0.2893          7        320: 100%|██████████| 124/124 [00:45<00:00,  2.72it/s]\n",
            "               classes   top1_acc   top5_acc: 100%|██████████| 8/8 [00:02<00:00,  3.96it/s]"
          ]
        },
        {
          "name": "stdout",
          "output_type": "stream",
          "text": [
            "                   all       0.85          1\n"
          ]
        },
        {
          "name": "stderr",
          "output_type": "stream",
          "text": [
            "\n"
          ]
        },
        {
          "name": "stdout",
          "output_type": "stream",
          "text": [
            "\n",
            "      Epoch    GPU_mem       loss  Instances       Size\n"
          ]
        },
        {
          "name": "stderr",
          "output_type": "stream",
          "text": [
            "     12/100      2.54G     0.2762          7        320: 100%|██████████| 124/124 [00:42<00:00,  2.89it/s]\n",
            "               classes   top1_acc   top5_acc: 100%|██████████| 8/8 [00:03<00:00,  2.35it/s]"
          ]
        },
        {
          "name": "stdout",
          "output_type": "stream",
          "text": [
            "                   all      0.864          1\n"
          ]
        },
        {
          "name": "stderr",
          "output_type": "stream",
          "text": [
            "\n"
          ]
        },
        {
          "name": "stdout",
          "output_type": "stream",
          "text": [
            "\n",
            "      Epoch    GPU_mem       loss  Instances       Size\n"
          ]
        },
        {
          "name": "stderr",
          "output_type": "stream",
          "text": [
            "     13/100      2.66G     0.2373          7        320: 100%|██████████| 124/124 [00:45<00:00,  2.72it/s]\n",
            "               classes   top1_acc   top5_acc: 100%|██████████| 8/8 [00:02<00:00,  3.59it/s]"
          ]
        },
        {
          "name": "stdout",
          "output_type": "stream",
          "text": [
            "                   all      0.876          1\n"
          ]
        },
        {
          "name": "stderr",
          "output_type": "stream",
          "text": [
            "\n"
          ]
        },
        {
          "name": "stdout",
          "output_type": "stream",
          "text": [
            "\n",
            "      Epoch    GPU_mem       loss  Instances       Size\n"
          ]
        },
        {
          "name": "stderr",
          "output_type": "stream",
          "text": [
            "     14/100      2.54G      0.198          7        320: 100%|██████████| 124/124 [00:44<00:00,  2.79it/s]\n",
            "               classes   top1_acc   top5_acc: 100%|██████████| 8/8 [00:03<00:00,  2.12it/s]"
          ]
        },
        {
          "name": "stdout",
          "output_type": "stream",
          "text": [
            "                   all      0.886          1\n"
          ]
        },
        {
          "name": "stderr",
          "output_type": "stream",
          "text": [
            "\n"
          ]
        },
        {
          "name": "stdout",
          "output_type": "stream",
          "text": [
            "\n",
            "      Epoch    GPU_mem       loss  Instances       Size\n"
          ]
        },
        {
          "name": "stderr",
          "output_type": "stream",
          "text": [
            "     15/100      2.66G     0.1915          7        320: 100%|██████████| 124/124 [00:43<00:00,  2.83it/s]\n",
            "               classes   top1_acc   top5_acc: 100%|██████████| 8/8 [00:02<00:00,  3.83it/s]"
          ]
        },
        {
          "name": "stdout",
          "output_type": "stream",
          "text": [
            "                   all      0.876          1\n"
          ]
        },
        {
          "name": "stderr",
          "output_type": "stream",
          "text": [
            "\n"
          ]
        },
        {
          "name": "stdout",
          "output_type": "stream",
          "text": [
            "\n",
            "      Epoch    GPU_mem       loss  Instances       Size\n"
          ]
        },
        {
          "name": "stderr",
          "output_type": "stream",
          "text": [
            "     16/100      2.54G     0.1959          7        320: 100%|██████████| 124/124 [00:44<00:00,  2.77it/s]\n",
            "               classes   top1_acc   top5_acc: 100%|██████████| 8/8 [00:03<00:00,  2.13it/s]"
          ]
        },
        {
          "name": "stdout",
          "output_type": "stream",
          "text": [
            "                   all       0.89          1\n"
          ]
        },
        {
          "name": "stderr",
          "output_type": "stream",
          "text": [
            "\n"
          ]
        },
        {
          "name": "stdout",
          "output_type": "stream",
          "text": [
            "\n",
            "      Epoch    GPU_mem       loss  Instances       Size\n"
          ]
        },
        {
          "name": "stderr",
          "output_type": "stream",
          "text": [
            "     17/100      2.66G     0.2055          7        320: 100%|██████████| 124/124 [00:44<00:00,  2.80it/s]\n",
            "               classes   top1_acc   top5_acc: 100%|██████████| 8/8 [00:02<00:00,  3.63it/s]"
          ]
        },
        {
          "name": "stdout",
          "output_type": "stream",
          "text": [
            "                   all      0.872          1\n"
          ]
        },
        {
          "name": "stderr",
          "output_type": "stream",
          "text": [
            "\n"
          ]
        },
        {
          "name": "stdout",
          "output_type": "stream",
          "text": [
            "\n",
            "      Epoch    GPU_mem       loss  Instances       Size\n"
          ]
        },
        {
          "name": "stderr",
          "output_type": "stream",
          "text": [
            "     18/100      2.54G     0.2136          7        320: 100%|██████████| 124/124 [00:46<00:00,  2.69it/s]\n",
            "               classes   top1_acc   top5_acc: 100%|██████████| 8/8 [00:03<00:00,  2.07it/s]"
          ]
        },
        {
          "name": "stdout",
          "output_type": "stream",
          "text": [
            "                   all      0.882          1\n"
          ]
        },
        {
          "name": "stderr",
          "output_type": "stream",
          "text": [
            "\n"
          ]
        },
        {
          "name": "stdout",
          "output_type": "stream",
          "text": [
            "\n",
            "      Epoch    GPU_mem       loss  Instances       Size\n"
          ]
        },
        {
          "name": "stderr",
          "output_type": "stream",
          "text": [
            "     19/100      2.66G     0.1628          7        320: 100%|██████████| 124/124 [00:45<00:00,  2.75it/s]\n",
            "               classes   top1_acc   top5_acc: 100%|██████████| 8/8 [00:01<00:00,  4.11it/s]"
          ]
        },
        {
          "name": "stdout",
          "output_type": "stream",
          "text": [
            "                   all      0.898          1\n"
          ]
        },
        {
          "name": "stderr",
          "output_type": "stream",
          "text": [
            "\n"
          ]
        },
        {
          "name": "stdout",
          "output_type": "stream",
          "text": [
            "\n",
            "      Epoch    GPU_mem       loss  Instances       Size\n"
          ]
        },
        {
          "name": "stderr",
          "output_type": "stream",
          "text": [
            "     20/100      2.54G     0.1568          7        320: 100%|██████████| 124/124 [00:46<00:00,  2.67it/s]\n",
            "               classes   top1_acc   top5_acc: 100%|██████████| 8/8 [00:03<00:00,  2.32it/s]"
          ]
        },
        {
          "name": "stdout",
          "output_type": "stream",
          "text": [
            "                   all      0.888          1\n"
          ]
        },
        {
          "name": "stderr",
          "output_type": "stream",
          "text": [
            "\n"
          ]
        },
        {
          "name": "stdout",
          "output_type": "stream",
          "text": [
            "\n",
            "      Epoch    GPU_mem       loss  Instances       Size\n"
          ]
        },
        {
          "name": "stderr",
          "output_type": "stream",
          "text": [
            "     21/100      2.66G     0.1492          7        320: 100%|██████████| 124/124 [00:44<00:00,  2.78it/s]\n",
            "               classes   top1_acc   top5_acc: 100%|██████████| 8/8 [00:02<00:00,  3.58it/s]"
          ]
        },
        {
          "name": "stdout",
          "output_type": "stream",
          "text": [
            "                   all      0.876          1\n"
          ]
        },
        {
          "name": "stderr",
          "output_type": "stream",
          "text": [
            "\n"
          ]
        },
        {
          "name": "stdout",
          "output_type": "stream",
          "text": [
            "\n",
            "      Epoch    GPU_mem       loss  Instances       Size\n"
          ]
        },
        {
          "name": "stderr",
          "output_type": "stream",
          "text": [
            "     22/100      2.54G     0.1362          7        320: 100%|██████████| 124/124 [00:47<00:00,  2.61it/s]\n",
            "               classes   top1_acc   top5_acc: 100%|██████████| 8/8 [00:02<00:00,  2.69it/s]"
          ]
        },
        {
          "name": "stdout",
          "output_type": "stream",
          "text": [
            "                   all      0.882          1\n"
          ]
        },
        {
          "name": "stderr",
          "output_type": "stream",
          "text": [
            "\n"
          ]
        },
        {
          "name": "stdout",
          "output_type": "stream",
          "text": [
            "\n",
            "      Epoch    GPU_mem       loss  Instances       Size\n"
          ]
        },
        {
          "name": "stderr",
          "output_type": "stream",
          "text": [
            "     23/100      2.66G     0.1358          7        320: 100%|██████████| 124/124 [00:45<00:00,  2.74it/s]\n",
            "               classes   top1_acc   top5_acc: 100%|██████████| 8/8 [00:02<00:00,  3.71it/s]"
          ]
        },
        {
          "name": "stdout",
          "output_type": "stream",
          "text": [
            "                   all      0.886          1\n"
          ]
        },
        {
          "name": "stderr",
          "output_type": "stream",
          "text": [
            "\n"
          ]
        },
        {
          "name": "stdout",
          "output_type": "stream",
          "text": [
            "\n",
            "      Epoch    GPU_mem       loss  Instances       Size\n"
          ]
        },
        {
          "name": "stderr",
          "output_type": "stream",
          "text": [
            "     24/100      2.54G      0.146          7        320: 100%|██████████| 124/124 [00:46<00:00,  2.64it/s]\n",
            "               classes   top1_acc   top5_acc: 100%|██████████| 8/8 [00:02<00:00,  3.70it/s]"
          ]
        },
        {
          "name": "stdout",
          "output_type": "stream",
          "text": [
            "                   all      0.858          1\n"
          ]
        },
        {
          "name": "stderr",
          "output_type": "stream",
          "text": [
            "\n"
          ]
        },
        {
          "name": "stdout",
          "output_type": "stream",
          "text": [
            "\n",
            "      Epoch    GPU_mem       loss  Instances       Size\n"
          ]
        },
        {
          "name": "stderr",
          "output_type": "stream",
          "text": [
            "     25/100      2.66G     0.1329          7        320: 100%|██████████| 124/124 [00:45<00:00,  2.73it/s]\n",
            "               classes   top1_acc   top5_acc: 100%|██████████| 8/8 [00:02<00:00,  2.72it/s]"
          ]
        },
        {
          "name": "stdout",
          "output_type": "stream",
          "text": [
            "                   all      0.896          1\n"
          ]
        },
        {
          "name": "stderr",
          "output_type": "stream",
          "text": [
            "\n"
          ]
        },
        {
          "name": "stdout",
          "output_type": "stream",
          "text": [
            "\n",
            "      Epoch    GPU_mem       loss  Instances       Size\n"
          ]
        },
        {
          "name": "stderr",
          "output_type": "stream",
          "text": [
            "     26/100      2.54G     0.1344          7        320: 100%|██████████| 124/124 [00:46<00:00,  2.67it/s]\n",
            "               classes   top1_acc   top5_acc: 100%|██████████| 8/8 [00:02<00:00,  3.58it/s]"
          ]
        },
        {
          "name": "stdout",
          "output_type": "stream",
          "text": [
            "                   all      0.896          1\n",
            "\u001b[34m\u001b[1mEarlyStopping: \u001b[0mTraining stopped early as no improvement observed in last 7 epochs. Best results observed at epoch 19, best model saved as best.pt.\n",
            "To update EarlyStopping(patience=7) pass a new patience value, i.e. `patience=300` or use `patience=0` to disable EarlyStopping.\n"
          ]
        },
        {
          "name": "stderr",
          "output_type": "stream",
          "text": [
            "\n"
          ]
        },
        {
          "name": "stdout",
          "output_type": "stream",
          "text": [
            "\n",
            "26 epochs completed in 0.370 hours.\n",
            "Optimizer stripped from runs/classify/custom_yolov8_classification3/weights/last.pt, 31.7MB\n",
            "Optimizer stripped from runs/classify/custom_yolov8_classification3/weights/best.pt, 31.7MB\n",
            "\n",
            "Validating runs/classify/custom_yolov8_classification3/weights/best.pt...\n",
            "Ultralytics 8.3.61 🚀 Python-3.10.12 torch-2.5.1+cu121 CUDA:0 (Tesla T4, 15102MiB)\n",
            "YOLOv8m-cls summary (fused): 103 layers, 15,767,780 parameters, 0 gradients, 41.6 GFLOPs\n",
            "\u001b[34m\u001b[1mtrain:\u001b[0m /content/processed_dataset/train... found 3943 images in 4 classes ✅ \n",
            "\u001b[34m\u001b[1mval:\u001b[0m /content/processed_dataset/val... found 492 images in 4 classes ✅ \n",
            "\u001b[34m\u001b[1mtest:\u001b[0m /content/processed_dataset/test... found 496 images in 4 classes ✅ \n"
          ]
        },
        {
          "name": "stderr",
          "output_type": "stream",
          "text": [
            "               classes   top1_acc   top5_acc: 100%|██████████| 8/8 [00:02<00:00,  3.29it/s]\n"
          ]
        },
        {
          "name": "stdout",
          "output_type": "stream",
          "text": [
            "                   all      0.898          1\n",
            "Speed: 0.1ms preprocess, 1.3ms inference, 0.0ms loss, 0.0ms postprocess per image\n",
            "Results saved to \u001b[1mruns/classify/custom_yolov8_classification3\u001b[0m\n"
          ]
        }
      ],
      "source": [
        "# Step 4: Train the Model with Early Stopping\n",
        "results = model.train(\n",
        "    data=output_path,  # Path to dataset\n",
        "    epochs=100,         # Number of epochs\n",
        "    imgsz=300,         # Image size\n",
        "    batch=32,          # Batch size\n",
        "    patience=7,        # Early stopping after 5 epochs without improvement\n",
        "    name='custom_yolov8_classification'  # Run name for logs\n",
        ")"
      ]
    },
    {
      "cell_type": "code",
      "execution_count": null,
      "metadata": {
        "id": "jSnJLTqc7_Uh"
      },
      "outputs": [],
      "source": [
        "!scp -r /content/runs/classify/custom_yolov8_classification3 \"/content/drive/MyDrive/Runs/Yolov8m-100e/\""
      ]
    },
    {
      "cell_type": "markdown",
      "metadata": {
        "id": "wankC0pxheUR"
      },
      "source": [
        "**Large**"
      ]
    },
    {
      "cell_type": "code",
      "execution_count": null,
      "metadata": {
        "colab": {
          "base_uri": "https://localhost:8080/"
        },
        "id": "agTbCsraBhIP",
        "outputId": "ad2b8cf1-b532-4be9-b590-84e799c3e5fc"
      },
      "outputs": [
        {
          "name": "stdout",
          "output_type": "stream",
          "text": [
            "Downloading https://github.com/ultralytics/assets/releases/download/v8.3.0/yolov8l-cls.pt to 'yolov8l-cls.pt'...\n"
          ]
        },
        {
          "name": "stderr",
          "output_type": "stream",
          "text": [
            "100%|██████████| 71.7M/71.7M [00:03<00:00, 22.6MB/s]\n"
          ]
        }
      ],
      "source": [
        "model = YOLO('yolov8l-cls.pt')  # Using YOLOv8 nano pretrained on ImageNet"
      ]
    },
    {
      "cell_type": "code",
      "execution_count": null,
      "metadata": {
        "colab": {
          "base_uri": "https://localhost:8080/"
        },
        "id": "MyGcqjUGBuGn",
        "outputId": "3a110c21-9438-4d58-a00e-f2fe08028777"
      },
      "outputs": [
        {
          "name": "stdout",
          "output_type": "stream",
          "text": [
            "Ultralytics 8.3.61 🚀 Python-3.10.12 torch-2.5.1+cu121 CUDA:0 (Tesla T4, 15102MiB)\n",
            "\u001b[34m\u001b[1mengine/trainer: \u001b[0mtask=classify, mode=train, model=yolov8l-cls.pt, data=/content/processed_dataset, epochs=100, time=None, patience=7, batch=32, imgsz=300, save=True, save_period=-1, cache=False, device=None, workers=8, project=None, name=custom_yolov8_classification4, exist_ok=False, pretrained=True, optimizer=auto, verbose=True, seed=0, deterministic=True, single_cls=False, rect=False, cos_lr=False, close_mosaic=10, resume=False, amp=True, fraction=1.0, profile=False, freeze=None, multi_scale=False, overlap_mask=True, mask_ratio=4, dropout=0.0, val=True, split=val, save_json=False, save_hybrid=False, conf=None, iou=0.7, max_det=300, half=False, dnn=False, plots=True, source=None, vid_stride=1, stream_buffer=False, visualize=False, augment=False, agnostic_nms=False, classes=None, retina_masks=False, embed=None, show=False, save_frames=False, save_txt=False, save_conf=False, save_crop=False, show_labels=True, show_conf=True, show_boxes=True, line_width=None, format=torchscript, keras=False, optimize=False, int8=False, dynamic=False, simplify=True, opset=None, workspace=None, nms=False, lr0=0.01, lrf=0.01, momentum=0.937, weight_decay=0.0005, warmup_epochs=3.0, warmup_momentum=0.8, warmup_bias_lr=0.1, box=7.5, cls=0.5, dfl=1.5, pose=12.0, kobj=1.0, nbs=64, hsv_h=0.015, hsv_s=0.7, hsv_v=0.4, degrees=0.0, translate=0.1, scale=0.5, shear=0.0, perspective=0.0, flipud=0.0, fliplr=0.5, bgr=0.0, mosaic=1.0, mixup=0.0, copy_paste=0.0, copy_paste_mode=flip, auto_augment=randaugment, erasing=0.4, crop_fraction=1.0, cfg=None, tracker=botsort.yaml, save_dir=runs/classify/custom_yolov8_classification4\n",
            "\u001b[34m\u001b[1mtrain:\u001b[0m /content/processed_dataset/train... found 3943 images in 4 classes ✅ \n",
            "\u001b[34m\u001b[1mval:\u001b[0m /content/processed_dataset/val... found 492 images in 4 classes ✅ \n",
            "\u001b[34m\u001b[1mtest:\u001b[0m /content/processed_dataset/test... found 496 images in 4 classes ✅ \n",
            "Overriding model.yaml nc=1000 with nc=4\n",
            "\n",
            "                   from  n    params  module                                       arguments                     \n",
            "  0                  -1  1      1856  ultralytics.nn.modules.conv.Conv             [3, 64, 3, 2]                 \n",
            "  1                  -1  1     73984  ultralytics.nn.modules.conv.Conv             [64, 128, 3, 2]               \n",
            "  2                  -1  3    279808  ultralytics.nn.modules.block.C2f             [128, 128, 3, True]           \n",
            "  3                  -1  1    295424  ultralytics.nn.modules.conv.Conv             [128, 256, 3, 2]              \n",
            "  4                  -1  6   2101248  ultralytics.nn.modules.block.C2f             [256, 256, 6, True]           \n",
            "  5                  -1  1   1180672  ultralytics.nn.modules.conv.Conv             [256, 512, 3, 2]              \n",
            "  6                  -1  6   8396800  ultralytics.nn.modules.block.C2f             [512, 512, 6, True]           \n",
            "  7                  -1  1   4720640  ultralytics.nn.modules.conv.Conv             [512, 1024, 3, 2]             \n",
            "  8                  -1  3  17836032  ultralytics.nn.modules.block.C2f             [1024, 1024, 3, True]         \n",
            "  9                  -1  1   1318404  ultralytics.nn.modules.head.Classify         [1024, 4]                     \n",
            "YOLOv8l-cls summary: 183 layers, 36,204,868 parameters, 36,204,868 gradients, 99.1 GFLOPs\n",
            "Transferred 300/302 items from pretrained weights\n",
            "\u001b[34m\u001b[1mTensorBoard: \u001b[0mStart with 'tensorboard --logdir runs/classify/custom_yolov8_classification4', view at http://localhost:6006/\n",
            "\u001b[34m\u001b[1mAMP: \u001b[0mrunning Automatic Mixed Precision (AMP) checks...\n",
            "\u001b[34m\u001b[1mAMP: \u001b[0mchecks passed ✅\n",
            "WARNING ⚠️ imgsz=[300] must be multiple of max stride 32, updating to [320]\n"
          ]
        },
        {
          "name": "stderr",
          "output_type": "stream",
          "text": [
            "\u001b[34m\u001b[1mtrain: \u001b[0mScanning /content/processed_dataset/train... 3943 images, 0 corrupt: 100%|██████████| 3943/3943 [00:00<?, ?it/s]\n",
            "\u001b[34m\u001b[1mval: \u001b[0mScanning /content/processed_dataset/val... 492 images, 0 corrupt: 100%|██████████| 492/492 [00:00<?, ?it/s]\n"
          ]
        },
        {
          "name": "stdout",
          "output_type": "stream",
          "text": [
            "\u001b[34m\u001b[1moptimizer:\u001b[0m 'optimizer=auto' found, ignoring 'lr0=0.01' and 'momentum=0.937' and determining best 'optimizer', 'lr0' and 'momentum' automatically... \n",
            "\u001b[34m\u001b[1moptimizer:\u001b[0m AdamW(lr=0.000714, momentum=0.9) with parameter groups 50 weight(decay=0.0), 51 weight(decay=0.0005), 51 bias(decay=0.0)\n",
            "\u001b[34m\u001b[1mTensorBoard: \u001b[0mmodel graph visualization added ✅\n",
            "Image sizes 320 train, 320 val\n",
            "Using 2 dataloader workers\n",
            "Logging results to \u001b[1mruns/classify/custom_yolov8_classification4\u001b[0m\n",
            "Starting training for 100 epochs...\n",
            "\n",
            "      Epoch    GPU_mem       loss  Instances       Size\n"
          ]
        },
        {
          "name": "stderr",
          "output_type": "stream",
          "text": [
            "      1/100      4.41G      1.061          7        320: 100%|██████████| 124/124 [00:54<00:00,  2.28it/s]\n",
            "               classes   top1_acc   top5_acc: 100%|██████████| 8/8 [00:02<00:00,  3.15it/s]"
          ]
        },
        {
          "name": "stdout",
          "output_type": "stream",
          "text": [
            "                   all      0.754          1\n"
          ]
        },
        {
          "name": "stderr",
          "output_type": "stream",
          "text": [
            "\n"
          ]
        },
        {
          "name": "stdout",
          "output_type": "stream",
          "text": [
            "\n",
            "      Epoch    GPU_mem       loss  Instances       Size\n"
          ]
        },
        {
          "name": "stderr",
          "output_type": "stream",
          "text": [
            "      2/100      4.21G     0.6262          7        320: 100%|██████████| 124/124 [00:49<00:00,  2.52it/s]\n",
            "               classes   top1_acc   top5_acc: 100%|██████████| 8/8 [00:03<00:00,  2.37it/s]"
          ]
        },
        {
          "name": "stdout",
          "output_type": "stream",
          "text": [
            "                   all      0.813          1\n"
          ]
        },
        {
          "name": "stderr",
          "output_type": "stream",
          "text": [
            "\n"
          ]
        },
        {
          "name": "stdout",
          "output_type": "stream",
          "text": [
            "\n",
            "      Epoch    GPU_mem       loss  Instances       Size\n"
          ]
        },
        {
          "name": "stderr",
          "output_type": "stream",
          "text": [
            "      3/100       4.2G     0.5636          7        320: 100%|██████████| 124/124 [00:48<00:00,  2.55it/s]\n",
            "               classes   top1_acc   top5_acc: 100%|██████████| 8/8 [00:02<00:00,  3.38it/s]"
          ]
        },
        {
          "name": "stdout",
          "output_type": "stream",
          "text": [
            "                   all      0.793          1\n"
          ]
        },
        {
          "name": "stderr",
          "output_type": "stream",
          "text": [
            "\n"
          ]
        },
        {
          "name": "stdout",
          "output_type": "stream",
          "text": [
            "\n",
            "      Epoch    GPU_mem       loss  Instances       Size\n"
          ]
        },
        {
          "name": "stderr",
          "output_type": "stream",
          "text": [
            "      4/100      4.25G     0.5438          7        320: 100%|██████████| 124/124 [00:51<00:00,  2.40it/s]\n",
            "               classes   top1_acc   top5_acc: 100%|██████████| 8/8 [00:02<00:00,  3.48it/s]"
          ]
        },
        {
          "name": "stdout",
          "output_type": "stream",
          "text": [
            "                   all       0.78          1\n"
          ]
        },
        {
          "name": "stderr",
          "output_type": "stream",
          "text": [
            "\n"
          ]
        },
        {
          "name": "stdout",
          "output_type": "stream",
          "text": [
            "\n",
            "      Epoch    GPU_mem       loss  Instances       Size\n"
          ]
        },
        {
          "name": "stderr",
          "output_type": "stream",
          "text": [
            "      5/100       4.2G     0.4655          7        320: 100%|██████████| 124/124 [00:53<00:00,  2.31it/s]\n",
            "               classes   top1_acc   top5_acc: 100%|██████████| 8/8 [00:02<00:00,  3.48it/s]"
          ]
        },
        {
          "name": "stdout",
          "output_type": "stream",
          "text": [
            "                   all      0.795          1\n"
          ]
        },
        {
          "name": "stderr",
          "output_type": "stream",
          "text": [
            "\n"
          ]
        },
        {
          "name": "stdout",
          "output_type": "stream",
          "text": [
            "\n",
            "      Epoch    GPU_mem       loss  Instances       Size\n"
          ]
        },
        {
          "name": "stderr",
          "output_type": "stream",
          "text": [
            "      6/100       4.2G     0.4261          7        320: 100%|██████████| 124/124 [00:49<00:00,  2.48it/s]\n",
            "               classes   top1_acc   top5_acc: 100%|██████████| 8/8 [00:03<00:00,  2.27it/s]"
          ]
        },
        {
          "name": "stdout",
          "output_type": "stream",
          "text": [
            "                   all      0.823          1\n"
          ]
        },
        {
          "name": "stderr",
          "output_type": "stream",
          "text": [
            "\n"
          ]
        },
        {
          "name": "stdout",
          "output_type": "stream",
          "text": [
            "\n",
            "      Epoch    GPU_mem       loss  Instances       Size\n"
          ]
        },
        {
          "name": "stderr",
          "output_type": "stream",
          "text": [
            "      7/100      4.24G     0.4068          7        320: 100%|██████████| 124/124 [00:47<00:00,  2.58it/s]\n",
            "               classes   top1_acc   top5_acc: 100%|██████████| 8/8 [00:02<00:00,  2.92it/s]"
          ]
        },
        {
          "name": "stdout",
          "output_type": "stream",
          "text": [
            "                   all      0.823          1\n"
          ]
        },
        {
          "name": "stderr",
          "output_type": "stream",
          "text": [
            "\n"
          ]
        },
        {
          "name": "stdout",
          "output_type": "stream",
          "text": [
            "\n",
            "      Epoch    GPU_mem       loss  Instances       Size\n"
          ]
        },
        {
          "name": "stderr",
          "output_type": "stream",
          "text": [
            "      8/100      4.24G     0.3349          7        320: 100%|██████████| 124/124 [00:49<00:00,  2.52it/s]\n",
            "               classes   top1_acc   top5_acc: 100%|██████████| 8/8 [00:02<00:00,  3.84it/s]"
          ]
        },
        {
          "name": "stdout",
          "output_type": "stream",
          "text": [
            "                   all      0.858          1\n"
          ]
        },
        {
          "name": "stderr",
          "output_type": "stream",
          "text": [
            "\n"
          ]
        },
        {
          "name": "stdout",
          "output_type": "stream",
          "text": [
            "\n",
            "      Epoch    GPU_mem       loss  Instances       Size\n"
          ]
        },
        {
          "name": "stderr",
          "output_type": "stream",
          "text": [
            "      9/100       4.2G     0.3229          7        320: 100%|██████████| 124/124 [00:48<00:00,  2.57it/s]\n",
            "               classes   top1_acc   top5_acc: 100%|██████████| 8/8 [00:02<00:00,  3.51it/s]"
          ]
        },
        {
          "name": "stdout",
          "output_type": "stream",
          "text": [
            "                   all      0.839          1\n"
          ]
        },
        {
          "name": "stderr",
          "output_type": "stream",
          "text": [
            "\n"
          ]
        },
        {
          "name": "stdout",
          "output_type": "stream",
          "text": [
            "\n",
            "      Epoch    GPU_mem       loss  Instances       Size\n"
          ]
        },
        {
          "name": "stderr",
          "output_type": "stream",
          "text": [
            "     10/100      4.24G      0.289          7        320: 100%|██████████| 124/124 [00:50<00:00,  2.46it/s]\n",
            "               classes   top1_acc   top5_acc: 100%|██████████| 8/8 [00:02<00:00,  3.90it/s]"
          ]
        },
        {
          "name": "stdout",
          "output_type": "stream",
          "text": [
            "                   all      0.868          1\n"
          ]
        },
        {
          "name": "stderr",
          "output_type": "stream",
          "text": [
            "\n"
          ]
        },
        {
          "name": "stdout",
          "output_type": "stream",
          "text": [
            "\n",
            "      Epoch    GPU_mem       loss  Instances       Size\n"
          ]
        },
        {
          "name": "stderr",
          "output_type": "stream",
          "text": [
            "     11/100       4.2G     0.2958          7        320: 100%|██████████| 124/124 [00:48<00:00,  2.54it/s]\n",
            "               classes   top1_acc   top5_acc: 100%|██████████| 8/8 [00:03<00:00,  2.64it/s]"
          ]
        },
        {
          "name": "stdout",
          "output_type": "stream",
          "text": [
            "                   all       0.86          1\n"
          ]
        },
        {
          "name": "stderr",
          "output_type": "stream",
          "text": [
            "\n"
          ]
        },
        {
          "name": "stdout",
          "output_type": "stream",
          "text": [
            "\n",
            "      Epoch    GPU_mem       loss  Instances       Size\n"
          ]
        },
        {
          "name": "stderr",
          "output_type": "stream",
          "text": [
            "     12/100      4.24G     0.2826          7        320: 100%|██████████| 124/124 [00:47<00:00,  2.63it/s]\n",
            "               classes   top1_acc   top5_acc: 100%|██████████| 8/8 [00:01<00:00,  4.03it/s]"
          ]
        },
        {
          "name": "stdout",
          "output_type": "stream",
          "text": [
            "                   all      0.841          1\n"
          ]
        },
        {
          "name": "stderr",
          "output_type": "stream",
          "text": [
            "\n"
          ]
        },
        {
          "name": "stdout",
          "output_type": "stream",
          "text": [
            "\n",
            "      Epoch    GPU_mem       loss  Instances       Size\n"
          ]
        },
        {
          "name": "stderr",
          "output_type": "stream",
          "text": [
            "     13/100       4.2G     0.2444          7        320: 100%|██████████| 124/124 [00:47<00:00,  2.60it/s]\n",
            "               classes   top1_acc   top5_acc: 100%|██████████| 8/8 [00:02<00:00,  3.91it/s]"
          ]
        },
        {
          "name": "stdout",
          "output_type": "stream",
          "text": [
            "                   all       0.86          1\n"
          ]
        },
        {
          "name": "stderr",
          "output_type": "stream",
          "text": [
            "\n"
          ]
        },
        {
          "name": "stdout",
          "output_type": "stream",
          "text": [
            "\n",
            "      Epoch    GPU_mem       loss  Instances       Size\n"
          ]
        },
        {
          "name": "stderr",
          "output_type": "stream",
          "text": [
            "     14/100       4.2G     0.2093          7        320: 100%|██████████| 124/124 [00:47<00:00,  2.60it/s]\n",
            "               classes   top1_acc   top5_acc: 100%|██████████| 8/8 [00:03<00:00,  2.37it/s]"
          ]
        },
        {
          "name": "stdout",
          "output_type": "stream",
          "text": [
            "                   all      0.872          1\n"
          ]
        },
        {
          "name": "stderr",
          "output_type": "stream",
          "text": [
            "\n"
          ]
        },
        {
          "name": "stdout",
          "output_type": "stream",
          "text": [
            "\n",
            "      Epoch    GPU_mem       loss  Instances       Size\n"
          ]
        },
        {
          "name": "stderr",
          "output_type": "stream",
          "text": [
            "     15/100      4.24G     0.1976          7        320: 100%|██████████| 124/124 [00:50<00:00,  2.44it/s]\n",
            "               classes   top1_acc   top5_acc: 100%|██████████| 8/8 [00:02<00:00,  3.84it/s]"
          ]
        },
        {
          "name": "stdout",
          "output_type": "stream",
          "text": [
            "                   all       0.87          1\n"
          ]
        },
        {
          "name": "stderr",
          "output_type": "stream",
          "text": [
            "\n"
          ]
        },
        {
          "name": "stdout",
          "output_type": "stream",
          "text": [
            "\n",
            "      Epoch    GPU_mem       loss  Instances       Size\n"
          ]
        },
        {
          "name": "stderr",
          "output_type": "stream",
          "text": [
            "     16/100      4.24G     0.2126          7        320: 100%|██████████| 124/124 [00:51<00:00,  2.43it/s]\n",
            "               classes   top1_acc   top5_acc: 100%|██████████| 8/8 [00:02<00:00,  3.57it/s]"
          ]
        },
        {
          "name": "stdout",
          "output_type": "stream",
          "text": [
            "                   all       0.85          1\n"
          ]
        },
        {
          "name": "stderr",
          "output_type": "stream",
          "text": [
            "\n"
          ]
        },
        {
          "name": "stdout",
          "output_type": "stream",
          "text": [
            "\n",
            "      Epoch    GPU_mem       loss  Instances       Size\n"
          ]
        },
        {
          "name": "stderr",
          "output_type": "stream",
          "text": [
            "     17/100       4.2G     0.1785          7        320: 100%|██████████| 124/124 [00:48<00:00,  2.53it/s]\n",
            "               classes   top1_acc   top5_acc: 100%|██████████| 8/8 [00:02<00:00,  3.43it/s]"
          ]
        },
        {
          "name": "stdout",
          "output_type": "stream",
          "text": [
            "                   all      0.872          1\n"
          ]
        },
        {
          "name": "stderr",
          "output_type": "stream",
          "text": [
            "\n"
          ]
        },
        {
          "name": "stdout",
          "output_type": "stream",
          "text": [
            "\n",
            "      Epoch    GPU_mem       loss  Instances       Size\n"
          ]
        },
        {
          "name": "stderr",
          "output_type": "stream",
          "text": [
            "     18/100       4.2G      0.194          7        320: 100%|██████████| 124/124 [00:52<00:00,  2.36it/s]\n",
            "               classes   top1_acc   top5_acc: 100%|██████████| 8/8 [00:02<00:00,  2.76it/s]"
          ]
        },
        {
          "name": "stdout",
          "output_type": "stream",
          "text": [
            "                   all      0.882          1\n"
          ]
        },
        {
          "name": "stderr",
          "output_type": "stream",
          "text": [
            "\n"
          ]
        },
        {
          "name": "stdout",
          "output_type": "stream",
          "text": [
            "\n",
            "      Epoch    GPU_mem       loss  Instances       Size\n"
          ]
        },
        {
          "name": "stderr",
          "output_type": "stream",
          "text": [
            "     19/100       4.2G     0.1799          7        320: 100%|██████████| 124/124 [00:49<00:00,  2.51it/s]\n",
            "               classes   top1_acc   top5_acc: 100%|██████████| 8/8 [00:02<00:00,  3.57it/s]"
          ]
        },
        {
          "name": "stdout",
          "output_type": "stream",
          "text": [
            "                   all      0.843          1\n"
          ]
        },
        {
          "name": "stderr",
          "output_type": "stream",
          "text": [
            "\n"
          ]
        },
        {
          "name": "stdout",
          "output_type": "stream",
          "text": [
            "\n",
            "      Epoch    GPU_mem       loss  Instances       Size\n"
          ]
        },
        {
          "name": "stderr",
          "output_type": "stream",
          "text": [
            "     20/100       4.2G     0.1838          7        320: 100%|██████████| 124/124 [00:48<00:00,  2.57it/s]\n",
            "               classes   top1_acc   top5_acc: 100%|██████████| 8/8 [00:03<00:00,  2.32it/s]"
          ]
        },
        {
          "name": "stdout",
          "output_type": "stream",
          "text": [
            "                   all      0.886          1\n"
          ]
        },
        {
          "name": "stderr",
          "output_type": "stream",
          "text": [
            "\n"
          ]
        },
        {
          "name": "stdout",
          "output_type": "stream",
          "text": [
            "\n",
            "      Epoch    GPU_mem       loss  Instances       Size\n"
          ]
        },
        {
          "name": "stderr",
          "output_type": "stream",
          "text": [
            "     21/100      4.24G     0.1727          7        320: 100%|██████████| 124/124 [00:50<00:00,  2.44it/s]\n",
            "               classes   top1_acc   top5_acc: 100%|██████████| 8/8 [00:02<00:00,  3.71it/s]"
          ]
        },
        {
          "name": "stdout",
          "output_type": "stream",
          "text": [
            "                   all       0.87          1\n"
          ]
        },
        {
          "name": "stderr",
          "output_type": "stream",
          "text": [
            "\n"
          ]
        },
        {
          "name": "stdout",
          "output_type": "stream",
          "text": [
            "\n",
            "      Epoch    GPU_mem       loss  Instances       Size\n"
          ]
        },
        {
          "name": "stderr",
          "output_type": "stream",
          "text": [
            "     22/100       4.2G     0.1582          7        320: 100%|██████████| 124/124 [00:48<00:00,  2.56it/s]\n",
            "               classes   top1_acc   top5_acc: 100%|██████████| 8/8 [00:03<00:00,  2.64it/s]"
          ]
        },
        {
          "name": "stdout",
          "output_type": "stream",
          "text": [
            "                   all      0.892          1\n"
          ]
        },
        {
          "name": "stderr",
          "output_type": "stream",
          "text": [
            "\n"
          ]
        },
        {
          "name": "stdout",
          "output_type": "stream",
          "text": [
            "\n",
            "      Epoch    GPU_mem       loss  Instances       Size\n"
          ]
        },
        {
          "name": "stderr",
          "output_type": "stream",
          "text": [
            "     23/100      4.24G     0.1386          7        320: 100%|██████████| 124/124 [00:54<00:00,  2.28it/s]\n",
            "               classes   top1_acc   top5_acc: 100%|██████████| 8/8 [00:02<00:00,  3.49it/s]"
          ]
        },
        {
          "name": "stdout",
          "output_type": "stream",
          "text": [
            "                   all      0.866          1\n"
          ]
        },
        {
          "name": "stderr",
          "output_type": "stream",
          "text": [
            "\n"
          ]
        },
        {
          "name": "stdout",
          "output_type": "stream",
          "text": [
            "\n",
            "      Epoch    GPU_mem       loss  Instances       Size\n"
          ]
        },
        {
          "name": "stderr",
          "output_type": "stream",
          "text": [
            "     24/100      4.24G     0.1394          7        320: 100%|██████████| 124/124 [00:53<00:00,  2.31it/s]\n",
            "               classes   top1_acc   top5_acc: 100%|██████████| 8/8 [00:02<00:00,  3.58it/s]"
          ]
        },
        {
          "name": "stdout",
          "output_type": "stream",
          "text": [
            "                   all      0.894          1\n"
          ]
        },
        {
          "name": "stderr",
          "output_type": "stream",
          "text": [
            "\n"
          ]
        },
        {
          "name": "stdout",
          "output_type": "stream",
          "text": [
            "\n",
            "      Epoch    GPU_mem       loss  Instances       Size\n"
          ]
        },
        {
          "name": "stderr",
          "output_type": "stream",
          "text": [
            "     25/100       4.2G     0.1476          7        320: 100%|██████████| 124/124 [00:50<00:00,  2.47it/s]\n",
            "               classes   top1_acc   top5_acc: 100%|██████████| 8/8 [00:02<00:00,  3.31it/s]"
          ]
        },
        {
          "name": "stdout",
          "output_type": "stream",
          "text": [
            "                   all      0.894          1\n"
          ]
        },
        {
          "name": "stderr",
          "output_type": "stream",
          "text": [
            "\n"
          ]
        },
        {
          "name": "stdout",
          "output_type": "stream",
          "text": [
            "\n",
            "      Epoch    GPU_mem       loss  Instances       Size\n"
          ]
        },
        {
          "name": "stderr",
          "output_type": "stream",
          "text": [
            "     26/100      4.24G     0.1234          7        320: 100%|██████████| 124/124 [00:53<00:00,  2.31it/s]\n",
            "               classes   top1_acc   top5_acc: 100%|██████████| 8/8 [00:03<00:00,  2.60it/s]"
          ]
        },
        {
          "name": "stdout",
          "output_type": "stream",
          "text": [
            "                   all      0.894          1\n"
          ]
        },
        {
          "name": "stderr",
          "output_type": "stream",
          "text": [
            "\n"
          ]
        },
        {
          "name": "stdout",
          "output_type": "stream",
          "text": [
            "\n",
            "      Epoch    GPU_mem       loss  Instances       Size\n"
          ]
        },
        {
          "name": "stderr",
          "output_type": "stream",
          "text": [
            "     27/100       4.2G     0.1022          7        320: 100%|██████████| 124/124 [00:52<00:00,  2.37it/s]\n",
            "               classes   top1_acc   top5_acc: 100%|██████████| 8/8 [00:02<00:00,  3.90it/s]"
          ]
        },
        {
          "name": "stdout",
          "output_type": "stream",
          "text": [
            "                   all       0.89          1\n"
          ]
        },
        {
          "name": "stderr",
          "output_type": "stream",
          "text": [
            "\n"
          ]
        },
        {
          "name": "stdout",
          "output_type": "stream",
          "text": [
            "\n",
            "      Epoch    GPU_mem       loss  Instances       Size\n"
          ]
        },
        {
          "name": "stderr",
          "output_type": "stream",
          "text": [
            "     28/100      4.24G     0.1075          7        320: 100%|██████████| 124/124 [00:51<00:00,  2.41it/s]\n",
            "               classes   top1_acc   top5_acc: 100%|██████████| 8/8 [00:01<00:00,  4.04it/s]"
          ]
        },
        {
          "name": "stdout",
          "output_type": "stream",
          "text": [
            "                   all      0.888          1\n"
          ]
        },
        {
          "name": "stderr",
          "output_type": "stream",
          "text": [
            "\n"
          ]
        },
        {
          "name": "stdout",
          "output_type": "stream",
          "text": [
            "\n",
            "      Epoch    GPU_mem       loss  Instances       Size\n"
          ]
        },
        {
          "name": "stderr",
          "output_type": "stream",
          "text": [
            "     29/100       4.2G     0.1119          7        320: 100%|██████████| 124/124 [00:53<00:00,  2.32it/s]\n",
            "               classes   top1_acc   top5_acc: 100%|██████████| 8/8 [00:02<00:00,  3.68it/s]"
          ]
        },
        {
          "name": "stdout",
          "output_type": "stream",
          "text": [
            "                   all       0.88          1\n"
          ]
        },
        {
          "name": "stderr",
          "output_type": "stream",
          "text": [
            "\n"
          ]
        },
        {
          "name": "stdout",
          "output_type": "stream",
          "text": [
            "\n",
            "      Epoch    GPU_mem       loss  Instances       Size\n"
          ]
        },
        {
          "name": "stderr",
          "output_type": "stream",
          "text": [
            "     30/100       4.2G     0.1253          7        320: 100%|██████████| 124/124 [00:54<00:00,  2.27it/s]\n",
            "               classes   top1_acc   top5_acc: 100%|██████████| 8/8 [00:02<00:00,  3.35it/s]"
          ]
        },
        {
          "name": "stdout",
          "output_type": "stream",
          "text": [
            "                   all      0.876          1\n"
          ]
        },
        {
          "name": "stderr",
          "output_type": "stream",
          "text": [
            "\n"
          ]
        },
        {
          "name": "stdout",
          "output_type": "stream",
          "text": [
            "\n",
            "      Epoch    GPU_mem       loss  Instances       Size\n"
          ]
        },
        {
          "name": "stderr",
          "output_type": "stream",
          "text": [
            "     31/100      4.24G     0.1174          7        320: 100%|██████████| 124/124 [00:49<00:00,  2.50it/s]\n",
            "               classes   top1_acc   top5_acc: 100%|██████████| 8/8 [00:02<00:00,  3.52it/s]"
          ]
        },
        {
          "name": "stdout",
          "output_type": "stream",
          "text": [
            "                   all      0.872          1\n"
          ]
        },
        {
          "name": "stderr",
          "output_type": "stream",
          "text": [
            "\n"
          ]
        },
        {
          "name": "stdout",
          "output_type": "stream",
          "text": [
            "\n",
            "      Epoch    GPU_mem       loss  Instances       Size\n"
          ]
        },
        {
          "name": "stderr",
          "output_type": "stream",
          "text": [
            "     32/100      4.24G    0.08586          7        320: 100%|██████████| 124/124 [00:49<00:00,  2.51it/s]\n",
            "               classes   top1_acc   top5_acc: 100%|██████████| 8/8 [00:03<00:00,  2.58it/s]"
          ]
        },
        {
          "name": "stdout",
          "output_type": "stream",
          "text": [
            "                   all      0.884          1\n"
          ]
        },
        {
          "name": "stderr",
          "output_type": "stream",
          "text": [
            "\n"
          ]
        },
        {
          "name": "stdout",
          "output_type": "stream",
          "text": [
            "\n",
            "      Epoch    GPU_mem       loss  Instances       Size\n"
          ]
        },
        {
          "name": "stderr",
          "output_type": "stream",
          "text": [
            "     33/100       4.2G    0.09463          7        320: 100%|██████████| 124/124 [00:49<00:00,  2.48it/s]\n",
            "               classes   top1_acc   top5_acc: 100%|██████████| 8/8 [00:02<00:00,  3.78it/s]"
          ]
        },
        {
          "name": "stdout",
          "output_type": "stream",
          "text": [
            "                   all      0.882          1\n",
            "\u001b[34m\u001b[1mEarlyStopping: \u001b[0mTraining stopped early as no improvement observed in last 7 epochs. Best results observed at epoch 26, best model saved as best.pt.\n",
            "To update EarlyStopping(patience=7) pass a new patience value, i.e. `patience=300` or use `patience=0` to disable EarlyStopping.\n"
          ]
        },
        {
          "name": "stderr",
          "output_type": "stream",
          "text": [
            "\n"
          ]
        },
        {
          "name": "stdout",
          "output_type": "stream",
          "text": [
            "\n",
            "33 epochs completed in 0.573 hours.\n",
            "Optimizer stripped from runs/classify/custom_yolov8_classification4/weights/last.pt, 72.6MB\n",
            "Optimizer stripped from runs/classify/custom_yolov8_classification4/weights/best.pt, 72.6MB\n",
            "\n",
            "Validating runs/classify/custom_yolov8_classification4/weights/best.pt...\n",
            "Ultralytics 8.3.61 🚀 Python-3.10.12 torch-2.5.1+cu121 CUDA:0 (Tesla T4, 15102MiB)\n",
            "YOLOv8l-cls summary (fused): 133 layers, 36,189,700 parameters, 0 gradients, 98.7 GFLOPs\n",
            "\u001b[34m\u001b[1mtrain:\u001b[0m /content/processed_dataset/train... found 3943 images in 4 classes ✅ \n",
            "\u001b[34m\u001b[1mval:\u001b[0m /content/processed_dataset/val... found 492 images in 4 classes ✅ \n",
            "\u001b[34m\u001b[1mtest:\u001b[0m /content/processed_dataset/test... found 496 images in 4 classes ✅ \n"
          ]
        },
        {
          "name": "stderr",
          "output_type": "stream",
          "text": [
            "               classes   top1_acc   top5_acc: 100%|██████████| 8/8 [00:02<00:00,  3.12it/s]\n"
          ]
        },
        {
          "name": "stdout",
          "output_type": "stream",
          "text": [
            "                   all      0.894          1\n",
            "Speed: 0.1ms preprocess, 2.4ms inference, 0.0ms loss, 0.0ms postprocess per image\n",
            "Results saved to \u001b[1mruns/classify/custom_yolov8_classification4\u001b[0m\n"
          ]
        }
      ],
      "source": [
        "# Step 4: Train the Model with Early Stopping\n",
        "results = model.train(\n",
        "    data=output_path,  # Path to dataset\n",
        "    epochs=100,         # Number of epochs\n",
        "    imgsz=300,         # Image size\n",
        "    batch=32,          # Batch size\n",
        "    patience=7,        # Early stopping after 5 epochs without improvement\n",
        "    name='custom_yolov8_classification'  # Run name for logs\n",
        ")"
      ]
    },
    {
      "cell_type": "code",
      "execution_count": null,
      "metadata": {
        "id": "sxST4MUSByxH"
      },
      "outputs": [],
      "source": [
        "!scp -r /content/runs/classify/custom_yolov8_classification4 \"/content/drive/MyDrive/Runs/Yolov8l-100e/\""
      ]
    },
    {
      "cell_type": "markdown",
      "metadata": {
        "id": "Fl5ikrI9hhgp"
      },
      "source": [
        "**XLarge**"
      ]
    },
    {
      "cell_type": "code",
      "execution_count": null,
      "metadata": {
        "colab": {
          "base_uri": "https://localhost:8080/"
        },
        "id": "Wsoa5fTnLeKB",
        "outputId": "833b1697-ff19-4762-ffbb-ce9b92f56592"
      },
      "outputs": [
        {
          "name": "stdout",
          "output_type": "stream",
          "text": [
            "Downloading https://github.com/ultralytics/assets/releases/download/v8.3.0/yolov8x-cls.pt to 'yolov8x-cls.pt'...\n"
          ]
        },
        {
          "name": "stderr",
          "output_type": "stream",
          "text": [
            "100%|██████████| 110M/110M [00:06<00:00, 18.0MB/s]\n"
          ]
        }
      ],
      "source": [
        "model = YOLO('yolov8x-cls.pt')  # Using YOLOv8 xl pretrained on ImageNet"
      ]
    },
    {
      "cell_type": "code",
      "execution_count": null,
      "metadata": {
        "id": "CST8WqRhPgWc"
      },
      "outputs": [],
      "source": [
        "output_path = \"/content/drive/My Drive/YoloDataset/dataset\""
      ]
    },
    {
      "cell_type": "code",
      "execution_count": null,
      "metadata": {
        "colab": {
          "base_uri": "https://localhost:8080/"
        },
        "id": "k3eencp1Vnex",
        "outputId": "18043c7b-4fd6-4ecc-a83b-829d3891ce40"
      },
      "outputs": [
        {
          "name": "stdout",
          "output_type": "stream",
          "text": [
            "Ultralytics 8.3.62 🚀 Python-3.11.11 torch-2.5.1+cu121 CUDA:0 (Tesla T4, 15102MiB)\n",
            "\u001b[34m\u001b[1mengine/trainer: \u001b[0mtask=classify, mode=train, model=yolov8x-cls.pt, data=/content/drive/My Drive/YoloDataset/dataset, epochs=100, time=None, patience=7, batch=32, imgsz=300, save=True, save_period=-1, cache=False, device=None, workers=8, project=None, name=custom_yolov8_classification3, exist_ok=False, pretrained=True, optimizer=auto, verbose=True, seed=0, deterministic=True, single_cls=False, rect=False, cos_lr=False, close_mosaic=10, resume=False, amp=True, fraction=1.0, profile=False, freeze=None, multi_scale=False, overlap_mask=True, mask_ratio=4, dropout=0.0, val=True, split=val, save_json=False, save_hybrid=False, conf=None, iou=0.7, max_det=300, half=False, dnn=False, plots=True, source=None, vid_stride=1, stream_buffer=False, visualize=False, augment=False, agnostic_nms=False, classes=None, retina_masks=False, embed=None, show=False, save_frames=False, save_txt=False, save_conf=False, save_crop=False, show_labels=True, show_conf=True, show_boxes=True, line_width=None, format=torchscript, keras=False, optimize=False, int8=False, dynamic=False, simplify=True, opset=None, workspace=None, nms=False, lr0=0.01, lrf=0.01, momentum=0.937, weight_decay=0.0005, warmup_epochs=3.0, warmup_momentum=0.8, warmup_bias_lr=0.1, box=7.5, cls=0.5, dfl=1.5, pose=12.0, kobj=1.0, nbs=64, hsv_h=0.015, hsv_s=0.7, hsv_v=0.4, degrees=0.0, translate=0.1, scale=0.5, shear=0.0, perspective=0.0, flipud=0.0, fliplr=0.5, bgr=0.0, mosaic=1.0, mixup=0.0, copy_paste=0.0, copy_paste_mode=flip, auto_augment=randaugment, erasing=0.4, crop_fraction=1.0, cfg=None, tracker=botsort.yaml, save_dir=runs/classify/custom_yolov8_classification3\n",
            "\u001b[34m\u001b[1mtrain:\u001b[0m /content/drive/My Drive/YoloDataset/dataset/train... found 3943 images in 4 classes ✅ \n",
            "\u001b[34m\u001b[1mval:\u001b[0m /content/drive/My Drive/YoloDataset/dataset/val... found 492 images in 4 classes ✅ \n",
            "\u001b[34m\u001b[1mtest:\u001b[0m /content/drive/My Drive/YoloDataset/dataset/test... found 496 images in 4 classes ✅ \n",
            "Overriding model.yaml nc=1000 with nc=4\n",
            "\n",
            "                   from  n    params  module                                       arguments                     \n",
            "  0                  -1  1      2320  ultralytics.nn.modules.conv.Conv             [3, 80, 3, 2]                 \n",
            "  1                  -1  1    115520  ultralytics.nn.modules.conv.Conv             [80, 160, 3, 2]               \n",
            "  2                  -1  3    436800  ultralytics.nn.modules.block.C2f             [160, 160, 3, True]           \n",
            "  3                  -1  1    461440  ultralytics.nn.modules.conv.Conv             [160, 320, 3, 2]              \n",
            "  4                  -1  6   3281920  ultralytics.nn.modules.block.C2f             [320, 320, 6, True]           \n",
            "  5                  -1  1   1844480  ultralytics.nn.modules.conv.Conv             [320, 640, 3, 2]              \n",
            "  6                  -1  6  13117440  ultralytics.nn.modules.block.C2f             [640, 640, 6, True]           \n",
            "  7                  -1  1   7375360  ultralytics.nn.modules.conv.Conv             [640, 1280, 3, 2]             \n",
            "  8                  -1  3  27865600  ultralytics.nn.modules.block.C2f             [1280, 1280, 3, True]         \n",
            "  9                  -1  1   1646084  ultralytics.nn.modules.head.Classify         [1280, 4]                     \n",
            "YOLOv8x-cls summary: 183 layers, 56,146,964 parameters, 56,146,964 gradients, 154.3 GFLOPs\n",
            "Transferred 300/302 items from pretrained weights\n",
            "\u001b[34m\u001b[1mTensorBoard: \u001b[0mStart with 'tensorboard --logdir runs/classify/custom_yolov8_classification3', view at http://localhost:6006/\n",
            "\u001b[34m\u001b[1mAMP: \u001b[0mrunning Automatic Mixed Precision (AMP) checks...\n",
            "Downloading https://github.com/ultralytics/assets/releases/download/v8.3.0/yolo11n.pt to 'yolo11n.pt'...\n"
          ]
        },
        {
          "name": "stderr",
          "output_type": "stream",
          "text": [
            "100%|██████████| 5.35M/5.35M [00:00<00:00, 101MB/s]\n"
          ]
        },
        {
          "name": "stdout",
          "output_type": "stream",
          "text": [
            "\u001b[34m\u001b[1mAMP: \u001b[0mchecks passed ✅\n",
            "WARNING ⚠️ imgsz=[300] must be multiple of max stride 32, updating to [320]\n"
          ]
        },
        {
          "name": "stderr",
          "output_type": "stream",
          "text": [
            "\u001b[34m\u001b[1mtrain: \u001b[0mScanning /content/drive/My Drive/YoloDataset/dataset/train... 3943 images, 0 corrupt: 100%|██████████| 3943/3943 [00:25<00:00, 156.13it/s]\n"
          ]
        },
        {
          "name": "stdout",
          "output_type": "stream",
          "text": [
            "\u001b[34m\u001b[1mtrain: \u001b[0mNew cache created: /content/drive/My Drive/YoloDataset/dataset/train.cache\n"
          ]
        },
        {
          "name": "stderr",
          "output_type": "stream",
          "text": [
            "\u001b[34m\u001b[1mval: \u001b[0mScanning /content/drive/My Drive/YoloDataset/dataset/val... 492 images, 0 corrupt: 100%|██████████| 492/492 [00:04<00:00, 120.71it/s]\n"
          ]
        },
        {
          "name": "stdout",
          "output_type": "stream",
          "text": [
            "\u001b[34m\u001b[1mval: \u001b[0mNew cache created: /content/drive/My Drive/YoloDataset/dataset/val.cache\n",
            "\u001b[34m\u001b[1moptimizer:\u001b[0m 'optimizer=auto' found, ignoring 'lr0=0.01' and 'momentum=0.937' and determining best 'optimizer', 'lr0' and 'momentum' automatically... \n",
            "\u001b[34m\u001b[1moptimizer:\u001b[0m AdamW(lr=0.000714, momentum=0.9) with parameter groups 50 weight(decay=0.0), 51 weight(decay=0.0005), 51 bias(decay=0.0)\n",
            "\u001b[34m\u001b[1mTensorBoard: \u001b[0mmodel graph visualization added ✅\n",
            "Image sizes 320 train, 320 val\n",
            "Using 2 dataloader workers\n",
            "Logging results to \u001b[1mruns/classify/custom_yolov8_classification3\u001b[0m\n",
            "Starting training for 100 epochs...\n",
            "\n",
            "      Epoch    GPU_mem       loss  Instances       Size\n"
          ]
        },
        {
          "name": "stderr",
          "output_type": "stream",
          "text": [
            "      1/100      5.37G      1.384         32        320:   3%|▎         | 4/124 [00:03<01:19,  1.52it/s]"
          ]
        },
        {
          "name": "stdout",
          "output_type": "stream",
          "text": [
            "Downloading https://ultralytics.com/assets/Arial.ttf to '/root/.config/Ultralytics/Arial.ttf'...\n"
          ]
        },
        {
          "name": "stderr",
          "output_type": "stream",
          "text": [
            "      1/100      5.37G      1.397         32        320:   6%|▌         | 7/124 [00:04<01:00,  1.94it/s]\n",
            "100%|██████████| 755k/755k [00:00<00:00, 97.2MB/s]\n",
            "      1/100      5.37G      1.029          7        320: 100%|██████████| 124/124 [01:12<00:00,  1.71it/s]\n",
            "               classes   top1_acc   top5_acc: 100%|██████████| 8/8 [00:05<00:00,  1.41it/s]"
          ]
        },
        {
          "name": "stdout",
          "output_type": "stream",
          "text": [
            "                   all      0.783          1\n"
          ]
        },
        {
          "name": "stderr",
          "output_type": "stream",
          "text": [
            "\n"
          ]
        },
        {
          "name": "stdout",
          "output_type": "stream",
          "text": [
            "\n",
            "      Epoch    GPU_mem       loss  Instances       Size\n"
          ]
        },
        {
          "name": "stderr",
          "output_type": "stream",
          "text": [
            "      2/100      5.59G     0.6202          7        320: 100%|██████████| 124/124 [01:09<00:00,  1.78it/s]\n",
            "               classes   top1_acc   top5_acc: 100%|██████████| 8/8 [00:04<00:00,  1.62it/s]"
          ]
        },
        {
          "name": "stdout",
          "output_type": "stream",
          "text": [
            "                   all      0.825          1\n"
          ]
        },
        {
          "name": "stderr",
          "output_type": "stream",
          "text": [
            "\n"
          ]
        },
        {
          "name": "stdout",
          "output_type": "stream",
          "text": [
            "\n",
            "      Epoch    GPU_mem       loss  Instances       Size\n"
          ]
        },
        {
          "name": "stderr",
          "output_type": "stream",
          "text": [
            "      3/100      5.59G      0.553          7        320: 100%|██████████| 124/124 [01:11<00:00,  1.75it/s]\n",
            "               classes   top1_acc   top5_acc: 100%|██████████| 8/8 [00:05<00:00,  1.40it/s]"
          ]
        },
        {
          "name": "stdout",
          "output_type": "stream",
          "text": [
            "                   all      0.807          1\n"
          ]
        },
        {
          "name": "stderr",
          "output_type": "stream",
          "text": [
            "\n"
          ]
        },
        {
          "name": "stdout",
          "output_type": "stream",
          "text": [
            "\n",
            "      Epoch    GPU_mem       loss  Instances       Size\n"
          ]
        },
        {
          "name": "stderr",
          "output_type": "stream",
          "text": [
            "      4/100      5.59G     0.5827          7        320: 100%|██████████| 124/124 [01:08<00:00,  1.81it/s]\n",
            "               classes   top1_acc   top5_acc: 100%|██████████| 8/8 [00:05<00:00,  1.51it/s]"
          ]
        },
        {
          "name": "stdout",
          "output_type": "stream",
          "text": [
            "                   all      0.823          1\n"
          ]
        },
        {
          "name": "stderr",
          "output_type": "stream",
          "text": [
            "\n"
          ]
        },
        {
          "name": "stdout",
          "output_type": "stream",
          "text": [
            "\n",
            "      Epoch    GPU_mem       loss  Instances       Size\n"
          ]
        },
        {
          "name": "stderr",
          "output_type": "stream",
          "text": [
            "      5/100      5.59G     0.4939          7        320: 100%|██████████| 124/124 [01:12<00:00,  1.70it/s]\n",
            "               classes   top1_acc   top5_acc: 100%|██████████| 8/8 [00:03<00:00,  2.17it/s]"
          ]
        },
        {
          "name": "stdout",
          "output_type": "stream",
          "text": [
            "                   all      0.803          1\n"
          ]
        },
        {
          "name": "stderr",
          "output_type": "stream",
          "text": [
            "\n"
          ]
        },
        {
          "name": "stdout",
          "output_type": "stream",
          "text": [
            "\n",
            "      Epoch    GPU_mem       loss  Instances       Size\n"
          ]
        },
        {
          "name": "stderr",
          "output_type": "stream",
          "text": [
            "      6/100      5.59G     0.4557          7        320: 100%|██████████| 124/124 [01:10<00:00,  1.75it/s]\n",
            "               classes   top1_acc   top5_acc: 100%|██████████| 8/8 [00:03<00:00,  2.19it/s]"
          ]
        },
        {
          "name": "stdout",
          "output_type": "stream",
          "text": [
            "                   all      0.843          1\n"
          ]
        },
        {
          "name": "stderr",
          "output_type": "stream",
          "text": [
            "\n"
          ]
        },
        {
          "name": "stdout",
          "output_type": "stream",
          "text": [
            "\n",
            "      Epoch    GPU_mem       loss  Instances       Size\n"
          ]
        },
        {
          "name": "stderr",
          "output_type": "stream",
          "text": [
            "      7/100      5.59G     0.4006          7        320: 100%|██████████| 124/124 [01:11<00:00,  1.73it/s]\n",
            "               classes   top1_acc   top5_acc: 100%|██████████| 8/8 [00:04<00:00,  1.94it/s]"
          ]
        },
        {
          "name": "stdout",
          "output_type": "stream",
          "text": [
            "                   all      0.839          1\n"
          ]
        },
        {
          "name": "stderr",
          "output_type": "stream",
          "text": [
            "\n"
          ]
        },
        {
          "name": "stdout",
          "output_type": "stream",
          "text": [
            "\n",
            "      Epoch    GPU_mem       loss  Instances       Size\n"
          ]
        },
        {
          "name": "stderr",
          "output_type": "stream",
          "text": [
            "      8/100      5.59G      0.366          7        320: 100%|██████████| 124/124 [01:09<00:00,  1.79it/s]\n",
            "               classes   top1_acc   top5_acc: 100%|██████████| 8/8 [00:04<00:00,  1.60it/s]"
          ]
        },
        {
          "name": "stdout",
          "output_type": "stream",
          "text": [
            "                   all      0.831          1\n"
          ]
        },
        {
          "name": "stderr",
          "output_type": "stream",
          "text": [
            "\n"
          ]
        },
        {
          "name": "stdout",
          "output_type": "stream",
          "text": [
            "\n",
            "      Epoch    GPU_mem       loss  Instances       Size\n"
          ]
        },
        {
          "name": "stderr",
          "output_type": "stream",
          "text": [
            "      9/100      5.59G     0.3233          7        320: 100%|██████████| 124/124 [01:07<00:00,  1.84it/s]\n",
            "               classes   top1_acc   top5_acc: 100%|██████████| 8/8 [00:05<00:00,  1.39it/s]"
          ]
        },
        {
          "name": "stdout",
          "output_type": "stream",
          "text": [
            "                   all      0.835          1\n"
          ]
        },
        {
          "name": "stderr",
          "output_type": "stream",
          "text": [
            "\n"
          ]
        },
        {
          "name": "stdout",
          "output_type": "stream",
          "text": [
            "\n",
            "      Epoch    GPU_mem       loss  Instances       Size\n"
          ]
        },
        {
          "name": "stderr",
          "output_type": "stream",
          "text": [
            "     10/100      5.59G     0.3314          7        320: 100%|██████████| 124/124 [01:10<00:00,  1.75it/s]\n",
            "               classes   top1_acc   top5_acc: 100%|██████████| 8/8 [00:05<00:00,  1.35it/s]"
          ]
        },
        {
          "name": "stdout",
          "output_type": "stream",
          "text": [
            "                   all      0.866          1\n"
          ]
        },
        {
          "name": "stderr",
          "output_type": "stream",
          "text": [
            "\n"
          ]
        },
        {
          "name": "stdout",
          "output_type": "stream",
          "text": [
            "\n",
            "      Epoch    GPU_mem       loss  Instances       Size\n"
          ]
        },
        {
          "name": "stderr",
          "output_type": "stream",
          "text": [
            "     11/100      5.59G      0.307          7        320: 100%|██████████| 124/124 [01:11<00:00,  1.75it/s]\n",
            "               classes   top1_acc   top5_acc: 100%|██████████| 8/8 [00:03<00:00,  2.19it/s]"
          ]
        },
        {
          "name": "stdout",
          "output_type": "stream",
          "text": [
            "                   all       0.88          1\n"
          ]
        },
        {
          "name": "stderr",
          "output_type": "stream",
          "text": [
            "\n"
          ]
        },
        {
          "name": "stdout",
          "output_type": "stream",
          "text": [
            "\n",
            "      Epoch    GPU_mem       loss  Instances       Size\n"
          ]
        },
        {
          "name": "stderr",
          "output_type": "stream",
          "text": [
            "     12/100      5.59G     0.2693          7        320: 100%|██████████| 124/124 [01:11<00:00,  1.74it/s]\n",
            "               classes   top1_acc   top5_acc: 100%|██████████| 8/8 [00:03<00:00,  2.40it/s]"
          ]
        },
        {
          "name": "stdout",
          "output_type": "stream",
          "text": [
            "                   all       0.86          1\n"
          ]
        },
        {
          "name": "stderr",
          "output_type": "stream",
          "text": [
            "\n"
          ]
        },
        {
          "name": "stdout",
          "output_type": "stream",
          "text": [
            "\n",
            "      Epoch    GPU_mem       loss  Instances       Size\n"
          ]
        },
        {
          "name": "stderr",
          "output_type": "stream",
          "text": [
            "     13/100      5.59G     0.2661          7        320: 100%|██████████| 124/124 [01:10<00:00,  1.77it/s]\n",
            "               classes   top1_acc   top5_acc: 100%|██████████| 8/8 [00:04<00:00,  1.90it/s]"
          ]
        },
        {
          "name": "stdout",
          "output_type": "stream",
          "text": [
            "                   all       0.85          1\n"
          ]
        },
        {
          "name": "stderr",
          "output_type": "stream",
          "text": [
            "\n"
          ]
        },
        {
          "name": "stdout",
          "output_type": "stream",
          "text": [
            "\n",
            "      Epoch    GPU_mem       loss  Instances       Size\n"
          ]
        },
        {
          "name": "stderr",
          "output_type": "stream",
          "text": [
            "     14/100      5.59G     0.2172          7        320: 100%|██████████| 124/124 [01:08<00:00,  1.81it/s]\n",
            "               classes   top1_acc   top5_acc: 100%|██████████| 8/8 [00:05<00:00,  1.35it/s]"
          ]
        },
        {
          "name": "stdout",
          "output_type": "stream",
          "text": [
            "                   all      0.874          1\n"
          ]
        },
        {
          "name": "stderr",
          "output_type": "stream",
          "text": [
            "\n"
          ]
        },
        {
          "name": "stdout",
          "output_type": "stream",
          "text": [
            "\n",
            "      Epoch    GPU_mem       loss  Instances       Size\n"
          ]
        },
        {
          "name": "stderr",
          "output_type": "stream",
          "text": [
            "     15/100      5.59G     0.2015          7        320: 100%|██████████| 124/124 [01:11<00:00,  1.74it/s]\n",
            "               classes   top1_acc   top5_acc: 100%|██████████| 8/8 [00:03<00:00,  2.30it/s]\n"
          ]
        },
        {
          "name": "stdout",
          "output_type": "stream",
          "text": [
            "                   all      0.874          1\n",
            "\n",
            "      Epoch    GPU_mem       loss  Instances       Size\n"
          ]
        },
        {
          "name": "stderr",
          "output_type": "stream",
          "text": [
            "     16/100      5.59G     0.2365          7        320: 100%|██████████| 124/124 [01:10<00:00,  1.77it/s]\n",
            "               classes   top1_acc   top5_acc: 100%|██████████| 8/8 [00:03<00:00,  2.23it/s]"
          ]
        },
        {
          "name": "stdout",
          "output_type": "stream",
          "text": [
            "                   all      0.841          1\n"
          ]
        },
        {
          "name": "stderr",
          "output_type": "stream",
          "text": [
            "\n"
          ]
        },
        {
          "name": "stdout",
          "output_type": "stream",
          "text": [
            "\n",
            "      Epoch    GPU_mem       loss  Instances       Size\n"
          ]
        },
        {
          "name": "stderr",
          "output_type": "stream",
          "text": [
            "     17/100      5.59G     0.2231          7        320: 100%|██████████| 124/124 [01:09<00:00,  1.78it/s]\n",
            "               classes   top1_acc   top5_acc: 100%|██████████| 8/8 [00:04<00:00,  1.83it/s]"
          ]
        },
        {
          "name": "stdout",
          "output_type": "stream",
          "text": [
            "                   all       0.86          1\n"
          ]
        },
        {
          "name": "stderr",
          "output_type": "stream",
          "text": [
            "\n"
          ]
        },
        {
          "name": "stdout",
          "output_type": "stream",
          "text": [
            "\n",
            "      Epoch    GPU_mem       loss  Instances       Size\n"
          ]
        },
        {
          "name": "stderr",
          "output_type": "stream",
          "text": [
            "     18/100      5.59G      0.182          7        320: 100%|██████████| 124/124 [01:06<00:00,  1.85it/s]\n",
            "               classes   top1_acc   top5_acc: 100%|██████████| 8/8 [00:05<00:00,  1.35it/s]"
          ]
        },
        {
          "name": "stdout",
          "output_type": "stream",
          "text": [
            "                   all      0.904          1\n"
          ]
        },
        {
          "name": "stderr",
          "output_type": "stream",
          "text": [
            "\n"
          ]
        },
        {
          "name": "stdout",
          "output_type": "stream",
          "text": [
            "\n",
            "      Epoch    GPU_mem       loss  Instances       Size\n"
          ]
        },
        {
          "name": "stderr",
          "output_type": "stream",
          "text": [
            "     19/100      5.59G     0.1624          7        320: 100%|██████████| 124/124 [01:09<00:00,  1.78it/s]\n",
            "               classes   top1_acc   top5_acc: 100%|██████████| 8/8 [00:03<00:00,  2.15it/s]"
          ]
        },
        {
          "name": "stdout",
          "output_type": "stream",
          "text": [
            "                   all      0.878          1\n"
          ]
        },
        {
          "name": "stderr",
          "output_type": "stream",
          "text": [
            "\n"
          ]
        },
        {
          "name": "stdout",
          "output_type": "stream",
          "text": [
            "\n",
            "      Epoch    GPU_mem       loss  Instances       Size\n"
          ]
        },
        {
          "name": "stderr",
          "output_type": "stream",
          "text": [
            "     20/100      5.59G     0.1906          7        320: 100%|██████████| 124/124 [01:09<00:00,  1.79it/s]\n",
            "               classes   top1_acc   top5_acc: 100%|██████████| 8/8 [00:05<00:00,  1.50it/s]"
          ]
        },
        {
          "name": "stdout",
          "output_type": "stream",
          "text": [
            "                   all      0.866          1\n"
          ]
        },
        {
          "name": "stderr",
          "output_type": "stream",
          "text": [
            "\n"
          ]
        },
        {
          "name": "stdout",
          "output_type": "stream",
          "text": [
            "\n",
            "      Epoch    GPU_mem       loss  Instances       Size\n"
          ]
        },
        {
          "name": "stderr",
          "output_type": "stream",
          "text": [
            "     21/100      5.59G     0.1785          7        320: 100%|██████████| 124/124 [01:11<00:00,  1.74it/s]\n",
            "               classes   top1_acc   top5_acc: 100%|██████████| 8/8 [00:04<00:00,  1.81it/s]"
          ]
        },
        {
          "name": "stdout",
          "output_type": "stream",
          "text": [
            "                   all      0.866          1\n"
          ]
        },
        {
          "name": "stderr",
          "output_type": "stream",
          "text": [
            "\n"
          ]
        },
        {
          "name": "stdout",
          "output_type": "stream",
          "text": [
            "\n",
            "      Epoch    GPU_mem       loss  Instances       Size\n"
          ]
        },
        {
          "name": "stderr",
          "output_type": "stream",
          "text": [
            "     22/100       5.6G     0.1548          7        320: 100%|██████████| 124/124 [01:10<00:00,  1.77it/s]\n",
            "               classes   top1_acc   top5_acc: 100%|██████████| 8/8 [00:03<00:00,  2.23it/s]\n"
          ]
        },
        {
          "name": "stdout",
          "output_type": "stream",
          "text": [
            "                   all      0.896          1\n",
            "\n",
            "      Epoch    GPU_mem       loss  Instances       Size\n"
          ]
        },
        {
          "name": "stderr",
          "output_type": "stream",
          "text": [
            "     23/100      5.59G     0.1395          7        320: 100%|██████████| 124/124 [01:11<00:00,  1.73it/s]\n",
            "               classes   top1_acc   top5_acc: 100%|██████████| 8/8 [00:03<00:00,  2.26it/s]\n"
          ]
        },
        {
          "name": "stdout",
          "output_type": "stream",
          "text": [
            "                   all      0.888          1\n",
            "\n",
            "      Epoch    GPU_mem       loss  Instances       Size\n"
          ]
        },
        {
          "name": "stderr",
          "output_type": "stream",
          "text": [
            "     24/100      5.59G      0.143          7        320: 100%|██████████| 124/124 [01:12<00:00,  1.72it/s]\n",
            "               classes   top1_acc   top5_acc: 100%|██████████| 8/8 [00:03<00:00,  2.18it/s]"
          ]
        },
        {
          "name": "stdout",
          "output_type": "stream",
          "text": [
            "                   all      0.876          1\n"
          ]
        },
        {
          "name": "stderr",
          "output_type": "stream",
          "text": [
            "\n"
          ]
        },
        {
          "name": "stdout",
          "output_type": "stream",
          "text": [
            "\n",
            "      Epoch    GPU_mem       loss  Instances       Size\n"
          ]
        },
        {
          "name": "stderr",
          "output_type": "stream",
          "text": [
            "     25/100      5.59G     0.1312          7        320: 100%|██████████| 124/124 [01:09<00:00,  1.77it/s]\n",
            "               classes   top1_acc   top5_acc: 100%|██████████| 8/8 [00:05<00:00,  1.35it/s]"
          ]
        },
        {
          "name": "stdout",
          "output_type": "stream",
          "text": [
            "                   all      0.907          1\n"
          ]
        },
        {
          "name": "stderr",
          "output_type": "stream",
          "text": [
            "\n"
          ]
        },
        {
          "name": "stdout",
          "output_type": "stream",
          "text": [
            "\n",
            "      Epoch    GPU_mem       loss  Instances       Size\n"
          ]
        },
        {
          "name": "stderr",
          "output_type": "stream",
          "text": [
            "     26/100      5.59G     0.1321          7        320: 100%|██████████| 124/124 [01:11<00:00,  1.72it/s]\n",
            "               classes   top1_acc   top5_acc: 100%|██████████| 8/8 [00:03<00:00,  2.24it/s]"
          ]
        },
        {
          "name": "stdout",
          "output_type": "stream",
          "text": [
            "                   all       0.89          1\n"
          ]
        },
        {
          "name": "stderr",
          "output_type": "stream",
          "text": [
            "\n"
          ]
        },
        {
          "name": "stdout",
          "output_type": "stream",
          "text": [
            "\n",
            "      Epoch    GPU_mem       loss  Instances       Size\n"
          ]
        },
        {
          "name": "stderr",
          "output_type": "stream",
          "text": [
            "     27/100      5.59G     0.1172          7        320: 100%|██████████| 124/124 [01:11<00:00,  1.73it/s]\n",
            "               classes   top1_acc   top5_acc: 100%|██████████| 8/8 [00:03<00:00,  2.25it/s]"
          ]
        },
        {
          "name": "stdout",
          "output_type": "stream",
          "text": [
            "                   all       0.89          1\n"
          ]
        },
        {
          "name": "stderr",
          "output_type": "stream",
          "text": [
            "\n"
          ]
        },
        {
          "name": "stdout",
          "output_type": "stream",
          "text": [
            "\n",
            "      Epoch    GPU_mem       loss  Instances       Size\n"
          ]
        },
        {
          "name": "stderr",
          "output_type": "stream",
          "text": [
            "     28/100      5.59G     0.1167          7        320: 100%|██████████| 124/124 [01:11<00:00,  1.74it/s]\n",
            "               classes   top1_acc   top5_acc: 100%|██████████| 8/8 [00:05<00:00,  1.53it/s]"
          ]
        },
        {
          "name": "stdout",
          "output_type": "stream",
          "text": [
            "                   all       0.88          1\n"
          ]
        },
        {
          "name": "stderr",
          "output_type": "stream",
          "text": [
            "\n"
          ]
        },
        {
          "name": "stdout",
          "output_type": "stream",
          "text": [
            "\n",
            "      Epoch    GPU_mem       loss  Instances       Size\n"
          ]
        },
        {
          "name": "stderr",
          "output_type": "stream",
          "text": [
            "     29/100      5.59G     0.1136          7        320: 100%|██████████| 124/124 [01:09<00:00,  1.77it/s]\n",
            "               classes   top1_acc   top5_acc: 100%|██████████| 8/8 [00:05<00:00,  1.49it/s]\n"
          ]
        },
        {
          "name": "stdout",
          "output_type": "stream",
          "text": [
            "                   all      0.868          1\n",
            "\n",
            "      Epoch    GPU_mem       loss  Instances       Size\n"
          ]
        },
        {
          "name": "stderr",
          "output_type": "stream",
          "text": [
            "     30/100      5.59G     0.1168          7        320: 100%|██████████| 124/124 [01:12<00:00,  1.72it/s]\n",
            "               classes   top1_acc   top5_acc: 100%|██████████| 8/8 [00:03<00:00,  2.26it/s]"
          ]
        },
        {
          "name": "stdout",
          "output_type": "stream",
          "text": [
            "                   all      0.902          1\n"
          ]
        },
        {
          "name": "stderr",
          "output_type": "stream",
          "text": [
            "\n"
          ]
        },
        {
          "name": "stdout",
          "output_type": "stream",
          "text": [
            "\n",
            "      Epoch    GPU_mem       loss  Instances       Size\n"
          ]
        },
        {
          "name": "stderr",
          "output_type": "stream",
          "text": [
            "     31/100      5.59G    0.09368          7        320: 100%|██████████| 124/124 [01:12<00:00,  1.71it/s]\n",
            "               classes   top1_acc   top5_acc: 100%|██████████| 8/8 [00:03<00:00,  2.25it/s]"
          ]
        },
        {
          "name": "stdout",
          "output_type": "stream",
          "text": [
            "                   all      0.904          1\n"
          ]
        },
        {
          "name": "stderr",
          "output_type": "stream",
          "text": [
            "\n"
          ]
        },
        {
          "name": "stdout",
          "output_type": "stream",
          "text": [
            "\n",
            "      Epoch    GPU_mem       loss  Instances       Size\n"
          ]
        },
        {
          "name": "stderr",
          "output_type": "stream",
          "text": [
            "     32/100      5.59G     0.1043          7        320: 100%|██████████| 124/124 [01:11<00:00,  1.74it/s]\n",
            "               classes   top1_acc   top5_acc: 100%|██████████| 8/8 [00:03<00:00,  2.18it/s]"
          ]
        },
        {
          "name": "stdout",
          "output_type": "stream",
          "text": [
            "                   all      0.907          1\n"
          ]
        },
        {
          "name": "stderr",
          "output_type": "stream",
          "text": [
            "\n"
          ]
        },
        {
          "name": "stdout",
          "output_type": "stream",
          "text": [
            "\n",
            "      Epoch    GPU_mem       loss  Instances       Size\n"
          ]
        },
        {
          "name": "stderr",
          "output_type": "stream",
          "text": [
            "     33/100      5.59G     0.1033          7        320: 100%|██████████| 124/124 [01:09<00:00,  1.78it/s]\n",
            "               classes   top1_acc   top5_acc: 100%|██████████| 8/8 [00:06<00:00,  1.30it/s]"
          ]
        },
        {
          "name": "stdout",
          "output_type": "stream",
          "text": [
            "                   all      0.892          1\n"
          ]
        },
        {
          "name": "stderr",
          "output_type": "stream",
          "text": [
            "\n"
          ]
        },
        {
          "name": "stdout",
          "output_type": "stream",
          "text": [
            "\n",
            "      Epoch    GPU_mem       loss  Instances       Size\n"
          ]
        },
        {
          "name": "stderr",
          "output_type": "stream",
          "text": [
            "     34/100      5.59G    0.07152          7        320: 100%|██████████| 124/124 [01:10<00:00,  1.77it/s]\n",
            "               classes   top1_acc   top5_acc: 100%|██████████| 8/8 [00:05<00:00,  1.56it/s]"
          ]
        },
        {
          "name": "stdout",
          "output_type": "stream",
          "text": [
            "                   all      0.898          1\n"
          ]
        },
        {
          "name": "stderr",
          "output_type": "stream",
          "text": [
            "\n"
          ]
        },
        {
          "name": "stdout",
          "output_type": "stream",
          "text": [
            "\n",
            "      Epoch    GPU_mem       loss  Instances       Size\n"
          ]
        },
        {
          "name": "stderr",
          "output_type": "stream",
          "text": [
            "     35/100      5.59G     0.0773          7        320: 100%|██████████| 124/124 [01:11<00:00,  1.73it/s]\n",
            "               classes   top1_acc   top5_acc: 100%|██████████| 8/8 [00:03<00:00,  2.27it/s]"
          ]
        },
        {
          "name": "stdout",
          "output_type": "stream",
          "text": [
            "                   all       0.89          1\n"
          ]
        },
        {
          "name": "stderr",
          "output_type": "stream",
          "text": [
            "\n"
          ]
        },
        {
          "name": "stdout",
          "output_type": "stream",
          "text": [
            "\n",
            "      Epoch    GPU_mem       loss  Instances       Size\n"
          ]
        },
        {
          "name": "stderr",
          "output_type": "stream",
          "text": [
            "     36/100      5.59G    0.09034          7        320: 100%|██████████| 124/124 [01:11<00:00,  1.73it/s]\n",
            "               classes   top1_acc   top5_acc: 100%|██████████| 8/8 [00:03<00:00,  2.16it/s]"
          ]
        },
        {
          "name": "stdout",
          "output_type": "stream",
          "text": [
            "                   all      0.888          1\n"
          ]
        },
        {
          "name": "stderr",
          "output_type": "stream",
          "text": [
            "\n"
          ]
        },
        {
          "name": "stdout",
          "output_type": "stream",
          "text": [
            "\n",
            "      Epoch    GPU_mem       loss  Instances       Size\n"
          ]
        },
        {
          "name": "stderr",
          "output_type": "stream",
          "text": [
            "     37/100      5.59G     0.1023          7        320: 100%|██████████| 124/124 [01:10<00:00,  1.76it/s]\n",
            "               classes   top1_acc   top5_acc: 100%|██████████| 8/8 [00:04<00:00,  1.91it/s]"
          ]
        },
        {
          "name": "stdout",
          "output_type": "stream",
          "text": [
            "                   all      0.878          1\n"
          ]
        },
        {
          "name": "stderr",
          "output_type": "stream",
          "text": [
            "\n"
          ]
        },
        {
          "name": "stdout",
          "output_type": "stream",
          "text": [
            "\n",
            "      Epoch    GPU_mem       loss  Instances       Size\n"
          ]
        },
        {
          "name": "stderr",
          "output_type": "stream",
          "text": [
            "     38/100      5.59G      0.101          7        320: 100%|██████████| 124/124 [01:06<00:00,  1.85it/s]\n",
            "               classes   top1_acc   top5_acc: 100%|██████████| 8/8 [00:05<00:00,  1.40it/s]"
          ]
        },
        {
          "name": "stdout",
          "output_type": "stream",
          "text": [
            "                   all      0.888          1\n"
          ]
        },
        {
          "name": "stderr",
          "output_type": "stream",
          "text": [
            "\n"
          ]
        },
        {
          "name": "stdout",
          "output_type": "stream",
          "text": [
            "\n",
            "      Epoch    GPU_mem       loss  Instances       Size\n"
          ]
        },
        {
          "name": "stderr",
          "output_type": "stream",
          "text": [
            "     39/100      5.59G    0.07758          7        320: 100%|██████████| 124/124 [01:08<00:00,  1.80it/s]\n",
            "               classes   top1_acc   top5_acc: 100%|██████████| 8/8 [00:05<00:00,  1.39it/s]"
          ]
        },
        {
          "name": "stdout",
          "output_type": "stream",
          "text": [
            "                   all      0.896          1\n"
          ]
        },
        {
          "name": "stderr",
          "output_type": "stream",
          "text": [
            "\n"
          ]
        },
        {
          "name": "stdout",
          "output_type": "stream",
          "text": [
            "\u001b[34m\u001b[1mEarlyStopping: \u001b[0mTraining stopped early as no improvement observed in last 7 epochs. Best results observed at epoch 32, best model saved as best.pt.\n",
            "To update EarlyStopping(patience=7) pass a new patience value, i.e. `patience=300` or use `patience=0` to disable EarlyStopping.\n",
            "\n",
            "39 epochs completed in 0.869 hours.\n",
            "Optimizer stripped from runs/classify/custom_yolov8_classification3/weights/last.pt, 112.5MB\n",
            "Optimizer stripped from runs/classify/custom_yolov8_classification3/weights/best.pt, 112.5MB\n",
            "\n",
            "Validating runs/classify/custom_yolov8_classification3/weights/best.pt...\n",
            "Ultralytics 8.3.62 🚀 Python-3.11.11 torch-2.5.1+cu121 CUDA:0 (Tesla T4, 15102MiB)\n",
            "YOLOv8x-cls summary (fused): 133 layers, 56,128,324 parameters, 0 gradients, 153.8 GFLOPs\n",
            "\u001b[34m\u001b[1mtrain:\u001b[0m /content/drive/My Drive/YoloDataset/dataset/train... found 3943 images in 4 classes ✅ \n",
            "\u001b[34m\u001b[1mval:\u001b[0m /content/drive/My Drive/YoloDataset/dataset/val... found 492 images in 4 classes ✅ \n",
            "\u001b[34m\u001b[1mtest:\u001b[0m /content/drive/My Drive/YoloDataset/dataset/test... found 496 images in 4 classes ✅ \n"
          ]
        },
        {
          "name": "stderr",
          "output_type": "stream",
          "text": [
            "               classes   top1_acc   top5_acc: 100%|██████████| 8/8 [00:03<00:00,  2.24it/s]\n"
          ]
        },
        {
          "name": "stdout",
          "output_type": "stream",
          "text": [
            "                   all      0.907          1\n",
            "Speed: 0.1ms preprocess, 4.0ms inference, 0.0ms loss, 0.0ms postprocess per image\n",
            "Results saved to \u001b[1mruns/classify/custom_yolov8_classification3\u001b[0m\n"
          ]
        }
      ],
      "source": [
        "results = model.train(\n",
        "    data=output_path,  # Path to dataset\n",
        "    epochs=100,         # Number of epochs\n",
        "    imgsz=300,         # Image size\n",
        "    batch=32,          # Batch size\n",
        "    patience=7,        # Early stopping after 5 epochs without improvement\n",
        "    name='custom_yolov8_classification'  # Run name for logs\n",
        ")"
      ]
    },
    {
      "cell_type": "code",
      "execution_count": null,
      "metadata": {
        "id": "qivIbpvjVtYS"
      },
      "outputs": [],
      "source": [
        "!scp -r /content/runs/classify/custom_yolov8_classification3 \"/content/drive/MyDrive/YoloDataset\""
      ]
    },
    {
      "cell_type": "markdown",
      "metadata": {
        "id": "h4D7rrhqhljR"
      },
      "source": [
        "***YOLO11***"
      ]
    },
    {
      "cell_type": "markdown",
      "metadata": {
        "id": "OQfvS8lWhqsp"
      },
      "source": [
        "**Nano**"
      ]
    },
    {
      "cell_type": "code",
      "execution_count": null,
      "metadata": {
        "colab": {
          "base_uri": "https://localhost:8080/"
        },
        "id": "nl3dTvRYg48Y",
        "outputId": "5c3afad2-e985-4c48-9c19-3056a9dad146"
      },
      "outputs": [
        {
          "name": "stdout",
          "output_type": "stream",
          "text": [
            "Downloading https://github.com/ultralytics/assets/releases/download/v8.3.0/yolo11n-cls.pt to 'yolo11n-cls.pt'...\n"
          ]
        },
        {
          "name": "stderr",
          "output_type": "stream",
          "text": [
            "100%|██████████| 5.52M/5.52M [00:00<00:00, 67.1MB/s]\n"
          ]
        }
      ],
      "source": [
        "model = YOLO('yolo11n-cls.pt')  # Using YOLOv8 xl pretrained on ImageNet"
      ]
    },
    {
      "cell_type": "code",
      "execution_count": null,
      "metadata": {
        "colab": {
          "base_uri": "https://localhost:8080/"
        },
        "id": "D98XweKphArI",
        "outputId": "5d1b9e57-387c-4d70-f511-7cc83bbb3d68"
      },
      "outputs": [
        {
          "name": "stdout",
          "output_type": "stream",
          "text": [
            "Ultralytics 8.3.61 🚀 Python-3.10.12 torch-2.5.1+cu121 CUDA:0 (Tesla T4, 15102MiB)\n",
            "\u001b[34m\u001b[1mengine/trainer: \u001b[0mtask=classify, mode=train, model=yolo11n-cls.pt, data=/content/processed_dataset, epochs=100, time=None, patience=7, batch=32, imgsz=300, save=True, save_period=-1, cache=False, device=None, workers=8, project=None, name=custom_yolov8_classification2, exist_ok=False, pretrained=True, optimizer=auto, verbose=True, seed=0, deterministic=True, single_cls=False, rect=False, cos_lr=False, close_mosaic=10, resume=False, amp=True, fraction=1.0, profile=False, freeze=None, multi_scale=False, overlap_mask=True, mask_ratio=4, dropout=0.0, val=True, split=val, save_json=False, save_hybrid=False, conf=None, iou=0.7, max_det=300, half=False, dnn=False, plots=True, source=None, vid_stride=1, stream_buffer=False, visualize=False, augment=False, agnostic_nms=False, classes=None, retina_masks=False, embed=None, show=False, save_frames=False, save_txt=False, save_conf=False, save_crop=False, show_labels=True, show_conf=True, show_boxes=True, line_width=None, format=torchscript, keras=False, optimize=False, int8=False, dynamic=False, simplify=True, opset=None, workspace=None, nms=False, lr0=0.01, lrf=0.01, momentum=0.937, weight_decay=0.0005, warmup_epochs=3.0, warmup_momentum=0.8, warmup_bias_lr=0.1, box=7.5, cls=0.5, dfl=1.5, pose=12.0, kobj=1.0, nbs=64, hsv_h=0.015, hsv_s=0.7, hsv_v=0.4, degrees=0.0, translate=0.1, scale=0.5, shear=0.0, perspective=0.0, flipud=0.0, fliplr=0.5, bgr=0.0, mosaic=1.0, mixup=0.0, copy_paste=0.0, copy_paste_mode=flip, auto_augment=randaugment, erasing=0.4, crop_fraction=1.0, cfg=None, tracker=botsort.yaml, save_dir=runs/classify/custom_yolov8_classification2\n",
            "\u001b[34m\u001b[1mtrain:\u001b[0m /content/processed_dataset/train... found 3943 images in 4 classes ✅ \n",
            "\u001b[34m\u001b[1mval:\u001b[0m /content/processed_dataset/val... found 492 images in 4 classes ✅ \n",
            "\u001b[34m\u001b[1mtest:\u001b[0m /content/processed_dataset/test... found 496 images in 4 classes ✅ \n",
            "Overriding model.yaml nc=80 with nc=4\n",
            "\n",
            "                   from  n    params  module                                       arguments                     \n",
            "  0                  -1  1       464  ultralytics.nn.modules.conv.Conv             [3, 16, 3, 2]                 \n",
            "  1                  -1  1      4672  ultralytics.nn.modules.conv.Conv             [16, 32, 3, 2]                \n",
            "  2                  -1  1      6640  ultralytics.nn.modules.block.C3k2            [32, 64, 1, False, 0.25]      \n",
            "  3                  -1  1     36992  ultralytics.nn.modules.conv.Conv             [64, 64, 3, 2]                \n",
            "  4                  -1  1     26080  ultralytics.nn.modules.block.C3k2            [64, 128, 1, False, 0.25]     \n",
            "  5                  -1  1    147712  ultralytics.nn.modules.conv.Conv             [128, 128, 3, 2]              \n",
            "  6                  -1  1     87040  ultralytics.nn.modules.block.C3k2            [128, 128, 1, True]           \n",
            "  7                  -1  1    295424  ultralytics.nn.modules.conv.Conv             [128, 256, 3, 2]              \n",
            "  8                  -1  1    346112  ultralytics.nn.modules.block.C3k2            [256, 256, 1, True]           \n",
            "  9                  -1  1    249728  ultralytics.nn.modules.block.C2PSA           [256, 256, 1]                 \n",
            " 10                  -1  1    335364  ultralytics.nn.modules.head.Classify         [256, 4]                      \n",
            "YOLO11n-cls summary: 151 layers, 1,536,228 parameters, 1,536,228 gradients, 3.3 GFLOPs\n",
            "Transferred 234/236 items from pretrained weights\n",
            "\u001b[34m\u001b[1mTensorBoard: \u001b[0mStart with 'tensorboard --logdir runs/classify/custom_yolov8_classification2', view at http://localhost:6006/\n",
            "\u001b[34m\u001b[1mAMP: \u001b[0mrunning Automatic Mixed Precision (AMP) checks...\n",
            "\u001b[34m\u001b[1mAMP: \u001b[0mchecks passed ✅\n",
            "WARNING ⚠️ imgsz=[300] must be multiple of max stride 32, updating to [320]\n"
          ]
        },
        {
          "name": "stderr",
          "output_type": "stream",
          "text": [
            "\u001b[34m\u001b[1mtrain: \u001b[0mScanning /content/processed_dataset/train... 3943 images, 0 corrupt: 100%|██████████| 3943/3943 [00:00<?, ?it/s]\n",
            "\u001b[34m\u001b[1mval: \u001b[0mScanning /content/processed_dataset/val... 492 images, 0 corrupt: 100%|██████████| 492/492 [00:00<?, ?it/s]\n"
          ]
        },
        {
          "name": "stdout",
          "output_type": "stream",
          "text": [
            "\u001b[34m\u001b[1moptimizer:\u001b[0m 'optimizer=auto' found, ignoring 'lr0=0.01' and 'momentum=0.937' and determining best 'optimizer', 'lr0' and 'momentum' automatically... \n",
            "\u001b[34m\u001b[1moptimizer:\u001b[0m AdamW(lr=0.000714, momentum=0.9) with parameter groups 39 weight(decay=0.0), 40 weight(decay=0.0005), 40 bias(decay=0.0)\n",
            "\u001b[34m\u001b[1mTensorBoard: \u001b[0mmodel graph visualization added ✅\n",
            "Image sizes 320 train, 320 val\n",
            "Using 2 dataloader workers\n",
            "Logging results to \u001b[1mruns/classify/custom_yolov8_classification2\u001b[0m\n",
            "Starting training for 100 epochs...\n",
            "\n",
            "      Epoch    GPU_mem       loss  Instances       Size\n"
          ]
        },
        {
          "name": "stderr",
          "output_type": "stream",
          "text": [
            "      1/100      1.78G      1.034          7        320: 100%|██████████| 124/124 [00:45<00:00,  2.72it/s]\n",
            "               classes   top1_acc   top5_acc: 100%|██████████| 8/8 [00:02<00:00,  2.98it/s]"
          ]
        },
        {
          "name": "stdout",
          "output_type": "stream",
          "text": [
            "                   all      0.762          1\n"
          ]
        },
        {
          "name": "stderr",
          "output_type": "stream",
          "text": [
            "\n"
          ]
        },
        {
          "name": "stdout",
          "output_type": "stream",
          "text": [
            "\n",
            "      Epoch    GPU_mem       loss  Instances       Size\n"
          ]
        },
        {
          "name": "stderr",
          "output_type": "stream",
          "text": [
            "      2/100     0.891G     0.7099          7        320: 100%|██████████| 124/124 [00:41<00:00,  2.98it/s]\n",
            "               classes   top1_acc   top5_acc: 100%|██████████| 8/8 [00:01<00:00,  4.20it/s]"
          ]
        },
        {
          "name": "stdout",
          "output_type": "stream",
          "text": [
            "                   all      0.756          1\n"
          ]
        },
        {
          "name": "stderr",
          "output_type": "stream",
          "text": [
            "\n"
          ]
        },
        {
          "name": "stdout",
          "output_type": "stream",
          "text": [
            "\n",
            "      Epoch    GPU_mem       loss  Instances       Size\n"
          ]
        },
        {
          "name": "stderr",
          "output_type": "stream",
          "text": [
            "      3/100     0.883G     0.6737          7        320: 100%|██████████| 124/124 [00:42<00:00,  2.92it/s]\n",
            "               classes   top1_acc   top5_acc: 100%|██████████| 8/8 [00:03<00:00,  2.18it/s]"
          ]
        },
        {
          "name": "stdout",
          "output_type": "stream",
          "text": [
            "                   all      0.799          1\n"
          ]
        },
        {
          "name": "stderr",
          "output_type": "stream",
          "text": [
            "\n"
          ]
        },
        {
          "name": "stdout",
          "output_type": "stream",
          "text": [
            "\n",
            "      Epoch    GPU_mem       loss  Instances       Size\n"
          ]
        },
        {
          "name": "stderr",
          "output_type": "stream",
          "text": [
            "      4/100     0.883G     0.6463          7        320: 100%|██████████| 124/124 [00:41<00:00,  3.02it/s]\n",
            "               classes   top1_acc   top5_acc: 100%|██████████| 8/8 [00:01<00:00,  4.24it/s]"
          ]
        },
        {
          "name": "stdout",
          "output_type": "stream",
          "text": [
            "                   all      0.787          1\n"
          ]
        },
        {
          "name": "stderr",
          "output_type": "stream",
          "text": [
            "\n"
          ]
        },
        {
          "name": "stdout",
          "output_type": "stream",
          "text": [
            "\n",
            "      Epoch    GPU_mem       loss  Instances       Size\n"
          ]
        },
        {
          "name": "stderr",
          "output_type": "stream",
          "text": [
            "      5/100     0.883G      0.578          7        320: 100%|██████████| 124/124 [00:41<00:00,  2.99it/s]\n",
            "               classes   top1_acc   top5_acc: 100%|██████████| 8/8 [00:01<00:00,  4.35it/s]"
          ]
        },
        {
          "name": "stdout",
          "output_type": "stream",
          "text": [
            "                   all      0.789          1\n"
          ]
        },
        {
          "name": "stderr",
          "output_type": "stream",
          "text": [
            "\n"
          ]
        },
        {
          "name": "stdout",
          "output_type": "stream",
          "text": [
            "\n",
            "      Epoch    GPU_mem       loss  Instances       Size\n"
          ]
        },
        {
          "name": "stderr",
          "output_type": "stream",
          "text": [
            "      6/100     0.883G     0.5508          7        320: 100%|██████████| 124/124 [00:43<00:00,  2.85it/s]\n",
            "               classes   top1_acc   top5_acc: 100%|██████████| 8/8 [00:03<00:00,  2.51it/s]"
          ]
        },
        {
          "name": "stdout",
          "output_type": "stream",
          "text": [
            "                   all      0.803          1\n"
          ]
        },
        {
          "name": "stderr",
          "output_type": "stream",
          "text": [
            "\n"
          ]
        },
        {
          "name": "stdout",
          "output_type": "stream",
          "text": [
            "\n",
            "      Epoch    GPU_mem       loss  Instances       Size\n"
          ]
        },
        {
          "name": "stderr",
          "output_type": "stream",
          "text": [
            "      7/100     0.883G     0.4939          7        320: 100%|██████████| 124/124 [00:40<00:00,  3.05it/s]\n",
            "               classes   top1_acc   top5_acc: 100%|██████████| 8/8 [00:01<00:00,  4.32it/s]"
          ]
        },
        {
          "name": "stdout",
          "output_type": "stream",
          "text": [
            "                   all      0.833          1\n"
          ]
        },
        {
          "name": "stderr",
          "output_type": "stream",
          "text": [
            "\n"
          ]
        },
        {
          "name": "stdout",
          "output_type": "stream",
          "text": [
            "\n",
            "      Epoch    GPU_mem       loss  Instances       Size\n"
          ]
        },
        {
          "name": "stderr",
          "output_type": "stream",
          "text": [
            "      8/100     0.883G     0.4794          7        320: 100%|██████████| 124/124 [00:41<00:00,  2.98it/s]\n",
            "               classes   top1_acc   top5_acc: 100%|██████████| 8/8 [00:03<00:00,  2.65it/s]"
          ]
        },
        {
          "name": "stdout",
          "output_type": "stream",
          "text": [
            "                   all      0.809          1\n"
          ]
        },
        {
          "name": "stderr",
          "output_type": "stream",
          "text": [
            "\n"
          ]
        },
        {
          "name": "stdout",
          "output_type": "stream",
          "text": [
            "\n",
            "      Epoch    GPU_mem       loss  Instances       Size\n"
          ]
        },
        {
          "name": "stderr",
          "output_type": "stream",
          "text": [
            "      9/100     0.883G     0.4659          7        320: 100%|██████████| 124/124 [00:41<00:00,  2.97it/s]\n",
            "               classes   top1_acc   top5_acc: 100%|██████████| 8/8 [00:02<00:00,  3.74it/s]"
          ]
        },
        {
          "name": "stdout",
          "output_type": "stream",
          "text": [
            "                   all      0.821          1\n"
          ]
        },
        {
          "name": "stderr",
          "output_type": "stream",
          "text": [
            "\n"
          ]
        },
        {
          "name": "stdout",
          "output_type": "stream",
          "text": [
            "\n",
            "      Epoch    GPU_mem       loss  Instances       Size\n"
          ]
        },
        {
          "name": "stderr",
          "output_type": "stream",
          "text": [
            "     10/100     0.883G     0.4419          7        320: 100%|██████████| 124/124 [00:40<00:00,  3.03it/s]\n",
            "               classes   top1_acc   top5_acc: 100%|██████████| 8/8 [00:01<00:00,  4.51it/s]"
          ]
        },
        {
          "name": "stdout",
          "output_type": "stream",
          "text": [
            "                   all      0.831          1\n"
          ]
        },
        {
          "name": "stderr",
          "output_type": "stream",
          "text": [
            "\n"
          ]
        },
        {
          "name": "stdout",
          "output_type": "stream",
          "text": [
            "\n",
            "      Epoch    GPU_mem       loss  Instances       Size\n"
          ]
        },
        {
          "name": "stderr",
          "output_type": "stream",
          "text": [
            "     11/100     0.883G     0.4105          7        320: 100%|██████████| 124/124 [00:41<00:00,  2.96it/s]\n",
            "               classes   top1_acc   top5_acc: 100%|██████████| 8/8 [00:03<00:00,  2.43it/s]"
          ]
        },
        {
          "name": "stdout",
          "output_type": "stream",
          "text": [
            "                   all       0.87          1\n"
          ]
        },
        {
          "name": "stderr",
          "output_type": "stream",
          "text": [
            "\n"
          ]
        },
        {
          "name": "stdout",
          "output_type": "stream",
          "text": [
            "\n",
            "      Epoch    GPU_mem       loss  Instances       Size\n"
          ]
        },
        {
          "name": "stderr",
          "output_type": "stream",
          "text": [
            "     12/100     0.883G      0.423          7        320: 100%|██████████| 124/124 [00:40<00:00,  3.05it/s]\n",
            "               classes   top1_acc   top5_acc: 100%|██████████| 8/8 [00:01<00:00,  4.40it/s]"
          ]
        },
        {
          "name": "stdout",
          "output_type": "stream",
          "text": [
            "                   all      0.825          1\n"
          ]
        },
        {
          "name": "stderr",
          "output_type": "stream",
          "text": [
            "\n"
          ]
        },
        {
          "name": "stdout",
          "output_type": "stream",
          "text": [
            "\n",
            "      Epoch    GPU_mem       loss  Instances       Size\n"
          ]
        },
        {
          "name": "stderr",
          "output_type": "stream",
          "text": [
            "     13/100     0.883G     0.3493          7        320: 100%|██████████| 124/124 [00:41<00:00,  3.00it/s]\n",
            "               classes   top1_acc   top5_acc: 100%|██████████| 8/8 [00:01<00:00,  4.19it/s]"
          ]
        },
        {
          "name": "stdout",
          "output_type": "stream",
          "text": [
            "                   all      0.858          1\n"
          ]
        },
        {
          "name": "stderr",
          "output_type": "stream",
          "text": [
            "\n"
          ]
        },
        {
          "name": "stdout",
          "output_type": "stream",
          "text": [
            "\n",
            "      Epoch    GPU_mem       loss  Instances       Size\n"
          ]
        },
        {
          "name": "stderr",
          "output_type": "stream",
          "text": [
            "     14/100     0.883G     0.3375          7        320: 100%|██████████| 124/124 [00:41<00:00,  2.97it/s]\n",
            "               classes   top1_acc   top5_acc: 100%|██████████| 8/8 [00:03<00:00,  2.37it/s]"
          ]
        },
        {
          "name": "stdout",
          "output_type": "stream",
          "text": [
            "                   all      0.856          1\n"
          ]
        },
        {
          "name": "stderr",
          "output_type": "stream",
          "text": [
            "\n"
          ]
        },
        {
          "name": "stdout",
          "output_type": "stream",
          "text": [
            "\n",
            "      Epoch    GPU_mem       loss  Instances       Size\n"
          ]
        },
        {
          "name": "stderr",
          "output_type": "stream",
          "text": [
            "     15/100     0.883G     0.3396          7        320: 100%|██████████| 124/124 [00:40<00:00,  3.06it/s]\n",
            "               classes   top1_acc   top5_acc: 100%|██████████| 8/8 [00:02<00:00,  3.95it/s]"
          ]
        },
        {
          "name": "stdout",
          "output_type": "stream",
          "text": [
            "                   all      0.831          1\n"
          ]
        },
        {
          "name": "stderr",
          "output_type": "stream",
          "text": [
            "\n"
          ]
        },
        {
          "name": "stdout",
          "output_type": "stream",
          "text": [
            "\n",
            "      Epoch    GPU_mem       loss  Instances       Size\n"
          ]
        },
        {
          "name": "stderr",
          "output_type": "stream",
          "text": [
            "     16/100     0.883G     0.3341          7        320: 100%|██████████| 124/124 [00:39<00:00,  3.12it/s]\n",
            "               classes   top1_acc   top5_acc: 100%|██████████| 8/8 [00:01<00:00,  4.18it/s]"
          ]
        },
        {
          "name": "stdout",
          "output_type": "stream",
          "text": [
            "                   all      0.858          1\n"
          ]
        },
        {
          "name": "stderr",
          "output_type": "stream",
          "text": [
            "\n"
          ]
        },
        {
          "name": "stdout",
          "output_type": "stream",
          "text": [
            "\n",
            "      Epoch    GPU_mem       loss  Instances       Size\n"
          ]
        },
        {
          "name": "stderr",
          "output_type": "stream",
          "text": [
            "     17/100     0.883G     0.3241          7        320: 100%|██████████| 124/124 [00:43<00:00,  2.83it/s]\n",
            "               classes   top1_acc   top5_acc: 100%|██████████| 8/8 [00:02<00:00,  3.33it/s]"
          ]
        },
        {
          "name": "stdout",
          "output_type": "stream",
          "text": [
            "                   all      0.835          1\n"
          ]
        },
        {
          "name": "stderr",
          "output_type": "stream",
          "text": [
            "\n"
          ]
        },
        {
          "name": "stdout",
          "output_type": "stream",
          "text": [
            "\n",
            "      Epoch    GPU_mem       loss  Instances       Size\n"
          ]
        },
        {
          "name": "stderr",
          "output_type": "stream",
          "text": [
            "     18/100     0.883G     0.3181          7        320: 100%|██████████| 124/124 [00:41<00:00,  3.00it/s]\n",
            "               classes   top1_acc   top5_acc: 100%|██████████| 8/8 [00:02<00:00,  3.89it/s]"
          ]
        },
        {
          "name": "stdout",
          "output_type": "stream",
          "text": [
            "                   all      0.841          1\n",
            "\u001b[34m\u001b[1mEarlyStopping: \u001b[0mTraining stopped early as no improvement observed in last 7 epochs. Best results observed at epoch 11, best model saved as best.pt.\n",
            "To update EarlyStopping(patience=7) pass a new patience value, i.e. `patience=300` or use `patience=0` to disable EarlyStopping.\n"
          ]
        },
        {
          "name": "stderr",
          "output_type": "stream",
          "text": [
            "\n"
          ]
        },
        {
          "name": "stdout",
          "output_type": "stream",
          "text": [
            "\n",
            "18 epochs completed in 0.234 hours.\n",
            "Optimizer stripped from runs/classify/custom_yolov8_classification2/weights/last.pt, 3.2MB\n",
            "Optimizer stripped from runs/classify/custom_yolov8_classification2/weights/best.pt, 3.2MB\n",
            "\n",
            "Validating runs/classify/custom_yolov8_classification2/weights/best.pt...\n",
            "Ultralytics 8.3.61 🚀 Python-3.10.12 torch-2.5.1+cu121 CUDA:0 (Tesla T4, 15102MiB)\n",
            "YOLO11n-cls summary (fused): 112 layers, 1,531,148 parameters, 0 gradients, 3.2 GFLOPs\n",
            "\u001b[34m\u001b[1mtrain:\u001b[0m /content/processed_dataset/train... found 3943 images in 4 classes ✅ \n",
            "\u001b[34m\u001b[1mval:\u001b[0m /content/processed_dataset/val... found 492 images in 4 classes ✅ \n",
            "\u001b[34m\u001b[1mtest:\u001b[0m /content/processed_dataset/test... found 496 images in 4 classes ✅ \n"
          ]
        },
        {
          "name": "stderr",
          "output_type": "stream",
          "text": [
            "               classes   top1_acc   top5_acc: 100%|██████████| 8/8 [00:01<00:00,  4.34it/s]\n"
          ]
        },
        {
          "name": "stdout",
          "output_type": "stream",
          "text": [
            "                   all      0.868          1\n",
            "Speed: 0.3ms preprocess, 0.5ms inference, 0.0ms loss, 0.0ms postprocess per image\n",
            "Results saved to \u001b[1mruns/classify/custom_yolov8_classification2\u001b[0m\n"
          ]
        }
      ],
      "source": [
        "results = model.train(\n",
        "    data=output_path,  # Path to dataset\n",
        "    epochs=100,         # Number of epochs\n",
        "    imgsz=300,         # Image size\n",
        "    batch=32,          # Batch size\n",
        "    patience=7,        # Early stopping after 5 epochs without improvement\n",
        "    name='custom_yolov8_classification'  # Run name for logs\n",
        ")"
      ]
    },
    {
      "cell_type": "code",
      "execution_count": null,
      "metadata": {
        "id": "VW-SlN4JhLT3"
      },
      "outputs": [],
      "source": [
        "!scp -r /content/runs/classify/custom_yolov8_classification2 \"/content/drive/MyDrive/Runs/Yolo11n-100e\""
      ]
    },
    {
      "cell_type": "markdown",
      "metadata": {
        "id": "W1WXzhxS0yDa"
      },
      "source": [
        "Completion of Training"
      ]
    },
    {
      "cell_type": "markdown",
      "metadata": {
        "id": "AOPWY9hm03R8"
      },
      "source": [
        "# Model Evaluation"
      ]
    },
    {
      "cell_type": "code",
      "execution_count": 16,
      "metadata": {
        "colab": {
          "base_uri": "https://localhost:8080/"
        },
        "id": "_oInP_BzOylL",
        "outputId": "19a3800c-2ffa-4240-dbd4-1e4a0c1b8715"
      },
      "outputs": [
        {
          "output_type": "stream",
          "name": "stdout",
          "text": [
            "Mounted at /content/drive\n"
          ]
        }
      ],
      "source": [
        "from google.colab import drive\n",
        "\n",
        "drive.mount('/content/drive')"
      ]
    },
    {
      "cell_type": "code",
      "execution_count": 17,
      "metadata": {
        "colab": {
          "base_uri": "https://localhost:8080/"
        },
        "id": "pro5VHZAu4Xe",
        "outputId": "63453582-f8a2-416d-f4f1-7dd034776abf"
      },
      "outputs": [
        {
          "output_type": "stream",
          "name": "stdout",
          "text": [
            "Collecting ultralytics\n",
            "  Downloading ultralytics-8.3.67-py3-none-any.whl.metadata (35 kB)\n",
            "Requirement already satisfied: numpy>=1.23.0 in /usr/local/lib/python3.11/dist-packages (from ultralytics) (1.26.4)\n",
            "Requirement already satisfied: matplotlib>=3.3.0 in /usr/local/lib/python3.11/dist-packages (from ultralytics) (3.10.0)\n",
            "Requirement already satisfied: opencv-python>=4.6.0 in /usr/local/lib/python3.11/dist-packages (from ultralytics) (4.10.0.84)\n",
            "Requirement already satisfied: pillow>=7.1.2 in /usr/local/lib/python3.11/dist-packages (from ultralytics) (11.1.0)\n",
            "Requirement already satisfied: pyyaml>=5.3.1 in /usr/local/lib/python3.11/dist-packages (from ultralytics) (6.0.2)\n",
            "Requirement already satisfied: requests>=2.23.0 in /usr/local/lib/python3.11/dist-packages (from ultralytics) (2.32.3)\n",
            "Requirement already satisfied: scipy>=1.4.1 in /usr/local/lib/python3.11/dist-packages (from ultralytics) (1.13.1)\n",
            "Requirement already satisfied: torch>=1.8.0 in /usr/local/lib/python3.11/dist-packages (from ultralytics) (2.5.1+cu121)\n",
            "Requirement already satisfied: torchvision>=0.9.0 in /usr/local/lib/python3.11/dist-packages (from ultralytics) (0.20.1+cu121)\n",
            "Requirement already satisfied: tqdm>=4.64.0 in /usr/local/lib/python3.11/dist-packages (from ultralytics) (4.67.1)\n",
            "Requirement already satisfied: psutil in /usr/local/lib/python3.11/dist-packages (from ultralytics) (5.9.5)\n",
            "Requirement already satisfied: py-cpuinfo in /usr/local/lib/python3.11/dist-packages (from ultralytics) (9.0.0)\n",
            "Requirement already satisfied: pandas>=1.1.4 in /usr/local/lib/python3.11/dist-packages (from ultralytics) (2.2.2)\n",
            "Requirement already satisfied: seaborn>=0.11.0 in /usr/local/lib/python3.11/dist-packages (from ultralytics) (0.13.2)\n",
            "Collecting ultralytics-thop>=2.0.0 (from ultralytics)\n",
            "  Downloading ultralytics_thop-2.0.14-py3-none-any.whl.metadata (9.4 kB)\n",
            "Requirement already satisfied: contourpy>=1.0.1 in /usr/local/lib/python3.11/dist-packages (from matplotlib>=3.3.0->ultralytics) (1.3.1)\n",
            "Requirement already satisfied: cycler>=0.10 in /usr/local/lib/python3.11/dist-packages (from matplotlib>=3.3.0->ultralytics) (0.12.1)\n",
            "Requirement already satisfied: fonttools>=4.22.0 in /usr/local/lib/python3.11/dist-packages (from matplotlib>=3.3.0->ultralytics) (4.55.4)\n",
            "Requirement already satisfied: kiwisolver>=1.3.1 in /usr/local/lib/python3.11/dist-packages (from matplotlib>=3.3.0->ultralytics) (1.4.8)\n",
            "Requirement already satisfied: packaging>=20.0 in /usr/local/lib/python3.11/dist-packages (from matplotlib>=3.3.0->ultralytics) (24.2)\n",
            "Requirement already satisfied: pyparsing>=2.3.1 in /usr/local/lib/python3.11/dist-packages (from matplotlib>=3.3.0->ultralytics) (3.2.1)\n",
            "Requirement already satisfied: python-dateutil>=2.7 in /usr/local/lib/python3.11/dist-packages (from matplotlib>=3.3.0->ultralytics) (2.8.2)\n",
            "Requirement already satisfied: pytz>=2020.1 in /usr/local/lib/python3.11/dist-packages (from pandas>=1.1.4->ultralytics) (2024.2)\n",
            "Requirement already satisfied: tzdata>=2022.7 in /usr/local/lib/python3.11/dist-packages (from pandas>=1.1.4->ultralytics) (2025.1)\n",
            "Requirement already satisfied: charset-normalizer<4,>=2 in /usr/local/lib/python3.11/dist-packages (from requests>=2.23.0->ultralytics) (3.4.1)\n",
            "Requirement already satisfied: idna<4,>=2.5 in /usr/local/lib/python3.11/dist-packages (from requests>=2.23.0->ultralytics) (3.10)\n",
            "Requirement already satisfied: urllib3<3,>=1.21.1 in /usr/local/lib/python3.11/dist-packages (from requests>=2.23.0->ultralytics) (2.3.0)\n",
            "Requirement already satisfied: certifi>=2017.4.17 in /usr/local/lib/python3.11/dist-packages (from requests>=2.23.0->ultralytics) (2024.12.14)\n",
            "Requirement already satisfied: filelock in /usr/local/lib/python3.11/dist-packages (from torch>=1.8.0->ultralytics) (3.17.0)\n",
            "Requirement already satisfied: typing-extensions>=4.8.0 in /usr/local/lib/python3.11/dist-packages (from torch>=1.8.0->ultralytics) (4.12.2)\n",
            "Requirement already satisfied: networkx in /usr/local/lib/python3.11/dist-packages (from torch>=1.8.0->ultralytics) (3.4.2)\n",
            "Requirement already satisfied: jinja2 in /usr/local/lib/python3.11/dist-packages (from torch>=1.8.0->ultralytics) (3.1.5)\n",
            "Requirement already satisfied: fsspec in /usr/local/lib/python3.11/dist-packages (from torch>=1.8.0->ultralytics) (2024.10.0)\n",
            "Requirement already satisfied: nvidia-cuda-nvrtc-cu12==12.1.105 in /usr/local/lib/python3.11/dist-packages (from torch>=1.8.0->ultralytics) (12.1.105)\n",
            "Requirement already satisfied: nvidia-cuda-runtime-cu12==12.1.105 in /usr/local/lib/python3.11/dist-packages (from torch>=1.8.0->ultralytics) (12.1.105)\n",
            "Requirement already satisfied: nvidia-cuda-cupti-cu12==12.1.105 in /usr/local/lib/python3.11/dist-packages (from torch>=1.8.0->ultralytics) (12.1.105)\n",
            "Requirement already satisfied: nvidia-cudnn-cu12==9.1.0.70 in /usr/local/lib/python3.11/dist-packages (from torch>=1.8.0->ultralytics) (9.1.0.70)\n",
            "Requirement already satisfied: nvidia-cublas-cu12==12.1.3.1 in /usr/local/lib/python3.11/dist-packages (from torch>=1.8.0->ultralytics) (12.1.3.1)\n",
            "Requirement already satisfied: nvidia-cufft-cu12==11.0.2.54 in /usr/local/lib/python3.11/dist-packages (from torch>=1.8.0->ultralytics) (11.0.2.54)\n",
            "Requirement already satisfied: nvidia-curand-cu12==10.3.2.106 in /usr/local/lib/python3.11/dist-packages (from torch>=1.8.0->ultralytics) (10.3.2.106)\n",
            "Requirement already satisfied: nvidia-cusolver-cu12==11.4.5.107 in /usr/local/lib/python3.11/dist-packages (from torch>=1.8.0->ultralytics) (11.4.5.107)\n",
            "Requirement already satisfied: nvidia-cusparse-cu12==12.1.0.106 in /usr/local/lib/python3.11/dist-packages (from torch>=1.8.0->ultralytics) (12.1.0.106)\n",
            "Requirement already satisfied: nvidia-nccl-cu12==2.21.5 in /usr/local/lib/python3.11/dist-packages (from torch>=1.8.0->ultralytics) (2.21.5)\n",
            "Requirement already satisfied: nvidia-nvtx-cu12==12.1.105 in /usr/local/lib/python3.11/dist-packages (from torch>=1.8.0->ultralytics) (12.1.105)\n",
            "Requirement already satisfied: triton==3.1.0 in /usr/local/lib/python3.11/dist-packages (from torch>=1.8.0->ultralytics) (3.1.0)\n",
            "Requirement already satisfied: sympy==1.13.1 in /usr/local/lib/python3.11/dist-packages (from torch>=1.8.0->ultralytics) (1.13.1)\n",
            "Requirement already satisfied: nvidia-nvjitlink-cu12 in /usr/local/lib/python3.11/dist-packages (from nvidia-cusolver-cu12==11.4.5.107->torch>=1.8.0->ultralytics) (12.6.85)\n",
            "Requirement already satisfied: mpmath<1.4,>=1.1.0 in /usr/local/lib/python3.11/dist-packages (from sympy==1.13.1->torch>=1.8.0->ultralytics) (1.3.0)\n",
            "Requirement already satisfied: six>=1.5 in /usr/local/lib/python3.11/dist-packages (from python-dateutil>=2.7->matplotlib>=3.3.0->ultralytics) (1.17.0)\n",
            "Requirement already satisfied: MarkupSafe>=2.0 in /usr/local/lib/python3.11/dist-packages (from jinja2->torch>=1.8.0->ultralytics) (3.0.2)\n",
            "Downloading ultralytics-8.3.67-py3-none-any.whl (913 kB)\n",
            "\u001b[2K   \u001b[90m━━━━━━━━━━━━━━━━━━━━━━━━━━━━━━━━━━━━━━━━\u001b[0m \u001b[32m913.5/913.5 kB\u001b[0m \u001b[31m30.8 MB/s\u001b[0m eta \u001b[36m0:00:00\u001b[0m\n",
            "\u001b[?25hDownloading ultralytics_thop-2.0.14-py3-none-any.whl (26 kB)\n",
            "Installing collected packages: ultralytics-thop, ultralytics\n",
            "Successfully installed ultralytics-8.3.67 ultralytics-thop-2.0.14\n"
          ]
        }
      ],
      "source": [
        "pip install ultralytics"
      ]
    },
    {
      "cell_type": "code",
      "execution_count": 13,
      "metadata": {
        "id": "PKVqcOz6DUVl",
        "colab": {
          "base_uri": "https://localhost:8080/",
          "height": 36
        },
        "outputId": "74f1d3fd-536e-444a-a1e9-b6ddace1437a"
      },
      "outputs": [
        {
          "output_type": "execute_result",
          "data": {
            "text/plain": [
              "'/content/drive/MyDrive/Runs/Yolov8n-100e/'"
            ],
            "application/vnd.google.colaboratory.intrinsic+json": {
              "type": "string"
            }
          },
          "metadata": {},
          "execution_count": 13
        }
      ],
      "source": [
        "\"/content/drive/MyDrive/Runs/Yolo11n-100e\"\n",
        "\"/content/drive/MyDrive/Runs/Yolov8l-100e/\"\n",
        "\"/content/drive/MyDrive/Runs/Yolov8m-100e/\"\n",
        "\"/content/drive/MyDrive/Runs/Yolov8s-100e/\"\n",
        "\"/content/drive/MyDrive/Runs/Yolov8n-100e/\""
      ]
    },
    {
      "cell_type": "code",
      "source": [
        "ls \"/content/drive/MyDrive/Runs/Yolov8n-100e/\""
      ],
      "metadata": {
        "colab": {
          "base_uri": "https://localhost:8080/"
        },
        "id": "KrGzYR2TeNf6",
        "outputId": "1a976381-9462-4f42-9efb-ab9b1e8c24c6"
      },
      "execution_count": null,
      "outputs": [
        {
          "output_type": "stream",
          "name": "stdout",
          "text": [
            "\u001b[0m\u001b[01;34mcustom_yolov8_classification\u001b[0m/\n"
          ]
        }
      ]
    },
    {
      "cell_type": "markdown",
      "metadata": {
        "id": "w1Upza0EEqtr"
      },
      "source": [
        "Evaluation of each model\n"
      ]
    },
    {
      "cell_type": "markdown",
      "source": [
        "**YOLOv8**"
      ],
      "metadata": {
        "id": "gYOD1CYLiPwA"
      }
    },
    {
      "cell_type": "markdown",
      "source": [
        "**Nano**"
      ],
      "metadata": {
        "id": "a-iQlV5CiSkm"
      }
    },
    {
      "cell_type": "code",
      "execution_count": null,
      "metadata": {
        "colab": {
          "base_uri": "https://localhost:8080/"
        },
        "id": "zPV9GTH-q_bN",
        "outputId": "6da55f64-1163-4ef5-bfc5-078f653665a1"
      },
      "outputs": [
        {
          "output_type": "stream",
          "name": "stdout",
          "text": [
            "Ultralytics 8.3.67 🚀 Python-3.11.11 torch-2.5.1+cu121 CPU (Intel Xeon 2.20GHz)\n",
            "YOLOv8n-cls summary (fused): 73 layers, 1,440,004 parameters, 0 gradients, 3.3 GFLOPs\n",
            "\u001b[34m\u001b[1mtrain:\u001b[0m /content/processed_dataset/train... found 3943 images in 4 classes ✅ \n",
            "\u001b[34m\u001b[1mval:\u001b[0m /content/processed_dataset/val... found 492 images in 4 classes ✅ \n",
            "\u001b[34m\u001b[1mtest:\u001b[0m /content/processed_dataset/test... found 496 images in 4 classes ✅ \n"
          ]
        },
        {
          "output_type": "stream",
          "name": "stderr",
          "text": [
            "\u001b[34m\u001b[1mval: \u001b[0mScanning /content/processed_dataset/val... 492 images, 0 corrupt: 100%|██████████| 492/492 [00:00<00:00, 3524.49it/s]"
          ]
        },
        {
          "output_type": "stream",
          "name": "stdout",
          "text": [
            "\u001b[34m\u001b[1mval: \u001b[0mNew cache created: /content/processed_dataset/val.cache\n"
          ]
        },
        {
          "output_type": "stream",
          "name": "stderr",
          "text": [
            "\n",
            "               classes   top1_acc   top5_acc:   3%|▎         | 1/31 [00:00<00:22,  1.35it/s]"
          ]
        },
        {
          "output_type": "stream",
          "name": "stdout",
          "text": [
            "Downloading https://ultralytics.com/assets/Arial.ttf to '/root/.config/Ultralytics/Arial.ttf'...\n"
          ]
        },
        {
          "output_type": "stream",
          "name": "stderr",
          "text": [
            "\n",
            "100%|██████████| 755k/755k [00:00<00:00, 75.4MB/s]\n",
            "               classes   top1_acc   top5_acc: 100%|██████████| 31/31 [00:17<00:00,  1.78it/s]\n"
          ]
        },
        {
          "output_type": "stream",
          "name": "stdout",
          "text": [
            "                   all      0.886          1\n",
            "Speed: 0.0ms preprocess, 29.1ms inference, 0.0ms loss, 0.0ms postprocess per image\n",
            "Results saved to \u001b[1mruns/classify/val\u001b[0m\n",
            "Overall Accuracy of Val data: 0.89%\n",
            "Ultralytics 8.3.67 🚀 Python-3.11.11 torch-2.5.1+cu121 CPU (Intel Xeon 2.20GHz)\n",
            "\u001b[34m\u001b[1mtrain:\u001b[0m /content/processed_dataset/train... found 3943 images in 4 classes ✅ \n",
            "\u001b[34m\u001b[1mval:\u001b[0m /content/processed_dataset/val... found 492 images in 4 classes ✅ \n",
            "\u001b[34m\u001b[1mtest:\u001b[0m /content/processed_dataset/test... found 496 images in 4 classes ✅ \n"
          ]
        },
        {
          "output_type": "stream",
          "name": "stderr",
          "text": [
            "\u001b[34m\u001b[1mtest: \u001b[0mScanning /content/processed_dataset/test... 496 images, 0 corrupt: 100%|██████████| 496/496 [00:00<00:00, 6169.87it/s]"
          ]
        },
        {
          "output_type": "stream",
          "name": "stdout",
          "text": [
            "\u001b[34m\u001b[1mtest: \u001b[0mNew cache created: /content/processed_dataset/test.cache\n"
          ]
        },
        {
          "output_type": "stream",
          "name": "stderr",
          "text": [
            "\n",
            "               classes   top1_acc   top5_acc: 100%|██████████| 31/31 [00:18<00:00,  1.68it/s]\n"
          ]
        },
        {
          "output_type": "stream",
          "name": "stdout",
          "text": [
            "                   all      0.851          1\n",
            "Speed: 0.0ms preprocess, 30.4ms inference, 0.0ms loss, 0.0ms postprocess per image\n",
            "Results saved to \u001b[1mruns/classify/val2\u001b[0m\n",
            "Overall Accuracy of Test data: 0.8508\n"
          ]
        }
      ],
      "source": [
        "from ultralytics import YOLO\n",
        "\n",
        "# Load trained model\n",
        "model = YOLO(\"/content/drive/MyDrive/Runs/Yolov8n-100e/custom_yolov8_classification/weights/best.pt\")\n",
        "\n",
        "# Evaluate on validation set\n",
        "metrics = model.val()\n",
        "\n",
        "# Print accuracy\n",
        "print(f\"Overall Accuracy of Val data: {metrics.top1:.2f}%\")\n",
        "\n",
        "# Validate on the test set\n",
        "metrics = model.val(split=\"test\")\n",
        "\n",
        "# Print overall accuracy\n",
        "print(f\"Overall Accuracy of Test data: {metrics.top1:.4f}\")"
      ]
    },
    {
      "cell_type": "code",
      "execution_count": null,
      "metadata": {
        "id": "kRMu1rcZcHWb"
      },
      "outputs": [],
      "source": [
        "!scp -r /content/runs/classify/val \"/content/drive/MyDrive/Validation_of_all_models/Yolov8n-100e/val\""
      ]
    },
    {
      "cell_type": "code",
      "source": [
        "!scp -r /content/runs/classify/val2 \"/content/drive/MyDrive/Validation_of_all_models/Yolov8n-100e/test\""
      ],
      "metadata": {
        "id": "y19LoXuXi8W6"
      },
      "execution_count": null,
      "outputs": []
    },
    {
      "cell_type": "markdown",
      "source": [
        "**Small**"
      ],
      "metadata": {
        "id": "46L63S5MiVEF"
      }
    },
    {
      "cell_type": "code",
      "source": [
        "from ultralytics import YOLO\n",
        "\n",
        "# Load trained model\n",
        "model = YOLO(\"/content/drive/MyDrive/Runs/Yolov8s-100e/custom_yolov8_classification2/weights/best.pt\")\n",
        "\n",
        "# Evaluate on validation set\n",
        "metrics = model.val()\n",
        "\n",
        "# Print accuracy\n",
        "print(f\"Overall Accuracy of Val data: {metrics.top1:.2f}%\")\n",
        "\n",
        "# Validate on the test set\n",
        "metrics = model.val(split=\"test\")\n",
        "\n",
        "# Print overall accuracy\n",
        "print(f\"Overall Accuracy of Test data: {metrics.top1:.4f}\")"
      ],
      "metadata": {
        "colab": {
          "base_uri": "https://localhost:8080/"
        },
        "id": "Q0Vfw8RUjB9g",
        "outputId": "2a59c35b-1958-4e52-8129-2befd8725a95"
      },
      "execution_count": null,
      "outputs": [
        {
          "output_type": "stream",
          "name": "stdout",
          "text": [
            "Ultralytics 8.3.67 🚀 Python-3.11.11 torch-2.5.1+cu121 CPU (Intel Xeon 2.20GHz)\n",
            "YOLOv8s-cls summary (fused): 73 layers, 5,080,324 parameters, 0 gradients, 12.5 GFLOPs\n",
            "\u001b[34m\u001b[1mtrain:\u001b[0m /content/processed_dataset/train... found 3943 images in 4 classes ✅ \n",
            "\u001b[34m\u001b[1mval:\u001b[0m /content/processed_dataset/val... found 492 images in 4 classes ✅ \n",
            "\u001b[34m\u001b[1mtest:\u001b[0m /content/processed_dataset/test... found 496 images in 4 classes ✅ \n"
          ]
        },
        {
          "output_type": "stream",
          "name": "stderr",
          "text": [
            "\u001b[34m\u001b[1mval: \u001b[0mScanning /content/processed_dataset/val... 492 images, 0 corrupt: 100%|██████████| 492/492 [00:00<?, ?it/s]\n",
            "               classes   top1_acc   top5_acc: 100%|██████████| 31/31 [00:49<00:00,  1.60s/it]\n"
          ]
        },
        {
          "output_type": "stream",
          "name": "stdout",
          "text": [
            "                   all      0.878          1\n",
            "Speed: 0.0ms preprocess, 93.1ms inference, 0.0ms loss, 0.0ms postprocess per image\n",
            "Results saved to \u001b[1mruns/classify/val3\u001b[0m\n",
            "Overall Accuracy of Val data: 0.88%\n",
            "Ultralytics 8.3.67 🚀 Python-3.11.11 torch-2.5.1+cu121 CPU (Intel Xeon 2.20GHz)\n",
            "\u001b[34m\u001b[1mtrain:\u001b[0m /content/processed_dataset/train... found 3943 images in 4 classes ✅ \n",
            "\u001b[34m\u001b[1mval:\u001b[0m /content/processed_dataset/val... found 492 images in 4 classes ✅ \n",
            "\u001b[34m\u001b[1mtest:\u001b[0m /content/processed_dataset/test... found 496 images in 4 classes ✅ \n"
          ]
        },
        {
          "output_type": "stream",
          "name": "stderr",
          "text": [
            "\u001b[34m\u001b[1mtest: \u001b[0mScanning /content/processed_dataset/test... 496 images, 0 corrupt: 100%|██████████| 496/496 [00:00<?, ?it/s]\n",
            "               classes   top1_acc   top5_acc: 100%|██████████| 31/31 [00:49<00:00,  1.59s/it]\n"
          ]
        },
        {
          "output_type": "stream",
          "name": "stdout",
          "text": [
            "                   all      0.877          1\n",
            "Speed: 0.0ms preprocess, 92.6ms inference, 0.0ms loss, 0.0ms postprocess per image\n",
            "Results saved to \u001b[1mruns/classify/val4\u001b[0m\n",
            "Overall Accuracy of Test data: 0.8770\n"
          ]
        }
      ]
    },
    {
      "cell_type": "code",
      "source": [
        "!scp -r /content/runs/classify/val3 \"/content/drive/MyDrive/Validation_of_all_models/Yolov8s-100e/val\""
      ],
      "metadata": {
        "id": "sa9Kg6nDjzFI"
      },
      "execution_count": null,
      "outputs": []
    },
    {
      "cell_type": "code",
      "source": [
        "!scp -r /content/runs/classify/val4 \"/content/drive/MyDrive/Validation_of_all_models/Yolov8s-100e/test\""
      ],
      "metadata": {
        "id": "uhTH6rWbj4nM"
      },
      "execution_count": null,
      "outputs": []
    },
    {
      "cell_type": "markdown",
      "source": [
        "**Medium**"
      ],
      "metadata": {
        "id": "fldD07vCiYXd"
      }
    },
    {
      "cell_type": "code",
      "source": [
        "from ultralytics import YOLO\n",
        "\n",
        "# Load trained model\n",
        "model = YOLO(\"/content/drive/MyDrive/Runs/Yolov8m-100e/weights/best.pt\")\n",
        "\n",
        "# Evaluate on validation set\n",
        "metrics = model.val()\n",
        "\n",
        "# Print accuracy\n",
        "print(f\"Overall Accuracy of Val data: {metrics.top1:.2f}%\")\n",
        "\n",
        "# Validate on the test set\n",
        "metrics = model.val(split=\"test\")\n",
        "\n",
        "# Print overall accuracy\n",
        "print(f\"Overall Accuracy of Test data: {metrics.top1:.4f}\")"
      ],
      "metadata": {
        "colab": {
          "base_uri": "https://localhost:8080/"
        },
        "id": "WAKgKTfBkAA1",
        "outputId": "813dc6ed-ba3c-4c6f-f60a-db3cd79994b9"
      },
      "execution_count": null,
      "outputs": [
        {
          "output_type": "stream",
          "name": "stdout",
          "text": [
            "Ultralytics 8.3.67 🚀 Python-3.11.11 torch-2.5.1+cu121 CPU (Intel Xeon 2.20GHz)\n",
            "YOLOv8m-cls summary (fused): 103 layers, 15,767,780 parameters, 0 gradients, 41.6 GFLOPs\n",
            "\u001b[34m\u001b[1mtrain:\u001b[0m /content/processed_dataset/train... found 3943 images in 4 classes ✅ \n",
            "\u001b[34m\u001b[1mval:\u001b[0m /content/processed_dataset/val... found 492 images in 4 classes ✅ \n",
            "\u001b[34m\u001b[1mtest:\u001b[0m /content/processed_dataset/test... found 496 images in 4 classes ✅ \n"
          ]
        },
        {
          "output_type": "stream",
          "name": "stderr",
          "text": [
            "\u001b[34m\u001b[1mval: \u001b[0mScanning /content/processed_dataset/val... 492 images, 0 corrupt: 100%|██████████| 492/492 [00:00<?, ?it/s]\n",
            "               classes   top1_acc   top5_acc: 100%|██████████| 31/31 [02:17<00:00,  4.44s/it]\n"
          ]
        },
        {
          "output_type": "stream",
          "name": "stdout",
          "text": [
            "                   all      0.898          1\n",
            "Speed: 0.0ms preprocess, 273.7ms inference, 0.0ms loss, 0.0ms postprocess per image\n",
            "Results saved to \u001b[1mruns/classify/val5\u001b[0m\n",
            "Overall Accuracy of Val data: 0.90%\n",
            "Ultralytics 8.3.67 🚀 Python-3.11.11 torch-2.5.1+cu121 CPU (Intel Xeon 2.20GHz)\n",
            "\u001b[34m\u001b[1mtrain:\u001b[0m /content/processed_dataset/train... found 3943 images in 4 classes ✅ \n",
            "\u001b[34m\u001b[1mval:\u001b[0m /content/processed_dataset/val... found 492 images in 4 classes ✅ \n",
            "\u001b[34m\u001b[1mtest:\u001b[0m /content/processed_dataset/test... found 496 images in 4 classes ✅ \n"
          ]
        },
        {
          "output_type": "stream",
          "name": "stderr",
          "text": [
            "\u001b[34m\u001b[1mtest: \u001b[0mScanning /content/processed_dataset/test... 496 images, 0 corrupt: 100%|██████████| 496/496 [00:00<?, ?it/s]\n",
            "               classes   top1_acc   top5_acc: 100%|██████████| 31/31 [02:14<00:00,  4.34s/it]\n"
          ]
        },
        {
          "output_type": "stream",
          "name": "stdout",
          "text": [
            "                   all      0.877          1\n",
            "Speed: 0.0ms preprocess, 264.2ms inference, 0.0ms loss, 0.0ms postprocess per image\n",
            "Results saved to \u001b[1mruns/classify/val6\u001b[0m\n",
            "Overall Accuracy of Test data: 0.8770\n"
          ]
        }
      ]
    },
    {
      "cell_type": "code",
      "source": [
        "!scp -r /content/runs/classify/val5 \"/content/drive/MyDrive/Validation_of_all_models/Yolov8m-100e/val\""
      ],
      "metadata": {
        "id": "d2sWI6Tskk81"
      },
      "execution_count": null,
      "outputs": []
    },
    {
      "cell_type": "code",
      "source": [
        "!scp -r /content/runs/classify/val6 \"/content/drive/MyDrive/Validation_of_all_models/Yolov8m-100e/test\""
      ],
      "metadata": {
        "id": "pJsqqMA8lS62"
      },
      "execution_count": null,
      "outputs": []
    },
    {
      "cell_type": "markdown",
      "source": [
        "**Large**"
      ],
      "metadata": {
        "id": "2RhzBDJcibOl"
      }
    },
    {
      "cell_type": "code",
      "source": [
        "from ultralytics import YOLO\n",
        "\n",
        "# Load trained model\n",
        "model = YOLO(\"/content/drive/MyDrive/Runs/Yolov8l-100e/weights/best.pt\")\n",
        "\n",
        "# Evaluate on validation set\n",
        "metrics = model.val()\n",
        "\n",
        "# Print accuracy\n",
        "print(f\"Overall Accuracy of Val data: {metrics.top1:.2f}%\")\n",
        "\n",
        "# Validate on the test set\n",
        "metrics = model.val(split=\"test\")\n",
        "\n",
        "# Print overall accuracy\n",
        "print(f\"Overall Accuracy of Test data: {metrics.top1:.4f}\")"
      ],
      "metadata": {
        "colab": {
          "base_uri": "https://localhost:8080/"
        },
        "id": "bLHe36nClfkY",
        "outputId": "a1ec5006-8297-4da1-8267-582981c057ca"
      },
      "execution_count": null,
      "outputs": [
        {
          "output_type": "stream",
          "name": "stdout",
          "text": [
            "Ultralytics 8.3.67 🚀 Python-3.11.11 torch-2.5.1+cu121 CPU (Intel Xeon 2.20GHz)\n",
            "YOLOv8l-cls summary (fused): 133 layers, 36,189,700 parameters, 0 gradients, 98.7 GFLOPs\n",
            "\u001b[34m\u001b[1mtrain:\u001b[0m /content/processed_dataset/train... found 3943 images in 4 classes ✅ \n",
            "\u001b[34m\u001b[1mval:\u001b[0m /content/processed_dataset/val... found 492 images in 4 classes ✅ \n",
            "\u001b[34m\u001b[1mtest:\u001b[0m /content/processed_dataset/test... found 496 images in 4 classes ✅ \n"
          ]
        },
        {
          "output_type": "stream",
          "name": "stderr",
          "text": [
            "\u001b[34m\u001b[1mval: \u001b[0mScanning /content/processed_dataset/val... 492 images, 0 corrupt: 100%|██████████| 492/492 [00:00<?, ?it/s]\n",
            "               classes   top1_acc   top5_acc: 100%|██████████| 31/31 [04:44<00:00,  9.19s/it]\n"
          ]
        },
        {
          "output_type": "stream",
          "name": "stdout",
          "text": [
            "                   all      0.894          1\n",
            "Speed: 0.0ms preprocess, 573.0ms inference, 0.0ms loss, 0.0ms postprocess per image\n",
            "Results saved to \u001b[1mruns/classify/val7\u001b[0m\n",
            "Overall Accuracy of Val data: 0.89%\n",
            "Ultralytics 8.3.67 🚀 Python-3.11.11 torch-2.5.1+cu121 CPU (Intel Xeon 2.20GHz)\n",
            "\u001b[34m\u001b[1mtrain:\u001b[0m /content/processed_dataset/train... found 3943 images in 4 classes ✅ \n",
            "\u001b[34m\u001b[1mval:\u001b[0m /content/processed_dataset/val... found 492 images in 4 classes ✅ \n",
            "\u001b[34m\u001b[1mtest:\u001b[0m /content/processed_dataset/test... found 496 images in 4 classes ✅ \n"
          ]
        },
        {
          "output_type": "stream",
          "name": "stderr",
          "text": [
            "\u001b[34m\u001b[1mtest: \u001b[0mScanning /content/processed_dataset/test... 496 images, 0 corrupt: 100%|██████████| 496/496 [00:00<?, ?it/s]\n",
            "               classes   top1_acc   top5_acc: 100%|██████████| 31/31 [04:41<00:00,  9.07s/it]\n"
          ]
        },
        {
          "output_type": "stream",
          "name": "stdout",
          "text": [
            "                   all      0.891          1\n",
            "Speed: 0.0ms preprocess, 561.1ms inference, 0.0ms loss, 0.0ms postprocess per image\n",
            "Results saved to \u001b[1mruns/classify/val8\u001b[0m\n",
            "Overall Accuracy of Test data: 0.8911\n"
          ]
        }
      ]
    },
    {
      "cell_type": "code",
      "source": [
        "!scp -r /content/runs/classify/val7 \"/content/drive/MyDrive/Validation_of_all_models/Yolov8l-100e/val\""
      ],
      "metadata": {
        "id": "7J_ZCCqHl9QP"
      },
      "execution_count": null,
      "outputs": []
    },
    {
      "cell_type": "code",
      "source": [
        "!scp -r /content/runs/classify/val8 \"/content/drive/MyDrive/Validation_of_all_models/Yolov8l-100e/test\""
      ],
      "metadata": {
        "id": "us_dU0GDoH6i"
      },
      "execution_count": null,
      "outputs": []
    },
    {
      "cell_type": "markdown",
      "source": [
        "**XLarge**"
      ],
      "metadata": {
        "id": "GBmwKWSMidhc"
      }
    },
    {
      "cell_type": "code",
      "source": [
        "from ultralytics import YOLO\n",
        "\n",
        "# Load trained model\n",
        "model = YOLO(\"/content/drive/MyDrive/Runs/Yolov8x-100e/weights/best.pt\")\n",
        "\n",
        "# Evaluate on validation set\n",
        "metrics = model.val()\n",
        "\n",
        "# Print accuracy\n",
        "print(f\"Overall Accuracy of Val data: {metrics.top1:.2f}%\")\n",
        "\n",
        "# Validate on the test set\n",
        "metrics = model.val(split=\"test\")\n",
        "\n",
        "# Print overall accuracy\n",
        "print(f\"Overall Accuracy of Test data: {metrics.top1:.4f}\")"
      ],
      "metadata": {
        "colab": {
          "base_uri": "https://localhost:8080/"
        },
        "id": "ZDV4Mca4oNGk",
        "outputId": "7aa8fb08-4d29-4def-9df9-58698527ff9c"
      },
      "execution_count": null,
      "outputs": [
        {
          "output_type": "stream",
          "name": "stdout",
          "text": [
            "Ultralytics 8.3.67 🚀 Python-3.11.11 torch-2.5.1+cu121 CPU (Intel Xeon 2.20GHz)\n",
            "YOLOv8x-cls summary (fused): 133 layers, 56,128,324 parameters, 0 gradients, 153.8 GFLOPs\n",
            "\u001b[34m\u001b[1mtrain:\u001b[0m /content/processed_dataset/train... found 3943 images in 4 classes ✅ \n",
            "\u001b[34m\u001b[1mval:\u001b[0m /content/processed_dataset/val... found 492 images in 4 classes ✅ \n",
            "\u001b[34m\u001b[1mtest:\u001b[0m /content/processed_dataset/test... found 496 images in 4 classes ✅ \n"
          ]
        },
        {
          "output_type": "stream",
          "name": "stderr",
          "text": [
            "\u001b[34m\u001b[1mval: \u001b[0mScanning /content/processed_dataset/val... 492 images, 0 corrupt: 100%|██████████| 492/492 [00:00<?, ?it/s]\n",
            "               classes   top1_acc   top5_acc: 100%|██████████| 31/31 [06:59<00:00, 13.52s/it]\n"
          ]
        },
        {
          "output_type": "stream",
          "name": "stdout",
          "text": [
            "                   all      0.907          1\n",
            "Speed: 0.0ms preprocess, 845.7ms inference, 0.0ms loss, 0.0ms postprocess per image\n",
            "Results saved to \u001b[1mruns/classify/val9\u001b[0m\n",
            "Overall Accuracy of Val data: 0.91%\n",
            "Ultralytics 8.3.67 🚀 Python-3.11.11 torch-2.5.1+cu121 CPU (Intel Xeon 2.20GHz)\n",
            "\u001b[34m\u001b[1mtrain:\u001b[0m /content/processed_dataset/train... found 3943 images in 4 classes ✅ \n",
            "\u001b[34m\u001b[1mval:\u001b[0m /content/processed_dataset/val... found 492 images in 4 classes ✅ \n",
            "\u001b[34m\u001b[1mtest:\u001b[0m /content/processed_dataset/test... found 496 images in 4 classes ✅ \n"
          ]
        },
        {
          "output_type": "stream",
          "name": "stderr",
          "text": [
            "\u001b[34m\u001b[1mtest: \u001b[0mScanning /content/processed_dataset/test... 496 images, 0 corrupt: 100%|██████████| 496/496 [00:00<?, ?it/s]\n",
            "               classes   top1_acc   top5_acc: 100%|██████████| 31/31 [06:50<00:00, 13.26s/it]\n"
          ]
        },
        {
          "output_type": "stream",
          "name": "stdout",
          "text": [
            "                   all      0.889          1\n",
            "Speed: 0.0ms preprocess, 822.6ms inference, 0.0ms loss, 0.0ms postprocess per image\n",
            "Results saved to \u001b[1mruns/classify/val10\u001b[0m\n",
            "Overall Accuracy of Test data: 0.8891\n"
          ]
        }
      ]
    },
    {
      "cell_type": "code",
      "source": [
        "!scp -r /content/runs/classify/val9 \"/content/drive/MyDrive/Validation_of_all_models/Yolov8x-100e/val\""
      ],
      "metadata": {
        "id": "cHkCxRK3qDAk"
      },
      "execution_count": null,
      "outputs": []
    },
    {
      "cell_type": "code",
      "source": [
        "!scp -r /content/runs/classify/val10 \"/content/drive/MyDrive/Validation_of_all_models/Yolov8x-100e/test\""
      ],
      "metadata": {
        "id": "0S2-lnQjrss0"
      },
      "execution_count": null,
      "outputs": []
    },
    {
      "cell_type": "markdown",
      "source": [
        "**YOLO11**"
      ],
      "metadata": {
        "id": "E7xpNr9xijsd"
      }
    },
    {
      "cell_type": "markdown",
      "source": [
        "**Nano**"
      ],
      "metadata": {
        "id": "yIrztOzwilxo"
      }
    },
    {
      "cell_type": "code",
      "source": [
        "from ultralytics import YOLO\n",
        "\n",
        "# Load trained model\n",
        "model = YOLO(\"/content/drive/MyDrive/Runs/Yolo11n-100e/weights/best.pt\")\n",
        "\n",
        "# Evaluate on validation set\n",
        "metrics = model.val()\n",
        "\n",
        "# Print accuracy\n",
        "print(f\"Overall Accuracy of Val data: {metrics.top1:.2f}%\")\n",
        "\n",
        "# Validate on the test set\n",
        "metrics = model.val(split=\"test\")\n",
        "\n",
        "# Print overall accuracy\n",
        "print(f\"Overall Accuracy of Test data: {metrics.top1:.4f}\")"
      ],
      "metadata": {
        "colab": {
          "base_uri": "https://localhost:8080/"
        },
        "id": "ej9stIIYrzqu",
        "outputId": "7e1bf2c1-7ca7-4962-b94c-d368898bc4cd"
      },
      "execution_count": null,
      "outputs": [
        {
          "output_type": "stream",
          "name": "stdout",
          "text": [
            "Ultralytics 8.3.67 🚀 Python-3.11.11 torch-2.5.1+cu121 CPU (Intel Xeon 2.20GHz)\n",
            "YOLO11n-cls summary (fused): 112 layers, 1,531,148 parameters, 0 gradients, 3.2 GFLOPs\n",
            "\u001b[34m\u001b[1mtrain:\u001b[0m /content/processed_dataset/train... found 3943 images in 4 classes ✅ \n",
            "\u001b[34m\u001b[1mval:\u001b[0m /content/processed_dataset/val... found 492 images in 4 classes ✅ \n",
            "\u001b[34m\u001b[1mtest:\u001b[0m /content/processed_dataset/test... found 496 images in 4 classes ✅ \n"
          ]
        },
        {
          "output_type": "stream",
          "name": "stderr",
          "text": [
            "\u001b[34m\u001b[1mval: \u001b[0mScanning /content/processed_dataset/val... 492 images, 0 corrupt: 100%|██████████| 492/492 [00:00<?, ?it/s]\n",
            "               classes   top1_acc   top5_acc: 100%|██████████| 31/31 [00:15<00:00,  2.00it/s]\n"
          ]
        },
        {
          "output_type": "stream",
          "name": "stdout",
          "text": [
            "                   all       0.87          1\n",
            "Speed: 0.0ms preprocess, 25.6ms inference, 0.0ms loss, 0.0ms postprocess per image\n",
            "Results saved to \u001b[1mruns/classify/val11\u001b[0m\n",
            "Overall Accuracy of Val data: 0.87%\n",
            "Ultralytics 8.3.67 🚀 Python-3.11.11 torch-2.5.1+cu121 CPU (Intel Xeon 2.20GHz)\n",
            "\u001b[34m\u001b[1mtrain:\u001b[0m /content/processed_dataset/train... found 3943 images in 4 classes ✅ \n",
            "\u001b[34m\u001b[1mval:\u001b[0m /content/processed_dataset/val... found 492 images in 4 classes ✅ \n",
            "\u001b[34m\u001b[1mtest:\u001b[0m /content/processed_dataset/test... found 496 images in 4 classes ✅ \n"
          ]
        },
        {
          "output_type": "stream",
          "name": "stderr",
          "text": [
            "\u001b[34m\u001b[1mtest: \u001b[0mScanning /content/processed_dataset/test... 496 images, 0 corrupt: 100%|██████████| 496/496 [00:00<?, ?it/s]\n",
            "               classes   top1_acc   top5_acc: 100%|██████████| 31/31 [00:15<00:00,  1.99it/s]\n"
          ]
        },
        {
          "output_type": "stream",
          "name": "stdout",
          "text": [
            "                   all      0.839          1\n",
            "Speed: 0.0ms preprocess, 25.5ms inference, 0.0ms loss, 0.0ms postprocess per image\n",
            "Results saved to \u001b[1mruns/classify/val12\u001b[0m\n",
            "Overall Accuracy of Test data: 0.8387\n"
          ]
        }
      ]
    },
    {
      "cell_type": "code",
      "source": [
        "!scp -r /content/runs/classify/val11 \"/content/drive/MyDrive/Validation_of_all_models/Yolo11n-100e/val\""
      ],
      "metadata": {
        "id": "tLqS09elsN8O"
      },
      "execution_count": null,
      "outputs": []
    },
    {
      "cell_type": "code",
      "source": [
        "!scp -r /content/runs/classify/val12 \"/content/drive/MyDrive/Validation_of_all_models/Yolo11n-100e/test\""
      ],
      "metadata": {
        "id": "1sBvzSlNsg8J"
      },
      "execution_count": null,
      "outputs": []
    },
    {
      "cell_type": "code",
      "execution_count": null,
      "metadata": {
        "colab": {
          "base_uri": "https://localhost:8080/"
        },
        "id": "ajq-LSEAHpo4",
        "outputId": "521cba86-49f2-4748-fcc7-475ce502fd7d"
      },
      "outputs": [
        {
          "output_type": "stream",
          "name": "stdout",
          "text": [
            "/content/drive/MyDrive/Runs/Yolov8x-100e/weights/best.pt\n"
          ]
        }
      ],
      "source": [
        "ls \"/content/drive/MyDrive/Runs/Yolov8x-100e/weights/best.pt\""
      ]
    },
    {
      "cell_type": "markdown",
      "source": [
        "# Calculating Recall and Precision bold text"
      ],
      "metadata": {
        "id": "aQsdTTiTs6uN"
      }
    },
    {
      "cell_type": "code",
      "source": [
        "import numpy as np"
      ],
      "metadata": {
        "id": "xS0ItHC21koJ"
      },
      "execution_count": 1,
      "outputs": []
    },
    {
      "cell_type": "markdown",
      "source": [
        "**YOLOv8**"
      ],
      "metadata": {
        "id": "M1wQUb9uivxd"
      }
    },
    {
      "cell_type": "markdown",
      "source": [
        "**Nano**"
      ],
      "metadata": {
        "id": "3JhRWbAIixZR"
      }
    },
    {
      "cell_type": "code",
      "source": [
        "\"\"\"Assume 'cm' is your confusion matrix loaded from the saved image or directly if available\n",
        "cm = np.array([...]) # Your confusion matrix as a numpy array\n",
        "Calculating True Positives (TP), False Positives (FP), True Negatives (TN), False Negatives (FN)\"\"\"\n",
        "\n",
        "print(\"Precision and Recall value for val data in Yolov8n-cls\")\n",
        "print()\n",
        "\n",
        "cm = np.array([[105,6,10,9],[4,115,0,9],[0,1,112,1],[14,1,1,104]])\n",
        "TP = np.diag(cm)\n",
        "FP = np.sum(cm, axis=0) - TP\n",
        "FN = np.sum(cm, axis=1) - TP\n",
        "TN = np.sum(cm) - (FP + FN + TP)\n",
        "\n",
        "#Precision and Recall for each class\n",
        "precision = TP / (TP + FP)\n",
        "recall = TP / (TP + FN)\n",
        "\n",
        "#For overall metrics, you might average or sum these depending on the context\n",
        "precision_overall = np.mean(precision)\n",
        "recall_overall = np.mean(recall)\n",
        "\n",
        "print(f\"Precision per class: {precision}\")\n",
        "print(f\"Recall per class: {recall}\")\n",
        "print(f\"Overall Precision: {precision_overall}\")\n",
        "print(f\"Overall Recall: {recall_overall}\")"
      ],
      "metadata": {
        "colab": {
          "base_uri": "https://localhost:8080/"
        },
        "id": "E2QTiqqP17cp",
        "outputId": "7577a76a-88ce-4f9e-c7af-77af04ea8699"
      },
      "execution_count": null,
      "outputs": [
        {
          "output_type": "stream",
          "name": "stdout",
          "text": [
            "Precision and Recall value for val data in Yolov8n-cls\n",
            "\n",
            "Precision per class: [    0.85366     0.93496     0.91057     0.84553]\n",
            "Recall per class: [    0.80769     0.89844     0.98246     0.86667]\n",
            "Overall Precision: 0.8861788617886179\n",
            "Overall Recall: 0.8888131536774629\n"
          ]
        }
      ]
    },
    {
      "cell_type": "code",
      "source": [
        "\"\"\"Assume 'cm' is your confusion matrix loaded from the saved image or directly if available\n",
        "cm = np.array([...]) # Your confusion matrix as a numpy array\n",
        "Calculating True Positives (TP), False Positives (FP), True Negatives (TN), False Negatives (FN)\"\"\"\n",
        "\n",
        "print(\"Precision and Recall value for test data in Yolov8n-cls\")\n",
        "print()\n",
        "\n",
        "cm = np.array([[102,8,12,13],\n",
        "              [4,110,2,3],\n",
        "              [8,3,103,1],\n",
        "              [10,3,7,107]])\n",
        "TP = np.diag(cm)\n",
        "FP = np.sum(cm, axis=0) - TP\n",
        "FN = np.sum(cm, axis=1) - TP\n",
        "TN = np.sum(cm) - (FP + FN + TP)\n",
        "\n",
        "#Precision and Recall for each class\n",
        "precision = TP / (TP + FP)\n",
        "recall = TP / (TP + FN)\n",
        "\n",
        "#For overall metrics, you might average or sum these depending on the context\n",
        "precision_overall = np.mean(precision)\n",
        "recall_overall = np.mean(recall)\n",
        "\n",
        "print(f\"Precision per class: {precision}\")\n",
        "print(f\"Recall per class: {recall}\")\n",
        "print(f\"Overall Precision: {precision_overall}\")\n",
        "print(f\"Overall Recall: {recall_overall}\")"
      ],
      "metadata": {
        "colab": {
          "base_uri": "https://localhost:8080/"
        },
        "id": "j0eKj6JPtJgQ",
        "outputId": "2e6df288-7429-4c32-aad6-d7b8fb8f33e4"
      },
      "execution_count": null,
      "outputs": [
        {
          "output_type": "stream",
          "name": "stdout",
          "text": [
            "Precision and Recall value for test data in Yolov8n-cls\n",
            "\n",
            "Precision per class: [    0.82258      0.8871     0.83065      0.8629]\n",
            "Recall per class: [    0.75556     0.92437     0.89565     0.84252]\n",
            "Overall Precision: 0.8508064516129032\n",
            "Overall Recall: 0.8545242906017821\n"
          ]
        }
      ]
    },
    {
      "cell_type": "markdown",
      "source": [
        "**Small**"
      ],
      "metadata": {
        "id": "fIG6IdF2i0hg"
      }
    },
    {
      "cell_type": "code",
      "source": [
        "print(\"Precision and Recall value for val data in Yolov8s-cls\")\n",
        "print()\n",
        "\n",
        "cm = np.array([[101,3,7,6],[8,115,2,13],[6,2,113,1],[8,3,1,103]])\n",
        "TP = np.diag(cm)\n",
        "FP = np.sum(cm, axis=0) - TP\n",
        "FN = np.sum(cm, axis=1) - TP\n",
        "TN = np.sum(cm) - (FP + FN + TP)\n",
        "\n",
        "#Precision and Recall for each class\n",
        "precision = TP / (TP + FP)\n",
        "recall = TP / (TP + FN)\n",
        "\n",
        "#For overall metrics, you might average or sum these depending on the context\n",
        "precision_overall = np.mean(precision)\n",
        "recall_overall = np.mean(recall)\n",
        "\n",
        "print(f\"Precision per class: {precision}\")\n",
        "print(f\"Recall per class: {recall}\")\n",
        "print(f\"Overall Precision: {precision_overall}\")\n",
        "print(f\"Overall Recall: {recall_overall}\")"
      ],
      "metadata": {
        "colab": {
          "base_uri": "https://localhost:8080/"
        },
        "id": "G5XhClzW27Kq",
        "outputId": "0d295a85-b26c-490b-e61c-17194145c3e4"
      },
      "execution_count": null,
      "outputs": [
        {
          "output_type": "stream",
          "name": "stdout",
          "text": [
            "Precision and Recall value for val data in Yolov8s-cls\n",
            "\n",
            "Precision per class: [    0.82114     0.93496      0.9187      0.8374]\n",
            "Recall per class: [    0.86325     0.83333     0.92623     0.89565]\n",
            "Overall Precision: 0.8780487804878049\n",
            "Overall Recall: 0.8796157196727404\n"
          ]
        }
      ]
    },
    {
      "cell_type": "code",
      "source": [
        "print(\"Precision and Recall value for test data in Yolov8s-cls\")\n",
        "print()\n",
        "\n",
        "cm = np.array([[98,4,2,10],[4,116,2,6],[10,3,118,5],[12,1,2,103]])\n",
        "TP = np.diag(cm)\n",
        "FP = np.sum(cm, axis=0) - TP\n",
        "FN = np.sum(cm, axis=1) - TP\n",
        "TN = np.sum(cm) - (FP + FN + TP)\n",
        "\n",
        "#Precision and Recall for each class\n",
        "precision = TP / (TP + FP)\n",
        "recall = TP / (TP + FN)\n",
        "\n",
        "#For overall metrics, you might average or sum these depending on the context\n",
        "precision_overall = np.mean(precision)\n",
        "recall_overall = np.mean(recall)\n",
        "\n",
        "print(f\"Precision per class: {precision}\")\n",
        "print(f\"Recall per class: {recall}\")\n",
        "print(f\"Overall Precision: {precision_overall}\")\n",
        "print(f\"Overall Recall: {recall_overall}\")"
      ],
      "metadata": {
        "colab": {
          "base_uri": "https://localhost:8080/"
        },
        "id": "kdD7D_5r2QJ_",
        "outputId": "d4c49720-5eaa-451e-8ec7-e1f63b769a0d"
      },
      "execution_count": null,
      "outputs": [
        {
          "output_type": "stream",
          "name": "stdout",
          "text": [
            "Precision and Recall value for test data in Yolov8s-cls\n",
            "\n",
            "Precision per class: [    0.79032     0.93548     0.95161     0.83065]\n",
            "Recall per class: [    0.85965     0.90625     0.86765     0.87288]\n",
            "Overall Precision: 0.877016129032258\n",
            "Overall Recall: 0.8766068843906876\n"
          ]
        }
      ]
    },
    {
      "cell_type": "markdown",
      "source": [
        "**Medium**"
      ],
      "metadata": {
        "id": "-qwUzJUVi2ze"
      }
    },
    {
      "cell_type": "code",
      "source": [
        "print(\"Precision and Recall value for val data in Yolov8m-cls\")\n",
        "print()\n",
        "\n",
        "cm = np.array([[104,7,6,7],[0,112,0,5],[9,1,116,1],[10,3,1,110]])\n",
        "TP = np.diag(cm)\n",
        "FP = np.sum(cm, axis=0) - TP\n",
        "FN = np.sum(cm, axis=1) - TP\n",
        "TN = np.sum(cm) - (FP + FN + TP)\n",
        "\n",
        "#Precision and Recall for each class\n",
        "precision = TP / (TP + FP)\n",
        "recall = TP / (TP + FN)\n",
        "\n",
        "#For overall metrics, you might average or sum these depending on the context\n",
        "precision_overall = np.mean(precision)\n",
        "recall_overall = np.mean(recall)\n",
        "\n",
        "print(f\"Precision per class: {precision}\")\n",
        "print(f\"Recall per class: {recall}\")\n",
        "print(f\"Overall Precision: {precision_overall}\")\n",
        "print(f\"Overall Recall: {recall_overall}\")"
      ],
      "metadata": {
        "colab": {
          "base_uri": "https://localhost:8080/"
        },
        "id": "NU76AGVveLCv",
        "outputId": "dc238250-be8a-4077-a80a-95e1ecc01305"
      },
      "execution_count": 2,
      "outputs": [
        {
          "output_type": "stream",
          "name": "stdout",
          "text": [
            "Precision and Recall value for val data in Yolov8m-cls\n",
            "\n",
            "Precision per class: [0.84552846 0.91056911 0.94308943 0.89430894]\n",
            "Recall per class: [0.83870968 0.95726496 0.91338583 0.88709677]\n",
            "Overall Precision: 0.8983739837398375\n",
            "Overall Recall: 0.8991143089123785\n"
          ]
        }
      ]
    },
    {
      "cell_type": "code",
      "source": [
        "print(\"Precision and Recall value for test data in Yolov8m-cls\")\n",
        "print()\n",
        "\n",
        "cm = np.array([[101,10,3,6],[2,110,4,4],[9,2,114,4],[12,2,3,110]])\n",
        "TP = np.diag(cm)\n",
        "FP = np.sum(cm, axis=0) - TP\n",
        "FN = np.sum(cm, axis=1) - TP\n",
        "TN = np.sum(cm) - (FP + FN + TP)\n",
        "\n",
        "#Precision and Recall for each class\n",
        "precision = TP / (TP + FP)\n",
        "recall = TP / (TP + FN)\n",
        "\n",
        "#For overall metrics, you might average or sum these depending on the context\n",
        "precision_overall = np.mean(precision)\n",
        "recall_overall = np.mean(recall)\n",
        "\n",
        "print(f\"Precision per class: {precision}\")\n",
        "print(f\"Recall per class: {recall}\")\n",
        "print(f\"Overall Precision: {precision_overall}\")\n",
        "print(f\"Overall Recall: {recall_overall}\")"
      ],
      "metadata": {
        "colab": {
          "base_uri": "https://localhost:8080/"
        },
        "id": "2Tb__KVVey39",
        "outputId": "09e96e66-4c4c-445a-8788-2c3533e113dd"
      },
      "execution_count": 3,
      "outputs": [
        {
          "output_type": "stream",
          "name": "stdout",
          "text": [
            "Precision and Recall value for test data in Yolov8m-cls\n",
            "\n",
            "Precision per class: [0.81451613 0.88709677 0.91935484 0.88709677]\n",
            "Recall per class: [0.84166667 0.91666667 0.88372093 0.86614173]\n",
            "Overall Precision: 0.8770161290322581\n",
            "Overall Recall: 0.8770489989623391\n"
          ]
        }
      ]
    },
    {
      "cell_type": "markdown",
      "source": [
        "**Large**"
      ],
      "metadata": {
        "id": "4qcafFgSi6GD"
      }
    },
    {
      "cell_type": "code",
      "source": [
        "print(\"Precision and Recall value for val data in Yolov8l-cls\")\n",
        "print()\n",
        "\n",
        "cm = np.array([[104,5,3,6],[2,110,2,6],[3,2,115,0],[14,6,3,111]])\n",
        "TP = np.diag(cm)\n",
        "FP = np.sum(cm, axis=0) - TP\n",
        "FN = np.sum(cm, axis=1) - TP\n",
        "TN = np.sum(cm) - (FP + FN + TP)\n",
        "\n",
        "#Precision and Recall for each class\n",
        "precision = TP / (TP + FP)\n",
        "recall = TP / (TP + FN)\n",
        "\n",
        "#For overall metrics, you might average or sum these depending on the context\n",
        "precision_overall = np.mean(precision)\n",
        "recall_overall = np.mean(recall)\n",
        "\n",
        "print(f\"Precision per class: {precision}\")\n",
        "print(f\"Recall per class: {recall}\")\n",
        "print(f\"Overall Precision: {precision_overall}\")\n",
        "print(f\"Overall Recall: {recall_overall}\")"
      ],
      "metadata": {
        "colab": {
          "base_uri": "https://localhost:8080/"
        },
        "id": "zJWUwJBqe39y",
        "outputId": "7c2c392c-31a0-4d26-f7c4-25c0c5b64884"
      },
      "execution_count": 4,
      "outputs": [
        {
          "output_type": "stream",
          "name": "stdout",
          "text": [
            "Precision and Recall value for val data in Yolov8l-cls\n",
            "\n",
            "Precision per class: [0.84552846 0.89430894 0.93495935 0.90243902]\n",
            "Recall per class: [0.88135593 0.91666667 0.95833333 0.82835821]\n",
            "Overall Precision: 0.8943089430894309\n",
            "Overall Recall: 0.8961785352896534\n"
          ]
        }
      ]
    },
    {
      "cell_type": "code",
      "source": [
        "print(\"Precision and Recall value for test data in Yolov8l-cls\")\n",
        "print()\n",
        "\n",
        "cm = np.array([[95,7,1,6],[6,110,1,0],[10,1,120,1],[13,6,2,117]])\n",
        "TP = np.diag(cm)\n",
        "FP = np.sum(cm, axis=0) - TP\n",
        "FN = np.sum(cm, axis=1) - TP\n",
        "TN = np.sum(cm) - (FP + FN + TP)\n",
        "\n",
        "#Precision and Recall for each class\n",
        "precision = TP / (TP + FP)\n",
        "recall = TP / (TP + FN)\n",
        "\n",
        "#For overall metrics, you might average or sum these depending on the context\n",
        "precision_overall = np.mean(precision)\n",
        "recall_overall = np.mean(recall)\n",
        "\n",
        "print(f\"Precision per class: {precision}\")\n",
        "print(f\"Recall per class: {recall}\")\n",
        "print(f\"Overall Precision: {precision_overall}\")\n",
        "print(f\"Overall Recall: {recall_overall}\")"
      ],
      "metadata": {
        "colab": {
          "base_uri": "https://localhost:8080/"
        },
        "id": "3lGjvPG7e_-u",
        "outputId": "2d40c9de-7d66-4b37-ace4-d23e0973d4a3"
      },
      "execution_count": 6,
      "outputs": [
        {
          "output_type": "stream",
          "name": "stdout",
          "text": [
            "Precision and Recall value for test data in Yolov8l-cls\n",
            "\n",
            "Precision per class: [0.76612903 0.88709677 0.96774194 0.94354839]\n",
            "Recall per class: [0.87155963 0.94017094 0.90909091 0.84782609]\n",
            "Overall Precision: 0.8911290322580645\n",
            "Overall Recall: 0.8921618923114736\n"
          ]
        }
      ]
    },
    {
      "cell_type": "markdown",
      "source": [
        "**Xlarge**"
      ],
      "metadata": {
        "id": "BT0w-Yg7i9Kp"
      }
    },
    {
      "cell_type": "code",
      "source": [
        "print(\"Precision and Recall value for val data in Yolov8x-cls\")\n",
        "print()\n",
        "\n",
        "cm = np.array([[109,7,11,3],[1,109,0,2],[6,2,111,1],[7,5,1,117]])\n",
        "TP = np.diag(cm)\n",
        "FP = np.sum(cm, axis=0) - TP\n",
        "FN = np.sum(cm, axis=1) - TP\n",
        "TN = np.sum(cm) - (FP + FN + TP)\n",
        "\n",
        "#Precision and Recall for each class\n",
        "precision = TP / (TP + FP)\n",
        "recall = TP / (TP + FN)\n",
        "\n",
        "#For overall metrics, you might average or sum these depending on the context\n",
        "precision_overall = np.mean(precision)\n",
        "recall_overall = np.mean(recall)\n",
        "\n",
        "print(f\"Precision per class: {precision}\")\n",
        "print(f\"Recall per class: {recall}\")\n",
        "print(f\"Overall Precision: {precision_overall}\")\n",
        "print(f\"Overall Recall: {recall_overall}\")"
      ],
      "metadata": {
        "colab": {
          "base_uri": "https://localhost:8080/"
        },
        "id": "Lm04eN1IfEhZ",
        "outputId": "73d44595-bad5-4a3a-852e-0f192a23b8c1"
      },
      "execution_count": 7,
      "outputs": [
        {
          "output_type": "stream",
          "name": "stdout",
          "text": [
            "Precision and Recall value for val data in Yolov8x-cls\n",
            "\n",
            "Precision per class: [0.88617886 0.88617886 0.90243902 0.95121951]\n",
            "Recall per class: [0.83846154 0.97321429 0.925      0.9       ]\n",
            "Overall Precision: 0.9065040650406504\n",
            "Overall Recall: 0.9091689560439561\n"
          ]
        }
      ]
    },
    {
      "cell_type": "code",
      "source": [
        "print(\"Precision and Recall value for test data in Yolov8x-cls\")\n",
        "print()\n",
        "\n",
        "cm = np.array([[109,11,5,5],[4,107,5,1],[6,1,109,2],[5,5,5,116]])\n",
        "TP = np.diag(cm)\n",
        "FP = np.sum(cm, axis=0) - TP\n",
        "FN = np.sum(cm, axis=1) - TP\n",
        "TN = np.sum(cm) - (FP + FN + TP)\n",
        "\n",
        "#Precision and Recall for each class\n",
        "precision = TP / (TP + FP)\n",
        "recall = TP / (TP + FN)\n",
        "\n",
        "#For overall metrics, you might average or sum these depending on the context\n",
        "precision_overall = np.mean(precision)\n",
        "recall_overall = np.mean(recall)\n",
        "\n",
        "print(f\"Precision per class: {precision}\")\n",
        "print(f\"Recall per class: {recall}\")\n",
        "print(f\"Overall Precision: {precision_overall}\")\n",
        "print(f\"Overall Recall: {recall_overall}\")"
      ],
      "metadata": {
        "colab": {
          "base_uri": "https://localhost:8080/"
        },
        "id": "A21tAlzpfO4N",
        "outputId": "2ced2581-f36a-4044-959d-4af525ff0769"
      },
      "execution_count": 8,
      "outputs": [
        {
          "output_type": "stream",
          "name": "stdout",
          "text": [
            "Precision and Recall value for test data in Yolov8x-cls\n",
            "\n",
            "Precision per class: [0.87903226 0.86290323 0.87903226 0.93548387]\n",
            "Recall per class: [0.83846154 0.91452991 0.92372881 0.88549618]\n",
            "Overall Precision: 0.8891129032258065\n",
            "Overall Recall: 0.8905541124392204\n"
          ]
        }
      ]
    },
    {
      "cell_type": "markdown",
      "source": [
        "**YOLO11**"
      ],
      "metadata": {
        "id": "XuveRlDai_xm"
      }
    },
    {
      "cell_type": "markdown",
      "source": [
        "**Nano**"
      ],
      "metadata": {
        "id": "7mbU6bXtjF3w"
      }
    },
    {
      "cell_type": "code",
      "source": [
        "print(\"Precision and Recall value for val data in Yolo11-cls\")\n",
        "print()\n",
        "\n",
        "cm = np.array([[99,3,8,7],[7,113,2,9],[5,4,111,2],[12,3,2,105]])\n",
        "TP = np.diag(cm)\n",
        "FP = np.sum(cm, axis=0) - TP\n",
        "FN = np.sum(cm, axis=1) - TP\n",
        "TN = np.sum(cm) - (FP + FN + TP)\n",
        "\n",
        "#Precision and Recall for each class\n",
        "precision = TP / (TP + FP)\n",
        "recall = TP / (TP + FN)\n",
        "\n",
        "#For overall metrics, you might average or sum these depending on the context\n",
        "precision_overall = np.mean(precision)\n",
        "recall_overall = np.mean(recall)\n",
        "\n",
        "print(f\"Precision per class: {precision}\")\n",
        "print(f\"Recall per class: {recall}\")\n",
        "print(f\"Overall Precision: {precision_overall}\")\n",
        "print(f\"Overall Recall: {recall_overall}\")"
      ],
      "metadata": {
        "colab": {
          "base_uri": "https://localhost:8080/"
        },
        "id": "KkS8D1pIfUTl",
        "outputId": "14e98153-39b9-4fb0-a1fc-39e4a367fec1"
      },
      "execution_count": 11,
      "outputs": [
        {
          "output_type": "stream",
          "name": "stdout",
          "text": [
            "Precision and Recall value for val data in Yolo11-cls\n",
            "\n",
            "Precision per class: [0.80487805 0.91869919 0.90243902 0.85365854]\n",
            "Recall per class: [0.84615385 0.86259542 0.90983607 0.86065574]\n",
            "Overall Precision: 0.8699186991869918\n",
            "Overall Recall: 0.8698102673199657\n"
          ]
        }
      ]
    },
    {
      "cell_type": "code",
      "source": [
        "print(\"Precision and Recall value for test data in Yolo11-cls\")\n",
        "print()\n",
        "\n",
        "cm = np.array([[94,1,9,7],[7,114,2,10],[7,6,105,4],[16,3,8,103]])\n",
        "TP = np.diag(cm)\n",
        "FP = np.sum(cm, axis=0) - TP\n",
        "FN = np.sum(cm, axis=1) - TP\n",
        "TN = np.sum(cm) - (FP + FN + TP)\n",
        "\n",
        "#Precision and Recall for each class\n",
        "precision = TP / (TP + FP)\n",
        "recall = TP / (TP + FN)\n",
        "\n",
        "#For overall metrics, you might average or sum these depending on the context\n",
        "precision_overall = np.mean(precision)\n",
        "recall_overall = np.mean(recall)\n",
        "\n",
        "print(f\"Precision per class: {precision}\")\n",
        "print(f\"Recall per class: {recall}\")\n",
        "print(f\"Overall Precision: {precision_overall}\")\n",
        "print(f\"Overall Recall: {recall_overall}\")"
      ],
      "metadata": {
        "colab": {
          "base_uri": "https://localhost:8080/"
        },
        "id": "zZzr59Spf6Ip",
        "outputId": "88e0d77a-dd27-4e03-c7f7-24a7ca3929bc"
      },
      "execution_count": 12,
      "outputs": [
        {
          "output_type": "stream",
          "name": "stdout",
          "text": [
            "Precision and Recall value for test data in Yolo11-cls\n",
            "\n",
            "Precision per class: [0.75806452 0.91935484 0.84677419 0.83064516]\n",
            "Recall per class: [0.84684685 0.85714286 0.86065574 0.79230769]\n",
            "Overall Precision: 0.8387096774193548\n",
            "Overall Recall: 0.8392382835005785\n"
          ]
        }
      ]
    },
    {
      "cell_type": "markdown",
      "metadata": {
        "id": "REqx8zyriLqw"
      },
      "source": [
        "best.pt for XLarge YOLOV8 model\n",
        "\n",
        "---\n",
        "\n",
        "\"/content/drive/MyDrive/YoloDataset/custom_yolov8_classification3/weights/best.pt\""
      ]
    },
    {
      "cell_type": "markdown",
      "source": [
        "# Prediction"
      ],
      "metadata": {
        "id": "bZM_duR3lEwn"
      }
    },
    {
      "cell_type": "code",
      "execution_count": 18,
      "metadata": {
        "id": "DDjd7ywyxre3",
        "colab": {
          "base_uri": "https://localhost:8080/"
        },
        "outputId": "f60579a8-e989-44cb-8c3a-c3ea37643643"
      },
      "outputs": [
        {
          "output_type": "stream",
          "name": "stdout",
          "text": [
            "Creating new Ultralytics Settings v0.0.6 file ✅ \n",
            "View Ultralytics Settings with 'yolo settings' or at '/root/.config/Ultralytics/settings.json'\n",
            "Update Settings with 'yolo settings key=value', i.e. 'yolo settings runs_dir=path/to/dir'. For help see https://docs.ultralytics.com/quickstart/#ultralytics-settings.\n",
            "\n",
            "Downloading https://ultralytics.com/assets/Arial.ttf to '/root/.config/Ultralytics/Arial.ttf'...\n"
          ]
        },
        {
          "output_type": "stream",
          "name": "stderr",
          "text": [
            "100%|██████████| 755k/755k [00:00<00:00, 31.2MB/s]"
          ]
        },
        {
          "output_type": "stream",
          "name": "stdout",
          "text": [
            "image 1/1 /content/drive/MyDrive/YoloDataset/dataset/test/Psoriasis/image_117.jpg: 320x320 Psoriasis 1.00, AK 0.00, Melanoma 0.00, Acne 0.00, 902.9ms\n",
            "Speed: 59.3ms preprocess, 902.9ms inference, 0.1ms postprocess per image at shape (1, 3, 320, 320)\n",
            "Results saved to \u001b[1mruns/classify/predict\u001b[0m\n"
          ]
        },
        {
          "output_type": "stream",
          "name": "stderr",
          "text": [
            "\n"
          ]
        }
      ],
      "source": [
        "from ultralytics import YOLO\n",
        "infer = YOLO(\"/content/drive/MyDrive/YoloDataset/custom_yolov8_classification3/weights/best.pt\")\n",
        "results = infer.predict(\"/content/drive/MyDrive//YoloDataset/dataset/test/Psoriasis/image_117.jpg\", save=True)"
      ]
    },
    {
      "cell_type": "code",
      "source": [
        "!scp -r /content/runs/classify/predict \"/content/drive/MyDrive/Pred\""
      ],
      "metadata": {
        "id": "D7OTm1gM3Tlz"
      },
      "execution_count": null,
      "outputs": []
    },
    {
      "cell_type": "code",
      "source": [
        "import matplotlib.pyplot as plt\n",
        "image_path = \"/content/drive/MyDrive/Pred/image_117.jpg\"\n",
        "img = plt.imread(image_path)\n",
        "plt.imshow(img)\n",
        "plt.axis('off')\n",
        "plt.show()\n"
      ],
      "metadata": {
        "id": "YAcyPhLK4wRC",
        "colab": {
          "base_uri": "https://localhost:8080/",
          "height": 406
        },
        "outputId": "cc13c83a-ba2c-40d3-e452-4eb1d4bbc60c"
      },
      "execution_count": 24,
      "outputs": [
        {
          "output_type": "display_data",
          "data": {
            "text/plain": [
              "<Figure size 640x480 with 1 Axes>"
            ],
            "image/png": "[encoded data removed]"
          },
          "metadata": {}
        }
      ]
    },
    {
      "cell_type": "code",
      "source": [],
      "metadata": {
        "id": "usAb_YEWk3Fl"
      },
      "execution_count": null,
      "outputs": []
    }
  ],
  "metadata": {
    "colab": {
      "provenance": [],
      "authorship_tag": "ABX9TyMqUxJQ9KJbZr1AE3yynILv",
      "include_colab_link": true
    },
    "kernelspec": {
      "display_name": "Python 3",
      "name": "python3"
    },
    "language_info": {
      "name": "python"
    }
  },
  "nbformat": 4,
  "nbformat_minor": 0
}